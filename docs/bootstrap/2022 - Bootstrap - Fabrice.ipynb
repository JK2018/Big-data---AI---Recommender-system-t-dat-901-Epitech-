import pandas as pd

# load csv
df = pd.read_csv('/Users/Fabrice/Desktop/Epitech/Big-data/Boostrap/titanic.csv')
 #df
    
# display first ten row
first_ten_row = df.head(10)
 #first_ten_row

# count people with age column null
#c = (df['age'].values == 29).sum()
c = df['age'].isnull().sum()
print("Non null age : ",c)

# display people with age column null
#df.dropna(subset=['age'], inplace=True)
#df

# numbers of survivor
totalSurv = (df['survived'].values == 1).sum()
print("Total survived : ",totalSurv)

# average survived
dfTotalSurv = df.loc[df['survived'] == 1] #get df without survived = false
dfTotalSurv

ageAv = dfTotalSurv["age"].mean()
print("Age Average : ",ageAv)


# average survived
fareAv = dfTotalSurv["fare"].mean()
print("Fare Average : ",fareAv)


# Probality 

#1/Survived only
probSur = df.groupby('survived').size().div(len(df))
#probSur
#2/Survived by sex type
probSex = df.groupby(['sex', 'survived']).size().div(len(df))

probSex






#print(df.to_string())
