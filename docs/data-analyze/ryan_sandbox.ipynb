{
 "cells": [
  {
   "cell_type": "code",
   "execution_count": 22,
   "metadata": {},
   "outputs": [],
   "source": [
    "import os \n",
    "import sys\n",
    "import pandas as pd\n",
    "import numpy as np\n",
    "import matplotlib\n",
    "import matplotlib.pyplot as plt\n",
    "import turicreate as tc\n",
    "from sklearn.model_selection import train_test_split"
   ]
  },
  {
   "cell_type": "code",
   "execution_count": 23,
   "metadata": {},
   "outputs": [],
   "source": [
    "KADO_PATH = 'data/KaDo.csv'\n"
   ]
  },
  {
   "cell_type": "markdown",
   "metadata": {},
   "source": [
    "# INTEGRATE"
   ]
  },
  {
   "cell_type": "markdown",
   "metadata": {},
   "source": [
    "## View data"
   ]
  },
  {
   "cell_type": "code",
   "execution_count": 24,
   "metadata": {},
   "outputs": [
    {
     "data": {
      "text/html": [
       "<div>\n",
       "<style scoped>\n",
       "    .dataframe tbody tr th:only-of-type {\n",
       "        vertical-align: middle;\n",
       "    }\n",
       "\n",
       "    .dataframe tbody tr th {\n",
       "        vertical-align: top;\n",
       "    }\n",
       "\n",
       "    .dataframe thead th {\n",
       "        text-align: right;\n",
       "    }\n",
       "</style>\n",
       "<table border=\"1\" class=\"dataframe\">\n",
       "  <thead>\n",
       "    <tr style=\"text-align: right;\">\n",
       "      <th></th>\n",
       "      <th>TICKET_ID</th>\n",
       "      <th>MOIS_VENTE</th>\n",
       "      <th>PRIX_NET</th>\n",
       "      <th>FAMILLE</th>\n",
       "      <th>UNIVERS</th>\n",
       "      <th>MAILLE</th>\n",
       "      <th>LIBELLE</th>\n",
       "      <th>CLI_ID</th>\n",
       "    </tr>\n",
       "  </thead>\n",
       "  <tbody>\n",
       "    <tr>\n",
       "      <th>0</th>\n",
       "      <td>35592159</td>\n",
       "      <td>10</td>\n",
       "      <td>1.67</td>\n",
       "      <td>HYGIENE</td>\n",
       "      <td>HYG_DOUCHE JARDINMONDE</td>\n",
       "      <td>HYG_JDM</td>\n",
       "      <td>GD JDM4 PAMPLEMOUSSE FL 200ML</td>\n",
       "      <td>1490281</td>\n",
       "    </tr>\n",
       "    <tr>\n",
       "      <th>1</th>\n",
       "      <td>35592159</td>\n",
       "      <td>10</td>\n",
       "      <td>1.66</td>\n",
       "      <td>HYGIENE</td>\n",
       "      <td>HYG_DOUCHE JARDINMONDE</td>\n",
       "      <td>HYG_JDM</td>\n",
       "      <td>GD JDM4 PAMPLEMOUSSE FL 200ML</td>\n",
       "      <td>1490281</td>\n",
       "    </tr>\n",
       "    <tr>\n",
       "      <th>2</th>\n",
       "      <td>35592159</td>\n",
       "      <td>10</td>\n",
       "      <td>7.45</td>\n",
       "      <td>SOINS DU VISAGE</td>\n",
       "      <td>VIS_CJOUR Jeunes Specifique</td>\n",
       "      <td>VIS_JEUNE_ET_LEVRE</td>\n",
       "      <td>CR JR PARF BIO.SPE AC.SENT.50ML</td>\n",
       "      <td>1490281</td>\n",
       "    </tr>\n",
       "    <tr>\n",
       "      <th>3</th>\n",
       "      <td>35592159</td>\n",
       "      <td>10</td>\n",
       "      <td>5.95</td>\n",
       "      <td>SOINS DU VISAGE</td>\n",
       "      <td>VIS_DEMAQ AAAR</td>\n",
       "      <td>VIS_AAAR_DEMAQLOTION</td>\n",
       "      <td>EAU MICELLAIRE 3 THES FL200ML</td>\n",
       "      <td>1490281</td>\n",
       "    </tr>\n",
       "    <tr>\n",
       "      <th>4</th>\n",
       "      <td>35592159</td>\n",
       "      <td>10</td>\n",
       "      <td>1.67</td>\n",
       "      <td>HYGIENE</td>\n",
       "      <td>HYG_DOUCHE JARDINMONDE</td>\n",
       "      <td>HYG_JDM</td>\n",
       "      <td>GD JDM4 TIARE FL 200ML</td>\n",
       "      <td>1490281</td>\n",
       "    </tr>\n",
       "  </tbody>\n",
       "</table>\n",
       "</div>"
      ],
      "text/plain": [
       "   TICKET_ID  MOIS_VENTE  PRIX_NET          FAMILLE  \\\n",
       "0   35592159          10      1.67          HYGIENE   \n",
       "1   35592159          10      1.66          HYGIENE   \n",
       "2   35592159          10      7.45  SOINS DU VISAGE   \n",
       "3   35592159          10      5.95  SOINS DU VISAGE   \n",
       "4   35592159          10      1.67          HYGIENE   \n",
       "\n",
       "                       UNIVERS                MAILLE  \\\n",
       "0       HYG_DOUCHE JARDINMONDE               HYG_JDM   \n",
       "1       HYG_DOUCHE JARDINMONDE               HYG_JDM   \n",
       "2  VIS_CJOUR Jeunes Specifique    VIS_JEUNE_ET_LEVRE   \n",
       "3               VIS_DEMAQ AAAR  VIS_AAAR_DEMAQLOTION   \n",
       "4       HYG_DOUCHE JARDINMONDE               HYG_JDM   \n",
       "\n",
       "                           LIBELLE   CLI_ID  \n",
       "0    GD JDM4 PAMPLEMOUSSE FL 200ML  1490281  \n",
       "1    GD JDM4 PAMPLEMOUSSE FL 200ML  1490281  \n",
       "2  CR JR PARF BIO.SPE AC.SENT.50ML  1490281  \n",
       "3    EAU MICELLAIRE 3 THES FL200ML  1490281  \n",
       "4           GD JDM4 TIARE FL 200ML  1490281  "
      ]
     },
     "execution_count": 24,
     "metadata": {},
     "output_type": "execute_result"
    }
   ],
   "source": [
    "df_kado = pd.read_csv(KADO_PATH)\n",
    "df_kado.head()"
   ]
  },
  {
   "cell_type": "code",
   "execution_count": 25,
   "metadata": {},
   "outputs": [
    {
     "data": {
      "text/plain": [
       "(7245522, 8)"
      ]
     },
     "execution_count": 25,
     "metadata": {},
     "output_type": "execute_result"
    }
   ],
   "source": [
    "df_kado.shape"
   ]
  },
  {
   "cell_type": "code",
   "execution_count": 26,
   "metadata": {},
   "outputs": [
    {
     "data": {
      "text/plain": [
       "TICKET_ID       int64\n",
       "MOIS_VENTE      int64\n",
       "PRIX_NET      float64\n",
       "FAMILLE        object\n",
       "UNIVERS        object\n",
       "MAILLE         object\n",
       "LIBELLE        object\n",
       "CLI_ID          int64\n",
       "dtype: object"
      ]
     },
     "execution_count": 26,
     "metadata": {},
     "output_type": "execute_result"
    }
   ],
   "source": [
    "df_kado.dtypes"
   ]
  },
  {
   "cell_type": "code",
   "execution_count": 51,
   "metadata": {},
   "outputs": [
    {
     "data": {
      "text/plain": [
       "(7245522, 8)"
      ]
     },
     "execution_count": 51,
     "metadata": {},
     "output_type": "execute_result"
    }
   ],
   "source": [
    "data = df_kado#.iloc[:1000, :] # duplicate for modification\n",
    "data.shape"
   ]
  },
  {
   "cell_type": "markdown",
   "metadata": {},
   "source": [
    "## Unique values"
   ]
  },
  {
   "cell_type": "code",
   "execution_count": 7,
   "metadata": {},
   "outputs": [
    {
     "name": "stdout",
     "output_type": "stream",
     "text": [
      "Unique Famille:  9\n",
      "Unique Maille:   34\n",
      "Unique Univers:  105\n",
      "Unique Libelle:  1484\n",
      "Unique Clients:  853514\n",
      "Unique Months:  12\n"
     ]
    }
   ],
   "source": [
    "\"\"\"\n",
    "PRODUCTS\n",
    "\"\"\"\n",
    "unique_famille = df_kado['FAMILLE'].nunique()\n",
    "unique_maille = df_kado['MAILLE'].nunique()\n",
    "unique_univers = df_kado['UNIVERS'].nunique()\n",
    "unique_libelle = df_kado['LIBELLE'].nunique()\n",
    "unique_cli_id = df_kado['CLI_ID'].nunique()\n",
    "print(\"Unique Famille: \", unique_famille)\n",
    "print(\"Unique Maille:  \", unique_maille)\n",
    "print(\"Unique Univers: \", unique_univers)\n",
    "print(\"Unique Libelle: \", unique_libelle)\n",
    "print(\"Unique Clients: \", unique_cli_id)\n",
    "\"\"\"\n",
    "MONTHS\n",
    "\"\"\"\n",
    "unique_months = df_kado['MOIS_VENTE'].nunique()\n",
    "print(\"Unique Months: \", unique_months)"
   ]
  },
  {
   "cell_type": "markdown",
   "metadata": {},
   "source": [
    "### Null values"
   ]
  },
  {
   "cell_type": "code",
   "execution_count": 8,
   "metadata": {},
   "outputs": [
    {
     "name": "stdout",
     "output_type": "stream",
     "text": [
      "Unique Famille:    0\n",
      "Unique Maille:     0\n",
      "Unique Univers:    0\n",
      "Unique Libelle:    0\n",
      "Unique Clients:    0\n",
      "Unique Prix Net:   0\n",
      "Unique Ticket ID:  0\n",
      "Unique Months:     0\n"
     ]
    }
   ],
   "source": [
    "\"\"\"\n",
    "PRODUCTS\n",
    "\"\"\"\n",
    "null_famille = df_kado['FAMILLE'].isna().sum()\n",
    "null_maille = df_kado['MAILLE'].isna().sum()\n",
    "null_univers = df_kado['UNIVERS'].isna().sum()\n",
    "null_libelle = df_kado['LIBELLE'].isna().sum()\n",
    "null_cli_id = df_kado['CLI_ID'].isna().sum()\n",
    "null_prix_net = df_kado['PRIX_NET'].isna().sum()\n",
    "null_ticket_id = df_kado['TICKET_ID'].isna().sum()\n",
    "print(\"Unique Famille:   \", null_famille)\n",
    "print(\"Unique Maille:    \", null_maille)\n",
    "print(\"Unique Univers:   \", null_univers)\n",
    "print(\"Unique Libelle:   \", null_libelle)\n",
    "print(\"Unique Clients:   \", null_cli_id)\n",
    "print(\"Unique Prix Net:  \", null_prix_net)\n",
    "print(\"Unique Ticket ID: \", null_ticket_id)\n",
    "\"\"\"\n",
    "MONTHS\n",
    "\"\"\"\n",
    "null_months = df_kado['MOIS_VENTE'].isna().sum()\n",
    "print(\"Unique Months:    \", null_months)"
   ]
  },
  {
   "cell_type": "markdown",
   "metadata": {},
   "source": [
    "## tldr; \n",
    "<table >\n",
    "    <tr>\n",
    "        <td>Total sales</td>\n",
    "        <td>7 245 522</td>\n",
    "    </tr>\n",
    "    <tr>\n",
    "        <td>Individual clients</td>\n",
    "        <td>853 514</td>\n",
    "    </tr>\n",
    "    <tr>\n",
    "        <td>Unique Famille</td>\n",
    "        <td>9</td>\n",
    "    </tr>\n",
    "    <tr>\n",
    "        <td>Unique Maille</td>\n",
    "        <td>34</td>\n",
    "    </tr>\n",
    "    <tr>\n",
    "        <td>Unique Univers</td>\n",
    "        <td>105</td>\n",
    "    </tr>\n",
    "    <tr>\n",
    "        <td>Unique Libelle</td>\n",
    "        <td>1 484</td>\n",
    "    </tr>\n",
    "    <tr>\n",
    "        <td>Unique Months</td>\n",
    "        <td>12</td>\n",
    "    </tr>\n",
    "    <tr>\n",
    "        <td>Null Values</td>\n",
    "        <td>ZERO in all columns</td>\n",
    "    </tr>\n",
    "</table>"
   ]
  },
  {
   "cell_type": "markdown",
   "metadata": {},
   "source": [
    "# ANALYZE"
   ]
  },
  {
   "cell_type": "markdown",
   "metadata": {},
   "source": [
    "## Popular Items"
   ]
  },
  {
   "cell_type": "markdown",
   "metadata": {},
   "source": [
    "### LIBELLE"
   ]
  },
  {
   "cell_type": "code",
   "execution_count": null,
   "metadata": {},
   "outputs": [
    {
     "data": {
      "text/plain": [
       "LIBELLE\n",
       "DEMAQ EXPRESS PUR BLEUET FL125ML    158762\n",
       "GD JDM4 LOTUS FL200ML                85914\n",
       "GD JDM4 GRENADE FL200ML              81406\n",
       "SVC CREME QUOTIDIENNE T75ml          72394\n",
       "MDT SD DES LAGONS 150 ML             64400\n",
       "Name: LIBELLE, dtype: int64"
      ]
     },
     "execution_count": 9,
     "metadata": {},
     "output_type": "execute_result"
    }
   ],
   "source": [
    "products = df_kado.groupby('LIBELLE')['LIBELLE'].count().nlargest()\n",
    "products.head()"
   ]
  },
  {
   "cell_type": "markdown",
   "metadata": {},
   "source": [
    "### UNIVERS"
   ]
  },
  {
   "cell_type": "code",
   "execution_count": null,
   "metadata": {},
   "outputs": [
    {
     "data": {
      "text/plain": [
       "UNIVERS\n",
       "HYG_DOUCHE JARDINMONDE      762858\n",
       "HYG_DOUCHE PLAISIRNATURE    376849\n",
       "MAQ_ONG Vernis LUM          271075\n",
       "VIS_SOIN LEVRES             238731\n",
       "CORPS_SOIN DES MAINS        231810\n",
       "Name: UNIVERS, dtype: int64"
      ]
     },
     "execution_count": 10,
     "metadata": {},
     "output_type": "execute_result"
    }
   ],
   "source": [
    "univers = df_kado.groupby('UNIVERS')['UNIVERS'].count().nlargest()\n",
    "univers.head()"
   ]
  },
  {
   "cell_type": "markdown",
   "metadata": {},
   "source": [
    "### FAMILLE"
   ]
  },
  {
   "cell_type": "code",
   "execution_count": null,
   "metadata": {},
   "outputs": [
    {
     "data": {
      "image/png": "[encoded data removed]",
      "text/plain": [
       "<Figure size 432x288 with 1 Axes>"
      ]
     },
     "metadata": {
      "needs_background": "light"
     },
     "output_type": "display_data"
    }
   ],
   "source": [
    "family_by_month = df_kado.groupby(['FAMILLE'])['FAMILLE'].count()\n",
    "family_by_month.plot(kind='line',alpha=0.75, rot=45)\n",
    "plt.xlabel(\"FAMILLE\")\n",
    "plt.ylabel(\"COUNT\")\n",
    "plt.show()\n"
   ]
  },
  {
   "cell_type": "markdown",
   "metadata": {},
   "source": [
    "### MAILLE "
   ]
  },
  {
   "cell_type": "code",
   "execution_count": null,
   "metadata": {},
   "outputs": [
    {
     "data": {
      "image/png": "[encoded data removed]",
      "text/plain": [
       "<Figure size 432x288 with 1 Axes>"
      ]
     },
     "metadata": {
      "needs_background": "light"
     },
     "output_type": "display_data"
    }
   ],
   "source": [
    "maille_by_month = df_kado.groupby(['MAILLE'])['MAILLE'].count()\n",
    "maille_by_month.plot(kind='line',alpha=0.75, rot=45)\n",
    "plt.xlabel(\"MAILLE\")\n",
    "plt.ylabel(\"COUNT\")\n",
    "plt.show()"
   ]
  },
  {
   "cell_type": "code",
   "execution_count": null,
   "metadata": {},
   "outputs": [],
   "source": []
  },
  {
   "cell_type": "markdown",
   "metadata": {},
   "source": [
    "## Sales by type"
   ]
  },
  {
   "cell_type": "markdown",
   "metadata": {},
   "source": [
    "### AVG Price / FAMILLE"
   ]
  },
  {
   "cell_type": "code",
   "execution_count": null,
   "metadata": {},
   "outputs": [
    {
     "data": {
      "image/png": "[encoded data removed]",
      "text/plain": [
       "<Figure size 432x288 with 1 Axes>"
      ]
     },
     "metadata": {
      "needs_background": "light"
     },
     "output_type": "display_data"
    }
   ],
   "source": [
    "family_by_month = df_kado.groupby(['FAMILLE'])['FAMILLE', 'PRIX_NET'].mean()\n",
    "family_by_month.plot(kind='line',alpha=0.75, rot=45)\n",
    "plt.xlabel(\"FAMILLE\")\n",
    "plt.ylabel(\"PRICE MEAN\")\n",
    "plt.show()\n"
   ]
  },
  {
   "cell_type": "markdown",
   "metadata": {},
   "source": [
    "### AVG Price / MAILLE"
   ]
  },
  {
   "cell_type": "code",
   "execution_count": null,
   "metadata": {},
   "outputs": [
    {
     "data": {
      "image/png": "[encoded data removed]",
      "text/plain": [
       "<Figure size 1800x288 with 1 Axes>"
      ]
     },
     "metadata": {
      "needs_background": "light"
     },
     "output_type": "display_data"
    }
   ],
   "source": [
    "maille_by_month = df_kado.groupby(['MAILLE'])['MAILLE', 'PRIX_NET'].mean()\n",
    "fig= plt.figure()\n",
    "fig.set_figwidth(25)\n",
    "\n",
    "plt.plot(maille_by_month)\n",
    "plt.xticks(rotation=45)\n",
    "plt.xlabel(\"MAILLE\")\n",
    "plt.ylabel(\"PRICE MEAN\")\n",
    "plt.show()\n"
   ]
  },
  {
   "cell_type": "markdown",
   "metadata": {},
   "source": [
    "### AVG Price / UNIVERS"
   ]
  },
  {
   "cell_type": "code",
   "execution_count": null,
   "metadata": {},
   "outputs": [
    {
     "data": {
      "text/html": [
       "<div>\n",
       "<style scoped>\n",
       "    .dataframe tbody tr th:only-of-type {\n",
       "        vertical-align: middle;\n",
       "    }\n",
       "\n",
       "    .dataframe tbody tr th {\n",
       "        vertical-align: top;\n",
       "    }\n",
       "\n",
       "    .dataframe thead th {\n",
       "        text-align: right;\n",
       "    }\n",
       "</style>\n",
       "<table border=\"1\" class=\"dataframe\">\n",
       "  <thead>\n",
       "    <tr style=\"text-align: right;\">\n",
       "      <th></th>\n",
       "      <th>PRIX_NET</th>\n",
       "    </tr>\n",
       "    <tr>\n",
       "      <th>UNIVERS</th>\n",
       "      <th></th>\n",
       "    </tr>\n",
       "  </thead>\n",
       "  <tbody>\n",
       "    <tr>\n",
       "      <td>PARF_PARF ET EAU DE PARF</td>\n",
       "      <td>22.686870</td>\n",
       "    </tr>\n",
       "    <tr>\n",
       "      <td>VIS_CNUIT AAAR</td>\n",
       "      <td>19.064371</td>\n",
       "    </tr>\n",
       "    <tr>\n",
       "      <td>MAQ_Autres</td>\n",
       "      <td>18.372149</td>\n",
       "    </tr>\n",
       "    <tr>\n",
       "      <td>PARF_EAUX HOMMES</td>\n",
       "      <td>18.227247</td>\n",
       "    </tr>\n",
       "    <tr>\n",
       "      <td>VIS_CJOUR AAAR</td>\n",
       "      <td>17.596559</td>\n",
       "    </tr>\n",
       "  </tbody>\n",
       "</table>\n",
       "</div>"
      ],
      "text/plain": [
       "                           PRIX_NET\n",
       "UNIVERS                            \n",
       "PARF_PARF ET EAU DE PARF  22.686870\n",
       "VIS_CNUIT AAAR            19.064371\n",
       "MAQ_Autres                18.372149\n",
       "PARF_EAUX HOMMES          18.227247\n",
       "VIS_CJOUR AAAR            17.596559"
      ]
     },
     "execution_count": 21,
     "metadata": {},
     "output_type": "execute_result"
    }
   ],
   "source": [
    "univers_by_month = df_kado.groupby(['UNIVERS'])['UNIVERS', 'PRIX_NET'].mean().sort_values('PRIX_NET', ascending=False)\n",
    "univers_by_month.head()"
   ]
  },
  {
   "cell_type": "markdown",
   "metadata": {},
   "source": [
    "### Price / Product"
   ]
  },
  {
   "cell_type": "code",
   "execution_count": null,
   "metadata": {},
   "outputs": [
    {
     "data": {
      "text/html": [
       "<div>\n",
       "<style scoped>\n",
       "    .dataframe tbody tr th:only-of-type {\n",
       "        vertical-align: middle;\n",
       "    }\n",
       "\n",
       "    .dataframe tbody tr th {\n",
       "        vertical-align: top;\n",
       "    }\n",
       "\n",
       "    .dataframe thead th {\n",
       "        text-align: right;\n",
       "    }\n",
       "</style>\n",
       "<table border=\"1\" class=\"dataframe\">\n",
       "  <thead>\n",
       "    <tr style=\"text-align: right;\">\n",
       "      <th></th>\n",
       "      <th>PRIX_NET</th>\n",
       "    </tr>\n",
       "    <tr>\n",
       "      <th>LIBELLE</th>\n",
       "      <th></th>\n",
       "    </tr>\n",
       "  </thead>\n",
       "  <tbody>\n",
       "    <tr>\n",
       "      <td>CURE 28 JRS AA GLOBAL 4X7ML</td>\n",
       "      <td>41.942739</td>\n",
       "    </tr>\n",
       "    <tr>\n",
       "      <td>EDP IRIS NOIR S.E VAPO 30ML</td>\n",
       "      <td>39.266667</td>\n",
       "    </tr>\n",
       "    <tr>\n",
       "      <td>SERUM RADIANCE 40ml ADN VEG</td>\n",
       "      <td>35.842182</td>\n",
       "    </tr>\n",
       "    <tr>\n",
       "      <td>EDP SE VOILE D'AMBRE VP 50ML</td>\n",
       "      <td>31.654798</td>\n",
       "    </tr>\n",
       "    <tr>\n",
       "      <td>LA CURE ADN2 28 X 0,8ml</td>\n",
       "      <td>30.475000</td>\n",
       "    </tr>\n",
       "  </tbody>\n",
       "</table>\n",
       "</div>"
      ],
      "text/plain": [
       "                               PRIX_NET\n",
       "LIBELLE                                \n",
       "CURE 28 JRS AA GLOBAL 4X7ML   41.942739\n",
       "EDP IRIS NOIR S.E VAPO 30ML   39.266667\n",
       "SERUM RADIANCE 40ml ADN VEG   35.842182\n",
       "EDP SE VOILE D'AMBRE VP 50ML  31.654798\n",
       "LA CURE ADN2 28 X 0,8ml       30.475000"
      ]
     },
     "execution_count": 24,
     "metadata": {},
     "output_type": "execute_result"
    }
   ],
   "source": [
    "univers_by_month = df_kado.groupby(['LIBELLE'])['LIBELLE', 'PRIX_NET'].mean().sort_values('PRIX_NET', ascending=False)\n",
    "univers_by_month.head()"
   ]
  },
  {
   "cell_type": "markdown",
   "metadata": {},
   "source": [
    "## Users"
   ]
  },
  {
   "cell_type": "markdown",
   "metadata": {},
   "source": [
    "### Users with highest monthly frequency"
   ]
  },
  {
   "cell_type": "code",
   "execution_count": null,
   "metadata": {},
   "outputs": [
    {
     "data": {
      "text/plain": [
       "CLI_ID     MOIS_VENTE\n",
       "992353520  12            233\n",
       "975235463  6             217\n",
       "975127123  12            214\n",
       "976706610  12            192\n",
       "994271835  12            191\n",
       "Name: MOIS_VENTE, dtype: int64"
      ]
     },
     "execution_count": 23,
     "metadata": {},
     "output_type": "execute_result"
    }
   ],
   "source": [
    "user_by_month = df_kado.groupby(['CLI_ID', 'MOIS_VENTE'])['MOIS_VENTE'].count().sort_values(ascending=False)\n",
    "user_by_month.head()"
   ]
  },
  {
   "cell_type": "code",
   "execution_count": null,
   "metadata": {},
   "outputs": [
    {
     "data": {
      "text/plain": [
       "CLI_ID\n",
       "992353520    118.5\n",
       "994539449    117.0\n",
       "975235463    109.5\n",
       "966639879    105.0\n",
       "987102815     95.0\n",
       "Name: MOIS_VENTE, dtype: float64"
      ]
     },
     "execution_count": 46,
     "metadata": {},
     "output_type": "execute_result"
    }
   ],
   "source": [
    "# not working but idea is the avg purchase amount per month\n",
    "d = user_by_month.groupby(['CLI_ID']).mean().sort_values(ascending=False)\n",
    "d.head()"
   ]
  },
  {
   "cell_type": "code",
   "execution_count": null,
   "metadata": {},
   "outputs": [
    {
     "data": {
      "text/html": [
       "<div>\n",
       "<style scoped>\n",
       "    .dataframe tbody tr th:only-of-type {\n",
       "        vertical-align: middle;\n",
       "    }\n",
       "\n",
       "    .dataframe tbody tr th {\n",
       "        vertical-align: top;\n",
       "    }\n",
       "\n",
       "    .dataframe thead th {\n",
       "        text-align: right;\n",
       "    }\n",
       "</style>\n",
       "<table border=\"1\" class=\"dataframe\">\n",
       "  <thead>\n",
       "    <tr style=\"text-align: right;\">\n",
       "      <th></th>\n",
       "      <th>TICKET_ID</th>\n",
       "      <th>MOIS_VENTE</th>\n",
       "      <th>PRIX_NET</th>\n",
       "      <th>FAMILLE</th>\n",
       "      <th>UNIVERS</th>\n",
       "      <th>MAILLE</th>\n",
       "      <th>LIBELLE</th>\n",
       "      <th>CLI_ID</th>\n",
       "    </tr>\n",
       "  </thead>\n",
       "  <tbody>\n",
       "    <tr>\n",
       "      <td>5871106</td>\n",
       "      <td>36298326</td>\n",
       "      <td>12</td>\n",
       "      <td>2.21</td>\n",
       "      <td>SOINS DU CORPS</td>\n",
       "      <td>CORPS_SOIN DES MAINS</td>\n",
       "      <td>CORPS_HYDRA_NOURRI_ET_SOINS</td>\n",
       "      <td>CREME MAINS T75 ml FRUITS ROUGES</td>\n",
       "      <td>992353520</td>\n",
       "    </tr>\n",
       "    <tr>\n",
       "      <td>5871107</td>\n",
       "      <td>36298326</td>\n",
       "      <td>12</td>\n",
       "      <td>2.21</td>\n",
       "      <td>SOINS DU CORPS</td>\n",
       "      <td>CORPS_SOIN DES MAINS</td>\n",
       "      <td>CORPS_HYDRA_NOURRI_ET_SOINS</td>\n",
       "      <td>CREME MAINS T75 ml FRUITS ROUGES</td>\n",
       "      <td>992353520</td>\n",
       "    </tr>\n",
       "    <tr>\n",
       "      <td>5871108</td>\n",
       "      <td>36298326</td>\n",
       "      <td>12</td>\n",
       "      <td>2.21</td>\n",
       "      <td>SOINS DU CORPS</td>\n",
       "      <td>CORPS_SOIN DES MAINS</td>\n",
       "      <td>CORPS_HYDRA_NOURRI_ET_SOINS</td>\n",
       "      <td>CREME MAINS T75 ml FRUITS ROUGES</td>\n",
       "      <td>992353520</td>\n",
       "    </tr>\n",
       "    <tr>\n",
       "      <td>5871109</td>\n",
       "      <td>36298326</td>\n",
       "      <td>12</td>\n",
       "      <td>2.21</td>\n",
       "      <td>SOINS DU CORPS</td>\n",
       "      <td>CORPS_SOIN DES MAINS</td>\n",
       "      <td>CORPS_HYDRA_NOURRI_ET_SOINS</td>\n",
       "      <td>CREME MAINS T75 ml FRUITS ROUGES</td>\n",
       "      <td>992353520</td>\n",
       "    </tr>\n",
       "    <tr>\n",
       "      <td>5871110</td>\n",
       "      <td>36298326</td>\n",
       "      <td>12</td>\n",
       "      <td>2.21</td>\n",
       "      <td>SOINS DU CORPS</td>\n",
       "      <td>CORPS_SOIN DES MAINS</td>\n",
       "      <td>CORPS_HYDRA_NOURRI_ET_SOINS</td>\n",
       "      <td>CREME MAINS T75 ml FRUITS ROUGES</td>\n",
       "      <td>992353520</td>\n",
       "    </tr>\n",
       "    <tr>\n",
       "      <td>...</td>\n",
       "      <td>...</td>\n",
       "      <td>...</td>\n",
       "      <td>...</td>\n",
       "      <td>...</td>\n",
       "      <td>...</td>\n",
       "      <td>...</td>\n",
       "      <td>...</td>\n",
       "      <td>...</td>\n",
       "    </tr>\n",
       "    <tr>\n",
       "      <td>5871334</td>\n",
       "      <td>36298462</td>\n",
       "      <td>12</td>\n",
       "      <td>3.95</td>\n",
       "      <td>HYGIENE</td>\n",
       "      <td>HYG_DOUCHE EDT NOEL</td>\n",
       "      <td>HYG_MONOI_ET_EDIT_SPEC</td>\n",
       "      <td>DOUCH GOMMANTE FRUITS NOIRS T 200 ML</td>\n",
       "      <td>992353520</td>\n",
       "    </tr>\n",
       "    <tr>\n",
       "      <td>5871335</td>\n",
       "      <td>36298462</td>\n",
       "      <td>12</td>\n",
       "      <td>5.85</td>\n",
       "      <td>SOINS DU VISAGE</td>\n",
       "      <td>VIS_SOIN LEVRES</td>\n",
       "      <td>VIS_JEUNE_ET_LEVRE</td>\n",
       "      <td>BAUME NOUR LEV FRUITS NOIRS OS14 4G</td>\n",
       "      <td>992353520</td>\n",
       "    </tr>\n",
       "    <tr>\n",
       "      <td>5871336</td>\n",
       "      <td>36298462</td>\n",
       "      <td>12</td>\n",
       "      <td>1.95</td>\n",
       "      <td>SOINS DU VISAGE</td>\n",
       "      <td>VIS_SOIN LEVRES</td>\n",
       "      <td>VIS_JEUNE_ET_LEVRE</td>\n",
       "      <td>BAUME NOUR LEV FRUITS NOIRS OS14 4G</td>\n",
       "      <td>992353520</td>\n",
       "    </tr>\n",
       "    <tr>\n",
       "      <td>5871337</td>\n",
       "      <td>36298462</td>\n",
       "      <td>12</td>\n",
       "      <td>78.00</td>\n",
       "      <td>SOINS DU VISAGE</td>\n",
       "      <td>VIS_SOIN LEVRES</td>\n",
       "      <td>VIS_JEUNE_ET_LEVRE</td>\n",
       "      <td>BAUME NOUR LEV FRUITS NOIRS OS14 4G</td>\n",
       "      <td>992353520</td>\n",
       "    </tr>\n",
       "    <tr>\n",
       "      <td>5871338</td>\n",
       "      <td>36298462</td>\n",
       "      <td>12</td>\n",
       "      <td>1.95</td>\n",
       "      <td>SOINS DU VISAGE</td>\n",
       "      <td>VIS_SOIN LEVRES</td>\n",
       "      <td>VIS_JEUNE_ET_LEVRE</td>\n",
       "      <td>BAUME NOUR LEV FRUITS NOIRS OS14 4G</td>\n",
       "      <td>992353520</td>\n",
       "    </tr>\n",
       "  </tbody>\n",
       "</table>\n",
       "<p>233 rows × 8 columns</p>\n",
       "</div>"
      ],
      "text/plain": [
       "         TICKET_ID  MOIS_VENTE  PRIX_NET          FAMILLE  \\\n",
       "5871106   36298326          12      2.21   SOINS DU CORPS   \n",
       "5871107   36298326          12      2.21   SOINS DU CORPS   \n",
       "5871108   36298326          12      2.21   SOINS DU CORPS   \n",
       "5871109   36298326          12      2.21   SOINS DU CORPS   \n",
       "5871110   36298326          12      2.21   SOINS DU CORPS   \n",
       "...            ...         ...       ...              ...   \n",
       "5871334   36298462          12      3.95          HYGIENE   \n",
       "5871335   36298462          12      5.85  SOINS DU VISAGE   \n",
       "5871336   36298462          12      1.95  SOINS DU VISAGE   \n",
       "5871337   36298462          12     78.00  SOINS DU VISAGE   \n",
       "5871338   36298462          12      1.95  SOINS DU VISAGE   \n",
       "\n",
       "                      UNIVERS                       MAILLE  \\\n",
       "5871106  CORPS_SOIN DES MAINS  CORPS_HYDRA_NOURRI_ET_SOINS   \n",
       "5871107  CORPS_SOIN DES MAINS  CORPS_HYDRA_NOURRI_ET_SOINS   \n",
       "5871108  CORPS_SOIN DES MAINS  CORPS_HYDRA_NOURRI_ET_SOINS   \n",
       "5871109  CORPS_SOIN DES MAINS  CORPS_HYDRA_NOURRI_ET_SOINS   \n",
       "5871110  CORPS_SOIN DES MAINS  CORPS_HYDRA_NOURRI_ET_SOINS   \n",
       "...                       ...                          ...   \n",
       "5871334   HYG_DOUCHE EDT NOEL       HYG_MONOI_ET_EDIT_SPEC   \n",
       "5871335       VIS_SOIN LEVRES           VIS_JEUNE_ET_LEVRE   \n",
       "5871336       VIS_SOIN LEVRES           VIS_JEUNE_ET_LEVRE   \n",
       "5871337       VIS_SOIN LEVRES           VIS_JEUNE_ET_LEVRE   \n",
       "5871338       VIS_SOIN LEVRES           VIS_JEUNE_ET_LEVRE   \n",
       "\n",
       "                                      LIBELLE     CLI_ID  \n",
       "5871106      CREME MAINS T75 ml FRUITS ROUGES  992353520  \n",
       "5871107      CREME MAINS T75 ml FRUITS ROUGES  992353520  \n",
       "5871108      CREME MAINS T75 ml FRUITS ROUGES  992353520  \n",
       "5871109      CREME MAINS T75 ml FRUITS ROUGES  992353520  \n",
       "5871110      CREME MAINS T75 ml FRUITS ROUGES  992353520  \n",
       "...                                       ...        ...  \n",
       "5871334  DOUCH GOMMANTE FRUITS NOIRS T 200 ML  992353520  \n",
       "5871335   BAUME NOUR LEV FRUITS NOIRS OS14 4G  992353520  \n",
       "5871336   BAUME NOUR LEV FRUITS NOIRS OS14 4G  992353520  \n",
       "5871337   BAUME NOUR LEV FRUITS NOIRS OS14 4G  992353520  \n",
       "5871338   BAUME NOUR LEV FRUITS NOIRS OS14 4G  992353520  \n",
       "\n",
       "[233 rows x 8 columns]"
      ]
     },
     "execution_count": 48,
     "metadata": {},
     "output_type": "execute_result"
    }
   ],
   "source": [
    "df_kado.loc[(df_kado['CLI_ID'] == 992353520) & (df_kado['MOIS_VENTE'] == 12)]"
   ]
  },
  {
   "cell_type": "markdown",
   "metadata": {},
   "source": [
    "# RECOMMENDATION SYSTEMS"
   ]
  },
  {
   "cell_type": "markdown",
   "metadata": {},
   "source": [
    "## Types of recommendation systems\n",
    "\n",
    "### Collaborative Filtering\n",
    "- user based\n",
    "- analyses the history of user's preferences in the past\n",
    "- find similarities in their choises\n",
    "- classifies the users by their preferences\n",
    "### Content Based Approach\n",
    "- Relies on category and description of an item\n",
    "- doesn't require user interaction \n",
    "### Knowledge Based Systems\n",
    "- Based on direct user feedback (filter or comment)\n",
    "- Ex: \"I want a phone like this but cheaper\"\n",
    "\n",
    "###\n",
    "    Very typical to combine Collaborative and Content Based (Companies like Netflix, Google, etc)"
   ]
  },
  {
   "cell_type": "markdown",
   "metadata": {},
   "source": [
    "# Recommendation model and data prep"
   ]
  },
  {
   "cell_type": "markdown",
   "metadata": {},
   "source": [
    "## Sandbox"
   ]
  },
  {
   "cell_type": "code",
   "execution_count": 22,
   "metadata": {},
   "outputs": [
    {
     "data": {
      "text/plain": [
       "CLI_ID     LIBELLE                                 MOIS_VENTE\n",
       "1490281    CR JR PARF BIO.SPE AC.SENT.50ML         10            1\n",
       "           EAU MICELLAIRE 3 THES FL200ML           10            1\n",
       "           GD JDM4 PAMPLEMOUSSE FL 200ML           10            2\n",
       "           GD JDM4 TIARE FL 200ML                  10            1\n",
       "13290776   EDT  UN MATIN AU JARDIN  100ML  MUGUET  9             1\n",
       "                                                                ..\n",
       "997385337  VAO BRIL ROSE SOMPTUEUX 14 CN3 5.5ML    6             1\n",
       "           VAO BRIL ROUG/SIENN 33 AX/SO CN3 5,5ML  9             1\n",
       "           VAO HIBISCUS ROUGE ETE13 ANI LU4 3ML    5             1\n",
       "           VAO PASTEL PARME 03 MANUC CN3 5.5ML     9             1\n",
       "           ZERO TRACE SPRAY SPF 15 FL150           9             1\n",
       "Name: MOIS_VENTE, Length: 6846074, dtype: int64"
      ]
     },
     "execution_count": 22,
     "metadata": {},
     "output_type": "execute_result"
    }
   ],
   "source": [
    "item_purchase_freq = df_kado[['CLI_ID', 'LIBELLE', 'MOIS_VENTE']].groupby(['CLI_ID', 'LIBELLE'])['MOIS_VENTE'].value_counts()\n",
    "item_purchase_freq"
   ]
  },
  {
   "cell_type": "markdown",
   "metadata": {},
   "source": [
    "## Functions"
   ]
  },
  {
   "cell_type": "code",
   "execution_count": 28,
   "metadata": {},
   "outputs": [],
   "source": [
    "def create_data_dummy(data):\n",
    "    data_dummy = data.copy()\n",
    "    data_dummy['purchase_dummy'] = 1\n",
    "    return data_dummy\n",
    "    \n",
    "def normalize_data(data):\n",
    "    item_purchase_freq_matrix = pd.pivot_table(data, values='Quantity', index='CLI_ID', columns='LIBELLE')\n",
    "    item_purchase_freq_norm = (item_purchase_freq_matrix-item_purchase_freq_matrix.min())/(item_purchase_freq_matrix.max()-item_purchase_freq_matrix.min())\n",
    "    d = item_purchase_freq_norm.reset_index()\n",
    "    d.index.names = ['scaled_purchase_freq']\n",
    "    return pd.melt(d, id_vars=['CLI_ID'], value_name='scaled_purchase_freq').dropna()\n",
    "\n",
    "def split_data(data):\n",
    "    '''\n",
    "    Splits dataset into training and test set.\n",
    "    \n",
    "    Args:\n",
    "        data (pandas.DataFrame)\n",
    "        \n",
    "    Returns\n",
    "        train_data (tc.SFrame)\n",
    "        test_data (tc.SFrame)\n",
    "    '''\n",
    "    train, test = train_test_split(data, test_size = .2)\n",
    "    train_data = tc.SFrame(train)\n",
    "    test_data = tc.SFrame(test)\n",
    "    return train_data, test_data\n",
    "\n",
    "def model(train_data, name, user_id, item_id, target, users_to_recommend, n_rec, n_display):\n",
    "    if name == 'popularity':\n",
    "        model = tc.popularity_recommender.create(train_data, \n",
    "                                                    user_id=user_id, \n",
    "                                                    item_id=item_id, \n",
    "                                                    target=target)\n",
    "    elif name == 'cosine':\n",
    "        model = tc.item_similarity_recommender.create(train_data, \n",
    "                                                    user_id=user_id, \n",
    "                                                    item_id=item_id, \n",
    "                                                    target=target, \n",
    "                                                    similarity_type='cosine')\n",
    "    elif name == 'pearson':\n",
    "        model = tc.item_similarity_recommender.create(train_data, \n",
    "                                                        user_id=user_id, \n",
    "                                                        item_id=item_id, \n",
    "                                                        target=target, \n",
    "                                                        similarity_type='pearson')\n",
    "            \n",
    "    recom = model.recommend(users=users_to_recommend, k=n_rec)\n",
    "    recom.print_rows(n_display)\n",
    "    return model"
   ]
  },
  {
   "cell_type": "markdown",
   "metadata": {},
   "source": [
    "## Data prep"
   ]
  },
  {
   "cell_type": "code",
   "execution_count": 52,
   "metadata": {},
   "outputs": [
    {
     "data": {
      "text/html": [
       "<div>\n",
       "<style scoped>\n",
       "    .dataframe tbody tr th:only-of-type {\n",
       "        vertical-align: middle;\n",
       "    }\n",
       "\n",
       "    .dataframe tbody tr th {\n",
       "        vertical-align: top;\n",
       "    }\n",
       "\n",
       "    .dataframe thead th {\n",
       "        text-align: right;\n",
       "    }\n",
       "</style>\n",
       "<table border=\"1\" class=\"dataframe\">\n",
       "  <thead>\n",
       "    <tr style=\"text-align: right;\">\n",
       "      <th></th>\n",
       "      <th>CLI_ID</th>\n",
       "      <th>LIBELLE</th>\n",
       "      <th>Quantity</th>\n",
       "    </tr>\n",
       "  </thead>\n",
       "  <tbody>\n",
       "    <tr>\n",
       "      <th>1</th>\n",
       "      <td>1490281</td>\n",
       "      <td>GD JDM4 PAMPLEMOUSSE FL 200ML</td>\n",
       "      <td>2</td>\n",
       "    </tr>\n",
       "    <tr>\n",
       "      <th>2</th>\n",
       "      <td>1490281</td>\n",
       "      <td>CR JR PARF BIO.SPE AC.SENT.50ML</td>\n",
       "      <td>1</td>\n",
       "    </tr>\n",
       "    <tr>\n",
       "      <th>3</th>\n",
       "      <td>1490281</td>\n",
       "      <td>EAU MICELLAIRE 3 THES FL200ML</td>\n",
       "      <td>1</td>\n",
       "    </tr>\n",
       "    <tr>\n",
       "      <th>4</th>\n",
       "      <td>1490281</td>\n",
       "      <td>GD JDM4 TIARE FL 200ML</td>\n",
       "      <td>1</td>\n",
       "    </tr>\n",
       "    <tr>\n",
       "      <th>5</th>\n",
       "      <td>13290776</td>\n",
       "      <td>EDT  UN MATIN AU JARDIN  100ML  MUGUET</td>\n",
       "      <td>1</td>\n",
       "    </tr>\n",
       "    <tr>\n",
       "      <th>...</th>\n",
       "      <td>...</td>\n",
       "      <td>...</td>\n",
       "      <td>...</td>\n",
       "    </tr>\n",
       "    <tr>\n",
       "      <th>7245517</th>\n",
       "      <td>997385337</td>\n",
       "      <td>SVC CR MAINS ET ONGLES T75ml</td>\n",
       "      <td>1</td>\n",
       "    </tr>\n",
       "    <tr>\n",
       "      <th>7245518</th>\n",
       "      <td>997385337</td>\n",
       "      <td>GD JDM4 LAVANDIN DE PROVENCE 200ML</td>\n",
       "      <td>1</td>\n",
       "    </tr>\n",
       "    <tr>\n",
       "      <th>7245519</th>\n",
       "      <td>997385337</td>\n",
       "      <td>CRAYON REGARD PRUNE CN3 1.3G</td>\n",
       "      <td>1</td>\n",
       "    </tr>\n",
       "    <tr>\n",
       "      <th>7245520</th>\n",
       "      <td>997385337</td>\n",
       "      <td>MASCARA SOIN NOIR01 2014 CN3 9ML</td>\n",
       "      <td>1</td>\n",
       "    </tr>\n",
       "    <tr>\n",
       "      <th>7245521</th>\n",
       "      <td>997385337</td>\n",
       "      <td>VAO BRIL CERISE NOIRE113 ETE14 CN3 5,5ML</td>\n",
       "      <td>1</td>\n",
       "    </tr>\n",
       "  </tbody>\n",
       "</table>\n",
       "<p>5911149 rows × 3 columns</p>\n",
       "</div>"
      ],
      "text/plain": [
       "            CLI_ID                                   LIBELLE  Quantity\n",
       "1          1490281             GD JDM4 PAMPLEMOUSSE FL 200ML         2\n",
       "2          1490281           CR JR PARF BIO.SPE AC.SENT.50ML         1\n",
       "3          1490281             EAU MICELLAIRE 3 THES FL200ML         1\n",
       "4          1490281                    GD JDM4 TIARE FL 200ML         1\n",
       "5         13290776    EDT  UN MATIN AU JARDIN  100ML  MUGUET         1\n",
       "...            ...                                       ...       ...\n",
       "7245517  997385337              SVC CR MAINS ET ONGLES T75ml         1\n",
       "7245518  997385337        GD JDM4 LAVANDIN DE PROVENCE 200ML         1\n",
       "7245519  997385337              CRAYON REGARD PRUNE CN3 1.3G         1\n",
       "7245520  997385337          MASCARA SOIN NOIR01 2014 CN3 9ML         1\n",
       "7245521  997385337  VAO BRIL CERISE NOIRE113 ETE14 CN3 5,5ML         1\n",
       "\n",
       "[5911149 rows x 3 columns]"
      ]
     },
     "execution_count": 52,
     "metadata": {},
     "output_type": "execute_result"
    }
   ],
   "source": [
    "data['Quantity'] = df_kado.groupby(['CLI_ID', 'LIBELLE'])['LIBELLE'].transform('size')\n",
    "data = data.drop_duplicates(['CLI_ID', 'LIBELLE'], keep='last')\n",
    "data = data[['CLI_ID', 'LIBELLE', 'Quantity']]\n",
    "data"
   ]
  },
  {
   "cell_type": "code",
   "execution_count": 53,
   "metadata": {},
   "outputs": [
    {
     "data": {
      "text/html": [
       "<div>\n",
       "<style scoped>\n",
       "    .dataframe tbody tr th:only-of-type {\n",
       "        vertical-align: middle;\n",
       "    }\n",
       "\n",
       "    .dataframe tbody tr th {\n",
       "        vertical-align: top;\n",
       "    }\n",
       "\n",
       "    .dataframe thead th {\n",
       "        text-align: right;\n",
       "    }\n",
       "</style>\n",
       "<table border=\"1\" class=\"dataframe\">\n",
       "  <thead>\n",
       "    <tr style=\"text-align: right;\">\n",
       "      <th></th>\n",
       "      <th>CLI_ID</th>\n",
       "      <th>LIBELLE</th>\n",
       "      <th>scaled_purchase_freq</th>\n",
       "    </tr>\n",
       "  </thead>\n",
       "  <tbody>\n",
       "    <tr>\n",
       "      <th>4966</th>\n",
       "      <td>921576316</td>\n",
       "      <td>2010 KIT MAQ PDR</td>\n",
       "      <td>1.0</td>\n",
       "    </tr>\n",
       "    <tr>\n",
       "      <th>42709</th>\n",
       "      <td>956762920</td>\n",
       "      <td>2010 KIT MAQ PDR</td>\n",
       "      <td>0.0</td>\n",
       "    </tr>\n",
       "    <tr>\n",
       "      <th>43375</th>\n",
       "      <td>956961467</td>\n",
       "      <td>2010 KIT MAQ PDR</td>\n",
       "      <td>0.0</td>\n",
       "    </tr>\n",
       "    <tr>\n",
       "      <th>52339</th>\n",
       "      <td>959464732</td>\n",
       "      <td>2010 KIT MAQ PDR</td>\n",
       "      <td>0.0</td>\n",
       "    </tr>\n",
       "    <tr>\n",
       "      <th>52569</th>\n",
       "      <td>959496677</td>\n",
       "      <td>2010 KIT MAQ PDR</td>\n",
       "      <td>0.0</td>\n",
       "    </tr>\n",
       "    <tr>\n",
       "      <th>...</th>\n",
       "      <td>...</td>\n",
       "      <td>...</td>\n",
       "      <td>...</td>\n",
       "    </tr>\n",
       "    <tr>\n",
       "      <th>1266611667</th>\n",
       "      <td>996996217</td>\n",
       "      <td>x99SS GELEE FRUITS VANIL PN2 10ML</td>\n",
       "      <td>0.0</td>\n",
       "    </tr>\n",
       "    <tr>\n",
       "      <th>1266612479</th>\n",
       "      <td>997007618</td>\n",
       "      <td>x99SS GELEE FRUITS VANIL PN2 10ML</td>\n",
       "      <td>0.0</td>\n",
       "    </tr>\n",
       "    <tr>\n",
       "      <th>1266613367</th>\n",
       "      <td>997023102</td>\n",
       "      <td>x99SS GELEE FRUITS VANIL PN2 10ML</td>\n",
       "      <td>0.0</td>\n",
       "    </tr>\n",
       "    <tr>\n",
       "      <th>1266613407</th>\n",
       "      <td>997023649</td>\n",
       "      <td>x99SS GELEE FRUITS VANIL PN2 10ML</td>\n",
       "      <td>0.0</td>\n",
       "    </tr>\n",
       "    <tr>\n",
       "      <th>1266614424</th>\n",
       "      <td>997037665</td>\n",
       "      <td>x99SS GELEE FRUITS VANIL PN2 10ML</td>\n",
       "      <td>0.0</td>\n",
       "    </tr>\n",
       "  </tbody>\n",
       "</table>\n",
       "<p>5909672 rows × 3 columns</p>\n",
       "</div>"
      ],
      "text/plain": [
       "               CLI_ID                            LIBELLE  scaled_purchase_freq\n",
       "4966        921576316                   2010 KIT MAQ PDR                   1.0\n",
       "42709       956762920                   2010 KIT MAQ PDR                   0.0\n",
       "43375       956961467                   2010 KIT MAQ PDR                   0.0\n",
       "52339       959464732                   2010 KIT MAQ PDR                   0.0\n",
       "52569       959496677                   2010 KIT MAQ PDR                   0.0\n",
       "...               ...                                ...                   ...\n",
       "1266611667  996996217  x99SS GELEE FRUITS VANIL PN2 10ML                   0.0\n",
       "1266612479  997007618  x99SS GELEE FRUITS VANIL PN2 10ML                   0.0\n",
       "1266613367  997023102  x99SS GELEE FRUITS VANIL PN2 10ML                   0.0\n",
       "1266613407  997023649  x99SS GELEE FRUITS VANIL PN2 10ML                   0.0\n",
       "1266614424  997037665  x99SS GELEE FRUITS VANIL PN2 10ML                   0.0\n",
       "\n",
       "[5909672 rows x 3 columns]"
      ]
     },
     "execution_count": 53,
     "metadata": {},
     "output_type": "execute_result"
    }
   ],
   "source": [
    "data_norm = normalize_data(data)\n",
    "data_norm"
   ]
  },
  {
   "cell_type": "markdown",
   "metadata": {},
   "source": [
    "### Constants"
   ]
  },
  {
   "cell_type": "code",
   "execution_count": 42,
   "metadata": {},
   "outputs": [],
   "source": [
    "user_id = 'CLI_ID'\n",
    "item_id = 'LIBELLE'\n",
    "users_to_recommend = data.drop_duplicates(['CLI_ID'], keep='last')['CLI_ID'].to_numpy()\n",
    "n_rec = 10 # number of items to recommend\n",
    "n_display = 30 # to display the first few rows in an output dataset"
   ]
  },
  {
   "cell_type": "markdown",
   "metadata": {},
   "source": [
    "## Model creation"
   ]
  },
  {
   "cell_type": "code",
   "execution_count": 54,
   "metadata": {},
   "outputs": [
    {
     "data": {
      "text/html": [
       "<pre>Preparing data set.</pre>"
      ],
      "text/plain": [
       "Preparing data set."
      ]
     },
     "metadata": {},
     "output_type": "display_data"
    },
    {
     "data": {
      "text/html": [
       "<pre>    Data has 4728919 observations with 820707 users and 1471 items.</pre>"
      ],
      "text/plain": [
       "    Data has 4728919 observations with 820707 users and 1471 items."
      ]
     },
     "metadata": {},
     "output_type": "display_data"
    },
    {
     "data": {
      "text/html": [
       "<pre>    Data prepared in: 2.63637s</pre>"
      ],
      "text/plain": [
       "    Data prepared in: 2.63637s"
      ]
     },
     "metadata": {},
     "output_type": "display_data"
    },
    {
     "data": {
      "text/html": [
       "<pre>4728919 observations to process; with 1471 unique items.</pre>"
      ],
      "text/plain": [
       "4728919 observations to process; with 1471 unique items."
      ]
     },
     "metadata": {},
     "output_type": "display_data"
    },
    {
     "name": "stdout",
     "output_type": "stream",
     "text": [
      "+----------+--------------------------------+--------------------+------+\n",
      "|  CLI_ID  |            LIBELLE             |       score        | rank |\n",
      "+----------+--------------------------------+--------------------+------+\n",
      "| 1490281  | EAU DES CILS OR/TRANS ETE1...  |        3.0         |  1   |\n",
      "| 1490281  | FDT PINCEAU ECLAT CLAIR CN3 15 |        3.0         |  2   |\n",
      "| 1490281  | 25 LINGETTES DEFROISSANTES SV  | 2.460766423357664  |  3   |\n",
      "| 1490281  | RECH DCHE DOUCEUR HAMAMELI...  | 1.9100817438692097 |  4   |\n",
      "| 1490281  | RECH GEL DOUC MAINS HAMAME...  | 1.8351324828263003 |  5   |\n",
      "| 1490281  | DEMAQ EXPRESS PUR BLEUET F...  | 1.8199738509504173 |  6   |\n",
      "| 1490281  |    LINGETTES CALMILLE 2013     | 1.8147278702733938 |  7   |\n",
      "| 1490281  | REPACK CONTOUR YEUX RC2 P15ml  | 1.696728016359918  |  8   |\n",
      "| 1490281  |       GEL NETT. PC 200ML       | 1.6806268576060523 |  9   |\n",
      "| 1490281  | SVC REFLETS SH REF ARG FL200ML | 1.6774768353528153 |  10  |\n",
      "| 13290776 | EAU DES CILS OR/TRANS ETE1...  |        3.0         |  1   |\n",
      "| 13290776 | FDT PINCEAU ECLAT CLAIR CN3 15 |        3.0         |  2   |\n",
      "| 13290776 | 25 LINGETTES DEFROISSANTES SV  | 2.460766423357664  |  3   |\n",
      "| 13290776 | RECH DCHE DOUCEUR HAMAMELI...  | 1.9100817438692097 |  4   |\n",
      "| 13290776 | RECH GEL DOUC MAINS HAMAME...  | 1.8351324828263003 |  5   |\n",
      "| 13290776 | DEMAQ EXPRESS PUR BLEUET F...  | 1.8199738509504173 |  6   |\n",
      "| 13290776 |    LINGETTES CALMILLE 2013     | 1.8147278702733938 |  7   |\n",
      "| 13290776 | REPACK CONTOUR YEUX RC2 P15ml  | 1.696728016359918  |  8   |\n",
      "| 13290776 |       GEL NETT. PC 200ML       | 1.6806268576060523 |  9   |\n",
      "| 13290776 | SVC REFLETS SH REF ARG FL200ML | 1.6774768353528153 |  10  |\n",
      "| 20163348 | EAU DES CILS OR/TRANS ETE1...  |        3.0         |  1   |\n",
      "| 20163348 | FDT PINCEAU ECLAT CLAIR CN3 15 |        3.0         |  2   |\n",
      "| 20163348 | 25 LINGETTES DEFROISSANTES SV  | 2.460766423357664  |  3   |\n",
      "| 20163348 | RECH DCHE DOUCEUR HAMAMELI...  | 1.9100817438692097 |  4   |\n",
      "| 20163348 | RECH GEL DOUC MAINS HAMAME...  | 1.8351324828263003 |  5   |\n",
      "| 20163348 | DEMAQ EXPRESS PUR BLEUET F...  | 1.8199738509504173 |  6   |\n",
      "| 20163348 |    LINGETTES CALMILLE 2013     | 1.8147278702733938 |  7   |\n",
      "| 20163348 | REPACK CONTOUR YEUX RC2 P15ml  | 1.696728016359918  |  8   |\n",
      "| 20163348 |       GEL NETT. PC 200ML       | 1.6806268576060523 |  9   |\n",
      "| 20163348 | SVC REFLETS SH REF ARG FL200ML | 1.6774768353528153 |  10  |\n",
      "+----------+--------------------------------+--------------------+------+\n",
      "[1110 rows x 4 columns]\n",
      "\n"
     ]
    }
   ],
   "source": [
    "data_dummy = create_data_dummy(data)\n",
    "\n",
    "train_data, test_data = split_data(data)\n",
    "train_data_dummy, test_data_dummy = split_data(data_dummy)\n",
    "train_data_norm, test_data_norm = split_data(data_norm)\n",
    "\n",
    "name = 'popularity'\n",
    "target = 'Quantity'\n",
    "popularity = model(train_data, name, user_id, item_id, target, users_to_recommend, n_rec, n_display)"
   ]
  },
  {
   "cell_type": "code",
   "execution_count": 61,
   "metadata": {},
   "outputs": [
    {
     "data": {
      "text/html": [
       "<pre>Warning: Ignoring columns Quantity;</pre>"
      ],
      "text/plain": [
       "Warning: Ignoring columns Quantity;"
      ]
     },
     "metadata": {},
     "output_type": "display_data"
    },
    {
     "data": {
      "text/html": [
       "<pre>    To use these columns in scoring predictions, use a model that allows the use of additional features.</pre>"
      ],
      "text/plain": [
       "    To use these columns in scoring predictions, use a model that allows the use of additional features."
      ]
     },
     "metadata": {},
     "output_type": "display_data"
    },
    {
     "data": {
      "text/html": [
       "<pre>Preparing data set.</pre>"
      ],
      "text/plain": [
       "Preparing data set."
      ]
     },
     "metadata": {},
     "output_type": "display_data"
    },
    {
     "data": {
      "text/html": [
       "<pre>    Data has 4728919 observations with 821054 users and 1464 items.</pre>"
      ],
      "text/plain": [
       "    Data has 4728919 observations with 821054 users and 1464 items."
      ]
     },
     "metadata": {},
     "output_type": "display_data"
    },
    {
     "data": {
      "text/html": [
       "<pre>    Data prepared in: 3.12829s</pre>"
      ],
      "text/plain": [
       "    Data prepared in: 3.12829s"
      ]
     },
     "metadata": {},
     "output_type": "display_data"
    },
    {
     "data": {
      "text/html": [
       "<pre>4728919 observations to process; with 1464 unique items.</pre>"
      ],
      "text/plain": [
       "4728919 observations to process; with 1464 unique items."
      ]
     },
     "metadata": {},
     "output_type": "display_data"
    },
    {
     "name": "stdout",
     "output_type": "stream",
     "text": [
      "+----------+--------------------------------+-------+------+\n",
      "|  CLI_ID  |            LIBELLE             | score | rank |\n",
      "+----------+--------------------------------+-------+------+\n",
      "| 1490281  |   DEO PARFUME 100ML EVIDENCE   |  1.0  |  1   |\n",
      "| 1490281  |  SVC 3en1  nutritotal T150ml   |  1.0  |  2   |\n",
      "| 1490281  | CR CORPS FONDANTE P150ml NOEL1 |  1.0  |  3   |\n",
      "| 1490281  |   CONTOUR YX BS AC.SENS.15ML   |  1.0  |  4   |\n",
      "| 1490281  | DEMAQ EXPRESS PUR BLEUET F...  |  1.0  |  5   |\n",
      "| 1490281  |  VAO ROSE SORBET 12 LUM4 3ML   |  1.0  |  6   |\n",
      "| 1490281  |    ARA SPLASH TRANSAT 100ML    |  1.0  |  7   |\n",
      "| 1490281  | VAO BRILLANCE MAUVE PDRE 2...  |  1.0  |  8   |\n",
      "| 1490281  | CR SECURIT EXT IP50 T 75ML...  |  1.0  |  9   |\n",
      "| 1490281  |      SVC VOLUME SH 300ML       |  1.0  |  10  |\n",
      "| 13290776 |   DEO PARFUME 100ML EVIDENCE   |  1.0  |  1   |\n",
      "| 13290776 |  SVC 3en1  nutritotal T150ml   |  1.0  |  2   |\n",
      "| 13290776 | CR CORPS FONDANTE P150ml NOEL1 |  1.0  |  3   |\n",
      "| 13290776 |   CONTOUR YX BS AC.SENS.15ML   |  1.0  |  4   |\n",
      "| 13290776 | DEMAQ EXPRESS PUR BLEUET F...  |  1.0  |  5   |\n",
      "| 13290776 |  VAO ROSE SORBET 12 LUM4 3ML   |  1.0  |  6   |\n",
      "| 13290776 |    ARA SPLASH TRANSAT 100ML    |  1.0  |  7   |\n",
      "| 13290776 | VAO BRILLANCE MAUVE PDRE 2...  |  1.0  |  8   |\n",
      "| 13290776 | CR SECURIT EXT IP50 T 75ML...  |  1.0  |  9   |\n",
      "| 13290776 |      SVC VOLUME SH 300ML       |  1.0  |  10  |\n",
      "| 20163348 |   DEO PARFUME 100ML EVIDENCE   |  1.0  |  1   |\n",
      "| 20163348 |  SVC 3en1  nutritotal T150ml   |  1.0  |  2   |\n",
      "| 20163348 | CR CORPS FONDANTE P150ml NOEL1 |  1.0  |  3   |\n",
      "| 20163348 |   CONTOUR YX BS AC.SENS.15ML   |  1.0  |  4   |\n",
      "| 20163348 | DEMAQ EXPRESS PUR BLEUET F...  |  1.0  |  5   |\n",
      "| 20163348 |  VAO ROSE SORBET 12 LUM4 3ML   |  1.0  |  6   |\n",
      "| 20163348 |    ARA SPLASH TRANSAT 100ML    |  1.0  |  7   |\n",
      "| 20163348 | VAO BRILLANCE MAUVE PDRE 2...  |  1.0  |  8   |\n",
      "| 20163348 | CR SECURIT EXT IP50 T 75ML...  |  1.0  |  9   |\n",
      "| 20163348 |      SVC VOLUME SH 300ML       |  1.0  |  10  |\n",
      "+----------+--------------------------------+-------+------+\n",
      "[1110 rows x 4 columns]\n",
      "\n"
     ]
    },
    {
     "data": {
      "text/html": [
       "<pre>Preparing data set.</pre>"
      ],
      "text/plain": [
       "Preparing data set."
      ]
     },
     "metadata": {},
     "output_type": "display_data"
    },
    {
     "data": {
      "text/html": [
       "<pre>    Data has 4727737 observations with 821105 users and 1269 items.</pre>"
      ],
      "text/plain": [
       "    Data has 4727737 observations with 821105 users and 1269 items."
      ]
     },
     "metadata": {},
     "output_type": "display_data"
    },
    {
     "data": {
      "text/html": [
       "<pre>    Data prepared in: 3.62301s</pre>"
      ],
      "text/plain": [
       "    Data prepared in: 3.62301s"
      ]
     },
     "metadata": {},
     "output_type": "display_data"
    },
    {
     "data": {
      "text/html": [
       "<pre>4727737 observations to process; with 1269 unique items.</pre>"
      ],
      "text/plain": [
       "4727737 observations to process; with 1269 unique items."
      ]
     },
     "metadata": {},
     "output_type": "display_data"
    },
    {
     "name": "stdout",
     "output_type": "stream",
     "text": [
      "+----------+--------------------------------+---------------------+------+\n",
      "|  CLI_ID  |            LIBELLE             |        score        | rank |\n",
      "+----------+--------------------------------+---------------------+------+\n",
      "| 1490281  | FDT PINCEAU ECLAT CLAIR CN3 15 |         1.0         |  1   |\n",
      "| 1490281  |   DEO BILLE JDM LOTUS FL50ML   |         0.5         |  2   |\n",
      "| 1490281  | BAIN DOUCHE POMME D'API 250 ML |  0.3333333333333333 |  3   |\n",
      "| 1490281  |      SAVON  PN POMME VPM       |         0.2         |  4   |\n",
      "| 1490281  | MAXI SHAMP DOUCEUR HAMAMEL...  |         0.2         |  5   |\n",
      "| 1490281  |    GINSENG BONNE MINE T50ml    |         0.2         |  6   |\n",
      "| 1490281  | LIFTING CORPS ENRICHI++SVH 150 | 0.18181818181818182 |  7   |\n",
      "| 1490281  | LINER SOLEI/BLEU ETE12 LU4...  | 0.16666666666666666 |  8   |\n",
      "| 1490281  | VAO BRILL TAUPE ROSE OS12 ...  |        0.125        |  9   |\n",
      "| 1490281  | CREME MAINS HYD T30 Ml CIT...  | 0.12244897959183673 |  10  |\n",
      "| 13290776 | FDT PINCEAU ECLAT CLAIR CN3 15 |         1.0         |  1   |\n",
      "| 13290776 |   DEO BILLE JDM LOTUS FL50ML   |         0.5         |  2   |\n",
      "| 13290776 | BAIN DOUCHE POMME D'API 250 ML |  0.3333333333333333 |  3   |\n",
      "| 13290776 |      SAVON  PN POMME VPM       |         0.2         |  4   |\n",
      "| 13290776 | MAXI SHAMP DOUCEUR HAMAMEL...  |         0.2         |  5   |\n",
      "| 13290776 |    GINSENG BONNE MINE T50ml    |         0.2         |  6   |\n",
      "| 13290776 | LIFTING CORPS ENRICHI++SVH 150 | 0.18181818181818182 |  7   |\n",
      "| 13290776 | LINER SOLEI/BLEU ETE12 LU4...  | 0.16666666666666666 |  8   |\n",
      "| 13290776 | VAO BRILL TAUPE ROSE OS12 ...  |        0.125        |  9   |\n",
      "| 13290776 | CREME MAINS HYD T30 Ml CIT...  | 0.12244897959183673 |  10  |\n",
      "| 20163348 | FDT PINCEAU ECLAT CLAIR CN3 15 |         1.0         |  1   |\n",
      "| 20163348 |   DEO BILLE JDM LOTUS FL50ML   |         0.5         |  2   |\n",
      "| 20163348 | BAIN DOUCHE POMME D'API 250 ML |  0.3333333333333333 |  3   |\n",
      "| 20163348 |      SAVON  PN POMME VPM       |         0.2         |  4   |\n",
      "| 20163348 | MAXI SHAMP DOUCEUR HAMAMEL...  |         0.2         |  5   |\n",
      "| 20163348 |    GINSENG BONNE MINE T50ml    |         0.2         |  6   |\n",
      "| 20163348 | LIFTING CORPS ENRICHI++SVH 150 | 0.18181818181818182 |  7   |\n",
      "| 20163348 | LINER SOLEI/BLEU ETE12 LU4...  | 0.16666666666666666 |  8   |\n",
      "| 20163348 | VAO BRILL TAUPE ROSE OS12 ...  |        0.125        |  9   |\n",
      "| 20163348 | CREME MAINS HYD T30 Ml CIT...  | 0.12244897959183673 |  10  |\n",
      "+----------+--------------------------------+---------------------+------+\n",
      "[1110 rows x 4 columns]\n",
      "\n"
     ]
    }
   ],
   "source": [
    "name = 'popularity'\n",
    "target = 'purchase_dummy'\n",
    "pop_dummy = model(train_data_dummy, name, user_id, item_id, target, users_to_recommend, n_rec, n_display)\n",
    "\n",
    "name = 'popularity'\n",
    "target = 'scaled_purchase_freq'\n",
    "pop_norm = model(train_data_norm, name, user_id, item_id, target, users_to_recommend, n_rec, n_display)"
   ]
  },
  {
   "cell_type": "markdown",
   "metadata": {},
   "source": [
    "## Recommendation model"
   ]
  },
  {
   "cell_type": "code",
   "execution_count": 56,
   "metadata": {},
   "outputs": [
    {
     "data": {
      "text/html": [
       "<pre>Preparing data set.</pre>"
      ],
      "text/plain": [
       "Preparing data set."
      ]
     },
     "metadata": {},
     "output_type": "display_data"
    },
    {
     "data": {
      "text/html": [
       "<pre>    Data has 4728919 observations with 820707 users and 1471 items.</pre>"
      ],
      "text/plain": [
       "    Data has 4728919 observations with 820707 users and 1471 items."
      ]
     },
     "metadata": {},
     "output_type": "display_data"
    },
    {
     "data": {
      "text/html": [
       "<pre>    Data prepared in: 2.8369s</pre>"
      ],
      "text/plain": [
       "    Data prepared in: 2.8369s"
      ]
     },
     "metadata": {},
     "output_type": "display_data"
    },
    {
     "data": {
      "text/html": [
       "<pre>Training model from provided data.</pre>"
      ],
      "text/plain": [
       "Training model from provided data."
      ]
     },
     "metadata": {},
     "output_type": "display_data"
    },
    {
     "data": {
      "text/html": [
       "<pre>Gathering per-item and per-user statistics.</pre>"
      ],
      "text/plain": [
       "Gathering per-item and per-user statistics."
      ]
     },
     "metadata": {},
     "output_type": "display_data"
    },
    {
     "data": {
      "text/html": [
       "<pre>+--------------------------------+------------+</pre>"
      ],
      "text/plain": [
       "+--------------------------------+------------+"
      ]
     },
     "metadata": {},
     "output_type": "display_data"
    },
    {
     "data": {
      "text/html": [
       "<pre>| Elapsed Time (Item Statistics) | % Complete |</pre>"
      ],
      "text/plain": [
       "| Elapsed Time (Item Statistics) | % Complete |"
      ]
     },
     "metadata": {},
     "output_type": "display_data"
    },
    {
     "data": {
      "text/html": [
       "<pre>+--------------------------------+------------+</pre>"
      ],
      "text/plain": [
       "+--------------------------------+------------+"
      ]
     },
     "metadata": {},
     "output_type": "display_data"
    },
    {
     "data": {
      "text/html": [
       "<pre>| 4.124ms                        | 0          |</pre>"
      ],
      "text/plain": [
       "| 4.124ms                        | 0          |"
      ]
     },
     "metadata": {},
     "output_type": "display_data"
    },
    {
     "data": {
      "text/html": [
       "<pre>| 109.183ms                      | 100        |</pre>"
      ],
      "text/plain": [
       "| 109.183ms                      | 100        |"
      ]
     },
     "metadata": {},
     "output_type": "display_data"
    },
    {
     "data": {
      "text/html": [
       "<pre>+--------------------------------+------------+</pre>"
      ],
      "text/plain": [
       "+--------------------------------+------------+"
      ]
     },
     "metadata": {},
     "output_type": "display_data"
    },
    {
     "data": {
      "text/html": [
       "<pre>Setting up lookup tables.</pre>"
      ],
      "text/plain": [
       "Setting up lookup tables."
      ]
     },
     "metadata": {},
     "output_type": "display_data"
    },
    {
     "data": {
      "text/html": [
       "<pre>Processing data in one pass using dense lookup tables.</pre>"
      ],
      "text/plain": [
       "Processing data in one pass using dense lookup tables."
      ]
     },
     "metadata": {},
     "output_type": "display_data"
    },
    {
     "data": {
      "text/html": [
       "<pre>+-------------------------------------+------------------+-----------------+</pre>"
      ],
      "text/plain": [
       "+-------------------------------------+------------------+-----------------+"
      ]
     },
     "metadata": {},
     "output_type": "display_data"
    },
    {
     "data": {
      "text/html": [
       "<pre>| Elapsed Time (Constructing Lookups) | Total % Complete | Items Processed |</pre>"
      ],
      "text/plain": [
       "| Elapsed Time (Constructing Lookups) | Total % Complete | Items Processed |"
      ]
     },
     "metadata": {},
     "output_type": "display_data"
    },
    {
     "data": {
      "text/html": [
       "<pre>+-------------------------------------+------------------+-----------------+</pre>"
      ],
      "text/plain": [
       "+-------------------------------------+------------------+-----------------+"
      ]
     },
     "metadata": {},
     "output_type": "display_data"
    },
    {
     "data": {
      "text/html": [
       "<pre>| 123.937ms                           | 0                | 0               |</pre>"
      ],
      "text/plain": [
       "| 123.937ms                           | 0                | 0               |"
      ]
     },
     "metadata": {},
     "output_type": "display_data"
    },
    {
     "data": {
      "text/html": [
       "<pre>| 280.423ms                           | 100              | 1471            |</pre>"
      ],
      "text/plain": [
       "| 280.423ms                           | 100              | 1471            |"
      ]
     },
     "metadata": {},
     "output_type": "display_data"
    },
    {
     "data": {
      "text/html": [
       "<pre>+-------------------------------------+------------------+-----------------+</pre>"
      ],
      "text/plain": [
       "+-------------------------------------+------------------+-----------------+"
      ]
     },
     "metadata": {},
     "output_type": "display_data"
    },
    {
     "data": {
      "text/html": [
       "<pre>Finalizing lookup tables.</pre>"
      ],
      "text/plain": [
       "Finalizing lookup tables."
      ]
     },
     "metadata": {},
     "output_type": "display_data"
    },
    {
     "data": {
      "text/html": [
       "<pre>Generating candidate set for working with new users.</pre>"
      ],
      "text/plain": [
       "Generating candidate set for working with new users."
      ]
     },
     "metadata": {},
     "output_type": "display_data"
    },
    {
     "data": {
      "text/html": [
       "<pre>Finished training in 1.4089s</pre>"
      ],
      "text/plain": [
       "Finished training in 1.4089s"
      ]
     },
     "metadata": {},
     "output_type": "display_data"
    },
    {
     "name": "stdout",
     "output_type": "stream",
     "text": [
      "+----------+--------------------------------+----------------------+------+\n",
      "|  CLI_ID  |            LIBELLE             |        score         | rank |\n",
      "+----------+--------------------------------+----------------------+------+\n",
      "| 1490281  |   GD JDM4 CIT VERT FL 200ML    | 0.19207489490509033  |  1   |\n",
      "| 1490281  |    GD JDM4 GRENADE FL200ML     | 0.18828971683979034  |  2   |\n",
      "| 1490281  |    GD JDM4 ORANGE FL 200ML     | 0.18088458478450775  |  3   |\n",
      "| 1490281  |     GD JDM4 LOTUS FL200ML      | 0.15867900848388672  |  4   |\n",
      "| 1490281  | GD JDM4 LAVANDIN DE PROVEN...  |  0.140459805727005   |  5   |\n",
      "| 1490281  |    GD JDM4 THE VERT FL200ML    |  0.137405127286911   |  6   |\n",
      "| 1490281  |  GD FL200ML JDM PAMPLEMOUSSE   | 0.12950025498867035  |  7   |\n",
      "| 1490281  |    CD JDM4 AMANDE  FL 200ML    |  0.1119459867477417  |  8   |\n",
      "| 1490281  |    CD JDM4 COTON  FL 200ML     | 0.10519230365753174  |  9   |\n",
      "| 1490281  |   CD JDM4 MACADAMIA FL 200ML   | 0.09774887561798096  |  10  |\n",
      "| 13290776 |     LAIT LILAS FP FL200ML      | 0.30744179089864093  |  1   |\n",
      "| 13290776 |    UMAJ GD MUGUET FL 200ML     |  0.2673782706260681  |  2   |\n",
      "| 13290776 | EDT UN MATIN AU JARDIN 100...  | 0.21508590380350748  |  3   |\n",
      "| 13290776 |       GD ROSE FP FL200ML       |  0.1817586620648702  |  4   |\n",
      "| 13290776 |   UMAJ GD CERISIERS FL200ML    | 0.16184345881144205  |  5   |\n",
      "| 13290776 |   UMAJ LAIT MUGUET FL 200ML    | 0.12356501817703247  |  6   |\n",
      "| 13290776 |    GD AGRUMES FP FL 200 ML     | 0.11907064914703369  |  7   |\n",
      "| 13290776 | EDT UN MATIN AU JARDIN 20M...  | 0.10740673542022705  |  8   |\n",
      "| 13290776 | GD JDM4 LAVANDIN DE PROVEN...  | 0.08996568123499553  |  9   |\n",
      "| 13290776 |      BD COCO PN2 FL400ML       | 0.08224417765935262  |  10  |\n",
      "| 20163348 | RAL BRILLANC GEL/CARAMEL C...  | 0.045844197273254395 |  1   |\n",
      "| 20163348 | FAP CR PASTEL VERT/BOCAG C...  | 0.025490641593933105 |  2   |\n",
      "| 20163348 | RAL BRILLANC GEL/AMBRE CN3 2G  |  0.0232696533203125  |  3   |\n",
      "| 20163348 | RAL BRILLANCE GEL/CASSIS C...  | 0.018946051597595215 |  4   |\n",
      "| 20163348 | RAL BRILLANCE GEL/GROSEIL ...  | 0.018748760223388672 |  5   |\n",
      "| 20163348 | SVC ANTIPEOL LOTION VPM 150ML  | 0.01612168550491333  |  6   |\n",
      "| 20163348 | RAL BRILLANC GEL/LITCHI CN3 2G | 0.016114234924316406 |  7   |\n",
      "| 20163348 | RAL BRILLANC GEL/TANGERIN ...  | 0.014504551887512207 |  8   |\n",
      "| 20163348 | GLOSS SEXYPULP CARAMEL 05 ...  | 0.014432728290557861 |  9   |\n",
      "| 20163348 | ACTION CUISSES FUSELEES 150ML  | 0.01419156789779663  |  10  |\n",
      "+----------+--------------------------------+----------------------+------+\n",
      "[1110 rows x 4 columns]\n",
      "\n"
     ]
    }
   ],
   "source": [
    "name = 'cosine'\n",
    "target = 'Quantity'\n",
    "cos = model(train_data, name, user_id, item_id, target, users_to_recommend, n_rec, n_display)"
   ]
  },
  {
   "cell_type": "code",
   "execution_count": 57,
   "metadata": {},
   "outputs": [
    {
     "data": {
      "text/html": [
       "<pre>Warning: Ignoring columns Quantity;</pre>"
      ],
      "text/plain": [
       "Warning: Ignoring columns Quantity;"
      ]
     },
     "metadata": {},
     "output_type": "display_data"
    },
    {
     "data": {
      "text/html": [
       "<pre>    To use these columns in scoring predictions, use a model that allows the use of additional features.</pre>"
      ],
      "text/plain": [
       "    To use these columns in scoring predictions, use a model that allows the use of additional features."
      ]
     },
     "metadata": {},
     "output_type": "display_data"
    },
    {
     "data": {
      "text/html": [
       "<pre>Preparing data set.</pre>"
      ],
      "text/plain": [
       "Preparing data set."
      ]
     },
     "metadata": {},
     "output_type": "display_data"
    },
    {
     "data": {
      "text/html": [
       "<pre>    Data has 4728919 observations with 821054 users and 1464 items.</pre>"
      ],
      "text/plain": [
       "    Data has 4728919 observations with 821054 users and 1464 items."
      ]
     },
     "metadata": {},
     "output_type": "display_data"
    },
    {
     "data": {
      "text/html": [
       "<pre>    Data prepared in: 3.10349s</pre>"
      ],
      "text/plain": [
       "    Data prepared in: 3.10349s"
      ]
     },
     "metadata": {},
     "output_type": "display_data"
    },
    {
     "data": {
      "text/html": [
       "<pre>Training model from provided data.</pre>"
      ],
      "text/plain": [
       "Training model from provided data."
      ]
     },
     "metadata": {},
     "output_type": "display_data"
    },
    {
     "data": {
      "text/html": [
       "<pre>Gathering per-item and per-user statistics.</pre>"
      ],
      "text/plain": [
       "Gathering per-item and per-user statistics."
      ]
     },
     "metadata": {},
     "output_type": "display_data"
    },
    {
     "data": {
      "text/html": [
       "<pre>+--------------------------------+------------+</pre>"
      ],
      "text/plain": [
       "+--------------------------------+------------+"
      ]
     },
     "metadata": {},
     "output_type": "display_data"
    },
    {
     "data": {
      "text/html": [
       "<pre>| Elapsed Time (Item Statistics) | % Complete |</pre>"
      ],
      "text/plain": [
       "| Elapsed Time (Item Statistics) | % Complete |"
      ]
     },
     "metadata": {},
     "output_type": "display_data"
    },
    {
     "data": {
      "text/html": [
       "<pre>+--------------------------------+------------+</pre>"
      ],
      "text/plain": [
       "+--------------------------------+------------+"
      ]
     },
     "metadata": {},
     "output_type": "display_data"
    },
    {
     "data": {
      "text/html": [
       "<pre>| 1.499ms                        | 0          |</pre>"
      ],
      "text/plain": [
       "| 1.499ms                        | 0          |"
      ]
     },
     "metadata": {},
     "output_type": "display_data"
    },
    {
     "data": {
      "text/html": [
       "<pre>| 104.729ms                      | 100        |</pre>"
      ],
      "text/plain": [
       "| 104.729ms                      | 100        |"
      ]
     },
     "metadata": {},
     "output_type": "display_data"
    },
    {
     "data": {
      "text/html": [
       "<pre>+--------------------------------+------------+</pre>"
      ],
      "text/plain": [
       "+--------------------------------+------------+"
      ]
     },
     "metadata": {},
     "output_type": "display_data"
    },
    {
     "data": {
      "text/html": [
       "<pre>Setting up lookup tables.</pre>"
      ],
      "text/plain": [
       "Setting up lookup tables."
      ]
     },
     "metadata": {},
     "output_type": "display_data"
    },
    {
     "data": {
      "text/html": [
       "<pre>Processing data in one pass using dense lookup tables.</pre>"
      ],
      "text/plain": [
       "Processing data in one pass using dense lookup tables."
      ]
     },
     "metadata": {},
     "output_type": "display_data"
    },
    {
     "data": {
      "text/html": [
       "<pre>+-------------------------------------+------------------+-----------------+</pre>"
      ],
      "text/plain": [
       "+-------------------------------------+------------------+-----------------+"
      ]
     },
     "metadata": {},
     "output_type": "display_data"
    },
    {
     "data": {
      "text/html": [
       "<pre>| Elapsed Time (Constructing Lookups) | Total % Complete | Items Processed |</pre>"
      ],
      "text/plain": [
       "| Elapsed Time (Constructing Lookups) | Total % Complete | Items Processed |"
      ]
     },
     "metadata": {},
     "output_type": "display_data"
    },
    {
     "data": {
      "text/html": [
       "<pre>+-------------------------------------+------------------+-----------------+</pre>"
      ],
      "text/plain": [
       "+-------------------------------------+------------------+-----------------+"
      ]
     },
     "metadata": {},
     "output_type": "display_data"
    },
    {
     "data": {
      "text/html": [
       "<pre>| 115.26ms                            | 0                | 0               |</pre>"
      ],
      "text/plain": [
       "| 115.26ms                            | 0                | 0               |"
      ]
     },
     "metadata": {},
     "output_type": "display_data"
    },
    {
     "data": {
      "text/html": [
       "<pre>| 270.511ms                           | 100              | 1464            |</pre>"
      ],
      "text/plain": [
       "| 270.511ms                           | 100              | 1464            |"
      ]
     },
     "metadata": {},
     "output_type": "display_data"
    },
    {
     "data": {
      "text/html": [
       "<pre>+-------------------------------------+------------------+-----------------+</pre>"
      ],
      "text/plain": [
       "+-------------------------------------+------------------+-----------------+"
      ]
     },
     "metadata": {},
     "output_type": "display_data"
    },
    {
     "data": {
      "text/html": [
       "<pre>Finalizing lookup tables.</pre>"
      ],
      "text/plain": [
       "Finalizing lookup tables."
      ]
     },
     "metadata": {},
     "output_type": "display_data"
    },
    {
     "data": {
      "text/html": [
       "<pre>Generating candidate set for working with new users.</pre>"
      ],
      "text/plain": [
       "Generating candidate set for working with new users."
      ]
     },
     "metadata": {},
     "output_type": "display_data"
    },
    {
     "data": {
      "text/html": [
       "<pre>Finished training in 0.390049s</pre>"
      ],
      "text/plain": [
       "Finished training in 0.390049s"
      ]
     },
     "metadata": {},
     "output_type": "display_data"
    },
    {
     "name": "stdout",
     "output_type": "stream",
     "text": [
      "+----------+--------------------------------+----------------------+------+\n",
      "|  CLI_ID  |            LIBELLE             |        score         | rank |\n",
      "+----------+--------------------------------+----------------------+------+\n",
      "| 1490281  |    GD JDM4 GRENADE FL200ML     | 0.16449000438054404  |  1   |\n",
      "| 1490281  |   GD JDM4 CIT VERT FL 200ML    | 0.15667176246643066  |  2   |\n",
      "| 1490281  |     GD JDM4 LOTUS FL200ML      |  0.1561986207962036  |  3   |\n",
      "| 1490281  |    GD JDM4 ORANGE FL 200ML     | 0.14291141430536905  |  4   |\n",
      "| 1490281  | GD JDM4 LAVANDIN DE PROVEN...  | 0.13016831874847412  |  5   |\n",
      "| 1490281  |    GD JDM4 THE VERT FL200ML    | 0.12907890478769937  |  6   |\n",
      "| 1490281  |    CD JDM4 AMANDE  FL 200ML    | 0.11523274580637614  |  7   |\n",
      "| 1490281  |   CD JDM4 MAGNOLIA FL 200ML    | 0.11421865224838257  |  8   |\n",
      "| 1490281  |    CD JDM4 COTON  FL 200ML     | 0.10859342416127522  |  9   |\n",
      "| 1490281  |   CD JDM4 MACADAMIA FL 200ML   | 0.09799361228942871  |  10  |\n",
      "| 13290776 |     LAIT LILAS FP FL200ML      | 0.15997497737407684  |  1   |\n",
      "| 13290776 |    UMAJ GD MUGUET FL 200ML     | 0.11319862306118011  |  2   |\n",
      "| 13290776 |   UMAJ LAIT MUGUET FL 200ML    | 0.08226031064987183  |  3   |\n",
      "| 13290776 |       GD ROSE FP FL200ML       | 0.05775196850299835  |  4   |\n",
      "| 13290776 |      BD COCO PN2 FL400ML       |  0.0571901798248291  |  5   |\n",
      "| 13290776 |   UMAJ GD CERISIERS FL200ML    |  0.0528072863817215  |  6   |\n",
      "| 13290776 | EDT UN MATIN AU JARDIN 100...  | 0.043790847063064575 |  7   |\n",
      "| 13290776 | GD JDM4 LAVANDIN DE PROVEN...  | 0.043604180216789246 |  8   |\n",
      "| 13290776 |     GD JDM4 LOTUS FL200ML      | 0.04344199597835541  |  9   |\n",
      "| 13290776 | EDT  UMAJ  100ML  CERISIER...  | 0.042203038930892944 |  10  |\n",
      "| 20163348 | RAL BRILLANC GEL/CARAMEL C...  | 0.03292304277420044  |  1   |\n",
      "| 20163348 | FAP CR PASTEL VERT/BOCAG C...  | 0.02875983715057373  |  2   |\n",
      "| 20163348 | RAL BRILLANC GEL/AMBRE CN3 2G  | 0.023320913314819336 |  3   |\n",
      "| 20163348 | RAL BRILLANCE GEL/CASSIS C...  | 0.020982027053833008 |  4   |\n",
      "| 20163348 | RAL BRILLANC GEL/TANGERIN ...  | 0.015817105770111084 |  5   |\n",
      "| 20163348 | RAL BRILLANC GEL/LITCHI CN3 2G | 0.014607131481170654 |  6   |\n",
      "| 20163348 | RAL CR HYD BEIG/SESAME CN3...  | 0.014099836349487305 |  7   |\n",
      "| 20163348 | GLOSS SEXYPULP RGE SOMBRE ...  | 0.013604283332824707 |  8   |\n",
      "| 20163348 | DEMAQ EXPRESS PUR BLEUET F...  | 0.013009905815124512 |  9   |\n",
      "| 20163348 | VAO BRILLANCE BRUN PEAU CN...  | 0.01273190975189209  |  10  |\n",
      "+----------+--------------------------------+----------------------+------+\n",
      "[1110 rows x 4 columns]\n",
      "\n"
     ]
    },
    {
     "data": {
      "text/html": [
       "<pre>Preparing data set.</pre>"
      ],
      "text/plain": [
       "Preparing data set."
      ]
     },
     "metadata": {},
     "output_type": "display_data"
    },
    {
     "data": {
      "text/html": [
       "<pre>    Data has 4727737 observations with 821105 users and 1269 items.</pre>"
      ],
      "text/plain": [
       "    Data has 4727737 observations with 821105 users and 1269 items."
      ]
     },
     "metadata": {},
     "output_type": "display_data"
    },
    {
     "data": {
      "text/html": [
       "<pre>    Data prepared in: 3.17879s</pre>"
      ],
      "text/plain": [
       "    Data prepared in: 3.17879s"
      ]
     },
     "metadata": {},
     "output_type": "display_data"
    },
    {
     "data": {
      "text/html": [
       "<pre>Training model from provided data.</pre>"
      ],
      "text/plain": [
       "Training model from provided data."
      ]
     },
     "metadata": {},
     "output_type": "display_data"
    },
    {
     "data": {
      "text/html": [
       "<pre>Gathering per-item and per-user statistics.</pre>"
      ],
      "text/plain": [
       "Gathering per-item and per-user statistics."
      ]
     },
     "metadata": {},
     "output_type": "display_data"
    },
    {
     "data": {
      "text/html": [
       "<pre>+--------------------------------+------------+</pre>"
      ],
      "text/plain": [
       "+--------------------------------+------------+"
      ]
     },
     "metadata": {},
     "output_type": "display_data"
    },
    {
     "data": {
      "text/html": [
       "<pre>| Elapsed Time (Item Statistics) | % Complete |</pre>"
      ],
      "text/plain": [
       "| Elapsed Time (Item Statistics) | % Complete |"
      ]
     },
     "metadata": {},
     "output_type": "display_data"
    },
    {
     "data": {
      "text/html": [
       "<pre>+--------------------------------+------------+</pre>"
      ],
      "text/plain": [
       "+--------------------------------+------------+"
      ]
     },
     "metadata": {},
     "output_type": "display_data"
    },
    {
     "data": {
      "text/html": [
       "<pre>| 1.634ms                        | 0          |</pre>"
      ],
      "text/plain": [
       "| 1.634ms                        | 0          |"
      ]
     },
     "metadata": {},
     "output_type": "display_data"
    },
    {
     "data": {
      "text/html": [
       "<pre>| 93.299ms                       | 100        |</pre>"
      ],
      "text/plain": [
       "| 93.299ms                       | 100        |"
      ]
     },
     "metadata": {},
     "output_type": "display_data"
    },
    {
     "data": {
      "text/html": [
       "<pre>+--------------------------------+------------+</pre>"
      ],
      "text/plain": [
       "+--------------------------------+------------+"
      ]
     },
     "metadata": {},
     "output_type": "display_data"
    },
    {
     "data": {
      "text/html": [
       "<pre>Setting up lookup tables.</pre>"
      ],
      "text/plain": [
       "Setting up lookup tables."
      ]
     },
     "metadata": {},
     "output_type": "display_data"
    },
    {
     "data": {
      "text/html": [
       "<pre>Processing data in one pass using dense lookup tables.</pre>"
      ],
      "text/plain": [
       "Processing data in one pass using dense lookup tables."
      ]
     },
     "metadata": {},
     "output_type": "display_data"
    },
    {
     "data": {
      "text/html": [
       "<pre>+-------------------------------------+------------------+-----------------+</pre>"
      ],
      "text/plain": [
       "+-------------------------------------+------------------+-----------------+"
      ]
     },
     "metadata": {},
     "output_type": "display_data"
    },
    {
     "data": {
      "text/html": [
       "<pre>| Elapsed Time (Constructing Lookups) | Total % Complete | Items Processed |</pre>"
      ],
      "text/plain": [
       "| Elapsed Time (Constructing Lookups) | Total % Complete | Items Processed |"
      ]
     },
     "metadata": {},
     "output_type": "display_data"
    },
    {
     "data": {
      "text/html": [
       "<pre>+-------------------------------------+------------------+-----------------+</pre>"
      ],
      "text/plain": [
       "+-------------------------------------+------------------+-----------------+"
      ]
     },
     "metadata": {},
     "output_type": "display_data"
    },
    {
     "data": {
      "text/html": [
       "<pre>| 105.637ms                           | 0                | 0               |</pre>"
      ],
      "text/plain": [
       "| 105.637ms                           | 0                | 0               |"
      ]
     },
     "metadata": {},
     "output_type": "display_data"
    },
    {
     "data": {
      "text/html": [
       "<pre>| 243.535ms                           | 100              | 1269            |</pre>"
      ],
      "text/plain": [
       "| 243.535ms                           | 100              | 1269            |"
      ]
     },
     "metadata": {},
     "output_type": "display_data"
    },
    {
     "data": {
      "text/html": [
       "<pre>+-------------------------------------+------------------+-----------------+</pre>"
      ],
      "text/plain": [
       "+-------------------------------------+------------------+-----------------+"
      ]
     },
     "metadata": {},
     "output_type": "display_data"
    },
    {
     "data": {
      "text/html": [
       "<pre>Finalizing lookup tables.</pre>"
      ],
      "text/plain": [
       "Finalizing lookup tables."
      ]
     },
     "metadata": {},
     "output_type": "display_data"
    },
    {
     "data": {
      "text/html": [
       "<pre>Generating candidate set for working with new users.</pre>"
      ],
      "text/plain": [
       "Generating candidate set for working with new users."
      ]
     },
     "metadata": {},
     "output_type": "display_data"
    },
    {
     "data": {
      "text/html": [
       "<pre>Finished training in 0.358893s</pre>"
      ],
      "text/plain": [
       "Finished training in 0.358893s"
      ]
     },
     "metadata": {},
     "output_type": "display_data"
    },
    {
     "name": "stdout",
     "output_type": "stream",
     "text": [
      "+----------+--------------------------------+-----------------------+------+\n",
      "|  CLI_ID  |            LIBELLE             |         score         | rank |\n",
      "+----------+--------------------------------+-----------------------+------+\n",
      "| 1490281  | DUO PDRE HAL/MAT02 AX/SOLA...  |          0.0          |  1   |\n",
      "| 1490281  | RIDES+FERMETE NUIT P50ml SV40  |          0.0          |  2   |\n",
      "| 1490281  | FDT FL/MAT BEIG300 MEDIUM ...  |          0.0          |  3   |\n",
      "| 1490281  |    HYDRA LAIT DEMAQ FL200ML    |          0.0          |  4   |\n",
      "| 1490281  |  GD FL200ML JDM PAMPLEMOUSSE   |          0.0          |  5   |\n",
      "| 1490281  |       GD ROSE FP FL200ML       |          0.0          |  6   |\n",
      "| 1490281  | PETIT SAVON FRAISE PN 50G VPM  |          0.0          |  7   |\n",
      "| 1490281  |    BAUME LEVRES VANILLE 4G     |          0.0          |  8   |\n",
      "| 1490281  | SOIN REGAL JOUR OVALE LIFT...  |          0.0          |  9   |\n",
      "| 1490281  |   DEO PARFUME 100ML EVIDENCE   |          0.0          |  10  |\n",
      "| 13290776 |    UMAJ GD MUGUET FL 200ML     | 0.0037541747093200683 |  1   |\n",
      "| 13290776 |   UMAJ LAIT MUGUET FL 200ML    | 0.0036131978034973145 |  2   |\n",
      "| 13290776 |       GD ROSE FP FL200ML       |  0.00270235538482666  |  3   |\n",
      "| 13290776 |   UMAJ GD CERISIERS FL200ML    | 0.0025309324264526367 |  4   |\n",
      "| 13290776 | EDT UN MATIN AU JARDIN 20M...  |  0.002471292018890381 |  5   |\n",
      "| 13290776 |  CREME MAINS OLIVE PN2 200ML   | 0.0017372846603393554 |  6   |\n",
      "| 13290776 |    GD AGRUMES FP FL 200 ML     | 0.0017269253730773926 |  7   |\n",
      "| 13290776 | CREME MAINS VANILLE PN2 FP...  | 0.0017015576362609864 |  8   |\n",
      "| 13290776 |     LINGETTES DEMAQ 3 THES     | 0.0015438199043273926 |  9   |\n",
      "| 13290776 | CRAYON BLANC MANUCURE CN3 1.1G | 0.0013675689697265625 |  10  |\n",
      "| 20163348 | DUO PDRE HAL/MAT02 AX/SOLA...  |          0.0          |  1   |\n",
      "| 20163348 | RIDES+FERMETE NUIT P50ml SV40  |          0.0          |  2   |\n",
      "| 20163348 | FDT FL/MAT BEIG300 MEDIUM ...  |          0.0          |  3   |\n",
      "| 20163348 |    HYDRA LAIT DEMAQ FL200ML    |          0.0          |  4   |\n",
      "| 20163348 |  GD FL200ML JDM PAMPLEMOUSSE   |          0.0          |  5   |\n",
      "| 20163348 |       GD ROSE FP FL200ML       |          0.0          |  6   |\n",
      "| 20163348 | PETIT SAVON FRAISE PN 50G VPM  |          0.0          |  7   |\n",
      "| 20163348 |    BAUME LEVRES VANILLE 4G     |          0.0          |  8   |\n",
      "| 20163348 | SOIN REGAL JOUR OVALE LIFT...  |          0.0          |  9   |\n",
      "| 20163348 |   DEO PARFUME 100ML EVIDENCE   |          0.0          |  10  |\n",
      "+----------+--------------------------------+-----------------------+------+\n",
      "[1110 rows x 4 columns]\n",
      "\n"
     ]
    }
   ],
   "source": [
    "name = 'cosine'\n",
    "target = 'purchase_dummy'\n",
    "cos_dummy = model(train_data_dummy, name, user_id, item_id, target, users_to_recommend, n_rec, n_display)\n",
    "\n",
    "name = 'cosine'\n",
    "target = 'scaled_purchase_freq'\n",
    "cos_norm = model(train_data_norm, name, user_id, item_id, target, users_to_recommend, n_rec, n_display)"
   ]
  },
  {
   "cell_type": "code",
   "execution_count": 58,
   "metadata": {},
   "outputs": [
    {
     "data": {
      "text/html": [
       "<pre>Preparing data set.</pre>"
      ],
      "text/plain": [
       "Preparing data set."
      ]
     },
     "metadata": {},
     "output_type": "display_data"
    },
    {
     "data": {
      "text/html": [
       "<pre>    Data has 4728919 observations with 820707 users and 1471 items.</pre>"
      ],
      "text/plain": [
       "    Data has 4728919 observations with 820707 users and 1471 items."
      ]
     },
     "metadata": {},
     "output_type": "display_data"
    },
    {
     "data": {
      "text/html": [
       "<pre>    Data prepared in: 3.23606s</pre>"
      ],
      "text/plain": [
       "    Data prepared in: 3.23606s"
      ]
     },
     "metadata": {},
     "output_type": "display_data"
    },
    {
     "data": {
      "text/html": [
       "<pre>Training model from provided data.</pre>"
      ],
      "text/plain": [
       "Training model from provided data."
      ]
     },
     "metadata": {},
     "output_type": "display_data"
    },
    {
     "data": {
      "text/html": [
       "<pre>Gathering per-item and per-user statistics.</pre>"
      ],
      "text/plain": [
       "Gathering per-item and per-user statistics."
      ]
     },
     "metadata": {},
     "output_type": "display_data"
    },
    {
     "data": {
      "text/html": [
       "<pre>+--------------------------------+------------+</pre>"
      ],
      "text/plain": [
       "+--------------------------------+------------+"
      ]
     },
     "metadata": {},
     "output_type": "display_data"
    },
    {
     "data": {
      "text/html": [
       "<pre>| Elapsed Time (Item Statistics) | % Complete |</pre>"
      ],
      "text/plain": [
       "| Elapsed Time (Item Statistics) | % Complete |"
      ]
     },
     "metadata": {},
     "output_type": "display_data"
    },
    {
     "data": {
      "text/html": [
       "<pre>+--------------------------------+------------+</pre>"
      ],
      "text/plain": [
       "+--------------------------------+------------+"
      ]
     },
     "metadata": {},
     "output_type": "display_data"
    },
    {
     "data": {
      "text/html": [
       "<pre>| 1.61ms                         | 0          |</pre>"
      ],
      "text/plain": [
       "| 1.61ms                         | 0          |"
      ]
     },
     "metadata": {},
     "output_type": "display_data"
    },
    {
     "data": {
      "text/html": [
       "<pre>| 242.517ms                      | 100        |</pre>"
      ],
      "text/plain": [
       "| 242.517ms                      | 100        |"
      ]
     },
     "metadata": {},
     "output_type": "display_data"
    },
    {
     "data": {
      "text/html": [
       "<pre>+--------------------------------+------------+</pre>"
      ],
      "text/plain": [
       "+--------------------------------+------------+"
      ]
     },
     "metadata": {},
     "output_type": "display_data"
    },
    {
     "data": {
      "text/html": [
       "<pre>Setting up lookup tables.</pre>"
      ],
      "text/plain": [
       "Setting up lookup tables."
      ]
     },
     "metadata": {},
     "output_type": "display_data"
    },
    {
     "data": {
      "text/html": [
       "<pre>Processing data in one pass using dense lookup tables.</pre>"
      ],
      "text/plain": [
       "Processing data in one pass using dense lookup tables."
      ]
     },
     "metadata": {},
     "output_type": "display_data"
    },
    {
     "data": {
      "text/html": [
       "<pre>+-------------------------------------+------------------+-----------------+</pre>"
      ],
      "text/plain": [
       "+-------------------------------------+------------------+-----------------+"
      ]
     },
     "metadata": {},
     "output_type": "display_data"
    },
    {
     "data": {
      "text/html": [
       "<pre>| Elapsed Time (Constructing Lookups) | Total % Complete | Items Processed |</pre>"
      ],
      "text/plain": [
       "| Elapsed Time (Constructing Lookups) | Total % Complete | Items Processed |"
      ]
     },
     "metadata": {},
     "output_type": "display_data"
    },
    {
     "data": {
      "text/html": [
       "<pre>+-------------------------------------+------------------+-----------------+</pre>"
      ],
      "text/plain": [
       "+-------------------------------------+------------------+-----------------+"
      ]
     },
     "metadata": {},
     "output_type": "display_data"
    },
    {
     "data": {
      "text/html": [
       "<pre>| 254.481ms                           | 0                | 0               |</pre>"
      ],
      "text/plain": [
       "| 254.481ms                           | 0                | 0               |"
      ]
     },
     "metadata": {},
     "output_type": "display_data"
    },
    {
     "data": {
      "text/html": [
       "<pre>| 815.321ms                           | 100              | 1471            |</pre>"
      ],
      "text/plain": [
       "| 815.321ms                           | 100              | 1471            |"
      ]
     },
     "metadata": {},
     "output_type": "display_data"
    },
    {
     "data": {
      "text/html": [
       "<pre>+-------------------------------------+------------------+-----------------+</pre>"
      ],
      "text/plain": [
       "+-------------------------------------+------------------+-----------------+"
      ]
     },
     "metadata": {},
     "output_type": "display_data"
    },
    {
     "data": {
      "text/html": [
       "<pre>Finalizing lookup tables.</pre>"
      ],
      "text/plain": [
       "Finalizing lookup tables."
      ]
     },
     "metadata": {},
     "output_type": "display_data"
    },
    {
     "data": {
      "text/html": [
       "<pre>Generating candidate set for working with new users.</pre>"
      ],
      "text/plain": [
       "Generating candidate set for working with new users."
      ]
     },
     "metadata": {},
     "output_type": "display_data"
    },
    {
     "data": {
      "text/html": [
       "<pre>Finished training in 0.948044s</pre>"
      ],
      "text/plain": [
       "Finished training in 0.948044s"
      ]
     },
     "metadata": {},
     "output_type": "display_data"
    },
    {
     "name": "stdout",
     "output_type": "stream",
     "text": [
      "+----------+--------------------------------+--------------------+------+\n",
      "|  CLI_ID  |            LIBELLE             |       score        | rank |\n",
      "+----------+--------------------------------+--------------------+------+\n",
      "| 1490281  | EAU DES CILS OR/TRANS ETE1...  |        3.0         |  1   |\n",
      "| 1490281  | FDT PINCEAU ECLAT CLAIR CN3 15 |        3.0         |  2   |\n",
      "| 1490281  | 25 LINGETTES DEFROISSANTES SV  | 2.4607664233576547 |  3   |\n",
      "| 1490281  | RECH DCHE DOUCEUR HAMAMELI...  | 1.9100817438692086 |  4   |\n",
      "| 1490281  | RECH GEL DOUC MAINS HAMAME...  | 1.8320437552328792 |  5   |\n",
      "| 1490281  |    LINGETTES CALMILLE 2013     | 1.8160496628759324 |  6   |\n",
      "| 1490281  | DEMAQ EXPRESS PUR BLEUET F...  | 1.815412709817125  |  7   |\n",
      "| 1490281  | REPACK CONTOUR YEUX RC2 P15ml  | 1.6967280163599214 |  8   |\n",
      "| 1490281  |       GEL NETT. PC 200ML       | 1.6806268576060528 |  9   |\n",
      "| 1490281  | SVC REFLETS SH REF ARG FL200ML | 1.6774768353528162 |  10  |\n",
      "| 13290776 | EAU DES CILS OR/TRANS ETE1...  |        3.0         |  1   |\n",
      "| 13290776 | FDT PINCEAU ECLAT CLAIR CN3 15 |        3.0         |  2   |\n",
      "| 13290776 | 25 LINGETTES DEFROISSANTES SV  | 2.4607664233576547 |  3   |\n",
      "| 13290776 | RECH DCHE DOUCEUR HAMAMELI...  | 1.9100817438692086 |  4   |\n",
      "| 13290776 | RECH GEL DOUC MAINS HAMAME...  | 1.8351324828263011 |  5   |\n",
      "| 13290776 | DEMAQ EXPRESS PUR BLEUET F...  | 1.8199738509504335 |  6   |\n",
      "| 13290776 |    LINGETTES CALMILLE 2013     | 1.8147278702733933 |  7   |\n",
      "| 13290776 | REPACK CONTOUR YEUX RC2 P15ml  | 1.6959262345466177 |  8   |\n",
      "| 13290776 |       GEL NETT. PC 200ML       | 1.687086193092147  |  9   |\n",
      "| 13290776 | SVC REFLETS SH REF ARG FL200ML | 1.6823627075579146 |  10  |\n",
      "| 20163348 | EAU DES CILS OR/TRANS ETE1...  |        3.0         |  1   |\n",
      "| 20163348 | FDT PINCEAU ECLAT CLAIR CN3 15 |        3.0         |  2   |\n",
      "| 20163348 | 25 LINGETTES DEFROISSANTES SV  | 2.4605619198214304 |  3   |\n",
      "| 20163348 | RECH DCHE DOUCEUR HAMAMELI...  | 1.910056948336982  |  4   |\n",
      "| 20163348 | RECH GEL DOUC MAINS HAMAME...  | 1.8351324828263011 |  5   |\n",
      "| 20163348 | DEMAQ EXPRESS PUR BLEUET F...  | 1.8199738509504335 |  6   |\n",
      "| 20163348 |    LINGETTES CALMILLE 2013     | 1.8144910610197007 |  7   |\n",
      "| 20163348 | REPACK CONTOUR YEUX RC2 P15ml  | 1.6966623916460237 |  8   |\n",
      "| 20163348 |       GEL NETT. PC 200ML       | 1.6806268576060528 |  9   |\n",
      "| 20163348 | SVC REFLETS SH REF ARG FL200ML | 1.6774768353528162 |  10  |\n",
      "+----------+--------------------------------+--------------------+------+\n",
      "[1110 rows x 4 columns]\n",
      "\n"
     ]
    }
   ],
   "source": [
    "name = 'pearson'\n",
    "target = 'Quantity'\n",
    "pear = model(train_data, name, user_id, item_id, target, users_to_recommend, n_rec, n_display)"
   ]
  },
  {
   "cell_type": "code",
   "execution_count": 59,
   "metadata": {},
   "outputs": [
    {
     "data": {
      "text/html": [
       "<pre>Warning: Ignoring columns Quantity;</pre>"
      ],
      "text/plain": [
       "Warning: Ignoring columns Quantity;"
      ]
     },
     "metadata": {},
     "output_type": "display_data"
    },
    {
     "data": {
      "text/html": [
       "<pre>    To use these columns in scoring predictions, use a model that allows the use of additional features.</pre>"
      ],
      "text/plain": [
       "    To use these columns in scoring predictions, use a model that allows the use of additional features."
      ]
     },
     "metadata": {},
     "output_type": "display_data"
    },
    {
     "data": {
      "text/html": [
       "<pre>Preparing data set.</pre>"
      ],
      "text/plain": [
       "Preparing data set."
      ]
     },
     "metadata": {},
     "output_type": "display_data"
    },
    {
     "data": {
      "text/html": [
       "<pre>    Data has 4728919 observations with 821054 users and 1464 items.</pre>"
      ],
      "text/plain": [
       "    Data has 4728919 observations with 821054 users and 1464 items."
      ]
     },
     "metadata": {},
     "output_type": "display_data"
    },
    {
     "data": {
      "text/html": [
       "<pre>    Data prepared in: 4.26133s</pre>"
      ],
      "text/plain": [
       "    Data prepared in: 4.26133s"
      ]
     },
     "metadata": {},
     "output_type": "display_data"
    },
    {
     "data": {
      "text/html": [
       "<pre>Training model from provided data.</pre>"
      ],
      "text/plain": [
       "Training model from provided data."
      ]
     },
     "metadata": {},
     "output_type": "display_data"
    },
    {
     "data": {
      "text/html": [
       "<pre>Gathering per-item and per-user statistics.</pre>"
      ],
      "text/plain": [
       "Gathering per-item and per-user statistics."
      ]
     },
     "metadata": {},
     "output_type": "display_data"
    },
    {
     "data": {
      "text/html": [
       "<pre>+--------------------------------+------------+</pre>"
      ],
      "text/plain": [
       "+--------------------------------+------------+"
      ]
     },
     "metadata": {},
     "output_type": "display_data"
    },
    {
     "data": {
      "text/html": [
       "<pre>| Elapsed Time (Item Statistics) | % Complete |</pre>"
      ],
      "text/plain": [
       "| Elapsed Time (Item Statistics) | % Complete |"
      ]
     },
     "metadata": {},
     "output_type": "display_data"
    },
    {
     "data": {
      "text/html": [
       "<pre>+--------------------------------+------------+</pre>"
      ],
      "text/plain": [
       "+--------------------------------+------------+"
      ]
     },
     "metadata": {},
     "output_type": "display_data"
    },
    {
     "data": {
      "text/html": [
       "<pre>| 2.36ms                         | 0          |</pre>"
      ],
      "text/plain": [
       "| 2.36ms                         | 0          |"
      ]
     },
     "metadata": {},
     "output_type": "display_data"
    },
    {
     "data": {
      "text/html": [
       "<pre>| 235.497ms                      | 100        |</pre>"
      ],
      "text/plain": [
       "| 235.497ms                      | 100        |"
      ]
     },
     "metadata": {},
     "output_type": "display_data"
    },
    {
     "data": {
      "text/html": [
       "<pre>+--------------------------------+------------+</pre>"
      ],
      "text/plain": [
       "+--------------------------------+------------+"
      ]
     },
     "metadata": {},
     "output_type": "display_data"
    },
    {
     "data": {
      "text/html": [
       "<pre>Setting up lookup tables.</pre>"
      ],
      "text/plain": [
       "Setting up lookup tables."
      ]
     },
     "metadata": {},
     "output_type": "display_data"
    },
    {
     "data": {
      "text/html": [
       "<pre>Processing data in one pass using dense lookup tables.</pre>"
      ],
      "text/plain": [
       "Processing data in one pass using dense lookup tables."
      ]
     },
     "metadata": {},
     "output_type": "display_data"
    },
    {
     "data": {
      "text/html": [
       "<pre>+-------------------------------------+------------------+-----------------+</pre>"
      ],
      "text/plain": [
       "+-------------------------------------+------------------+-----------------+"
      ]
     },
     "metadata": {},
     "output_type": "display_data"
    },
    {
     "data": {
      "text/html": [
       "<pre>| Elapsed Time (Constructing Lookups) | Total % Complete | Items Processed |</pre>"
      ],
      "text/plain": [
       "| Elapsed Time (Constructing Lookups) | Total % Complete | Items Processed |"
      ]
     },
     "metadata": {},
     "output_type": "display_data"
    },
    {
     "data": {
      "text/html": [
       "<pre>+-------------------------------------+------------------+-----------------+</pre>"
      ],
      "text/plain": [
       "+-------------------------------------+------------------+-----------------+"
      ]
     },
     "metadata": {},
     "output_type": "display_data"
    },
    {
     "data": {
      "text/html": [
       "<pre>| 246.993ms                           | 0                | 0               |</pre>"
      ],
      "text/plain": [
       "| 246.993ms                           | 0                | 0               |"
      ]
     },
     "metadata": {},
     "output_type": "display_data"
    },
    {
     "data": {
      "text/html": [
       "<pre>| 916.582ms                           | 100              | 1464            |</pre>"
      ],
      "text/plain": [
       "| 916.582ms                           | 100              | 1464            |"
      ]
     },
     "metadata": {},
     "output_type": "display_data"
    },
    {
     "data": {
      "text/html": [
       "<pre>+-------------------------------------+------------------+-----------------+</pre>"
      ],
      "text/plain": [
       "+-------------------------------------+------------------+-----------------+"
      ]
     },
     "metadata": {},
     "output_type": "display_data"
    },
    {
     "data": {
      "text/html": [
       "<pre>Finalizing lookup tables.</pre>"
      ],
      "text/plain": [
       "Finalizing lookup tables."
      ]
     },
     "metadata": {},
     "output_type": "display_data"
    },
    {
     "data": {
      "text/html": [
       "<pre>Generating candidate set for working with new users.</pre>"
      ],
      "text/plain": [
       "Generating candidate set for working with new users."
      ]
     },
     "metadata": {},
     "output_type": "display_data"
    },
    {
     "data": {
      "text/html": [
       "<pre>Finished training in 1.04378s</pre>"
      ],
      "text/plain": [
       "Finished training in 1.04378s"
      ]
     },
     "metadata": {},
     "output_type": "display_data"
    },
    {
     "name": "stdout",
     "output_type": "stream",
     "text": [
      "+----------+--------------------------------+-------+------+\n",
      "|  CLI_ID  |            LIBELLE             | score | rank |\n",
      "+----------+--------------------------------+-------+------+\n",
      "| 1490281  |   DEO PARFUME 100ML EVIDENCE   |  0.0  |  1   |\n",
      "| 1490281  |  SVC 3en1  nutritotal T150ml   |  0.0  |  2   |\n",
      "| 1490281  | CR CORPS FONDANTE P150ml NOEL1 |  0.0  |  3   |\n",
      "| 1490281  |   CONTOUR YX BS AC.SENS.15ML   |  0.0  |  4   |\n",
      "| 1490281  | DEMAQ EXPRESS PUR BLEUET F...  |  0.0  |  5   |\n",
      "| 1490281  |  VAO ROSE SORBET 12 LUM4 3ML   |  0.0  |  6   |\n",
      "| 1490281  |    ARA SPLASH TRANSAT 100ML    |  0.0  |  7   |\n",
      "| 1490281  | VAO BRILLANCE MAUVE PDRE 2...  |  0.0  |  8   |\n",
      "| 1490281  | CR SECURIT EXT IP50 T 75ML...  |  0.0  |  9   |\n",
      "| 1490281  |      SVC VOLUME SH 300ML       |  0.0  |  10  |\n",
      "| 13290776 |   DEO PARFUME 100ML EVIDENCE   |  0.0  |  1   |\n",
      "| 13290776 |  SVC 3en1  nutritotal T150ml   |  0.0  |  2   |\n",
      "| 13290776 | CR CORPS FONDANTE P150ml NOEL1 |  0.0  |  3   |\n",
      "| 13290776 |   CONTOUR YX BS AC.SENS.15ML   |  0.0  |  4   |\n",
      "| 13290776 | DEMAQ EXPRESS PUR BLEUET F...  |  0.0  |  5   |\n",
      "| 13290776 |  VAO ROSE SORBET 12 LUM4 3ML   |  0.0  |  6   |\n",
      "| 13290776 |    ARA SPLASH TRANSAT 100ML    |  0.0  |  7   |\n",
      "| 13290776 | VAO BRILLANCE MAUVE PDRE 2...  |  0.0  |  8   |\n",
      "| 13290776 | CR SECURIT EXT IP50 T 75ML...  |  0.0  |  9   |\n",
      "| 13290776 |      SVC VOLUME SH 300ML       |  0.0  |  10  |\n",
      "| 20163348 |   DEO PARFUME 100ML EVIDENCE   |  0.0  |  1   |\n",
      "| 20163348 |  SVC 3en1  nutritotal T150ml   |  0.0  |  2   |\n",
      "| 20163348 | CR CORPS FONDANTE P150ml NOEL1 |  0.0  |  3   |\n",
      "| 20163348 |   CONTOUR YX BS AC.SENS.15ML   |  0.0  |  4   |\n",
      "| 20163348 | DEMAQ EXPRESS PUR BLEUET F...  |  0.0  |  5   |\n",
      "| 20163348 |  VAO ROSE SORBET 12 LUM4 3ML   |  0.0  |  6   |\n",
      "| 20163348 |    ARA SPLASH TRANSAT 100ML    |  0.0  |  7   |\n",
      "| 20163348 | VAO BRILLANCE MAUVE PDRE 2...  |  0.0  |  8   |\n",
      "| 20163348 | CR SECURIT EXT IP50 T 75ML...  |  0.0  |  9   |\n",
      "| 20163348 |      SVC VOLUME SH 300ML       |  0.0  |  10  |\n",
      "+----------+--------------------------------+-------+------+\n",
      "[1110 rows x 4 columns]\n",
      "\n"
     ]
    },
    {
     "data": {
      "text/html": [
       "<pre>Preparing data set.</pre>"
      ],
      "text/plain": [
       "Preparing data set."
      ]
     },
     "metadata": {},
     "output_type": "display_data"
    },
    {
     "data": {
      "text/html": [
       "<pre>    Data has 4727737 observations with 821105 users and 1269 items.</pre>"
      ],
      "text/plain": [
       "    Data has 4727737 observations with 821105 users and 1269 items."
      ]
     },
     "metadata": {},
     "output_type": "display_data"
    },
    {
     "data": {
      "text/html": [
       "<pre>    Data prepared in: 4.06327s</pre>"
      ],
      "text/plain": [
       "    Data prepared in: 4.06327s"
      ]
     },
     "metadata": {},
     "output_type": "display_data"
    },
    {
     "data": {
      "text/html": [
       "<pre>Training model from provided data.</pre>"
      ],
      "text/plain": [
       "Training model from provided data."
      ]
     },
     "metadata": {},
     "output_type": "display_data"
    },
    {
     "data": {
      "text/html": [
       "<pre>Gathering per-item and per-user statistics.</pre>"
      ],
      "text/plain": [
       "Gathering per-item and per-user statistics."
      ]
     },
     "metadata": {},
     "output_type": "display_data"
    },
    {
     "data": {
      "text/html": [
       "<pre>+--------------------------------+------------+</pre>"
      ],
      "text/plain": [
       "+--------------------------------+------------+"
      ]
     },
     "metadata": {},
     "output_type": "display_data"
    },
    {
     "data": {
      "text/html": [
       "<pre>| Elapsed Time (Item Statistics) | % Complete |</pre>"
      ],
      "text/plain": [
       "| Elapsed Time (Item Statistics) | % Complete |"
      ]
     },
     "metadata": {},
     "output_type": "display_data"
    },
    {
     "data": {
      "text/html": [
       "<pre>+--------------------------------+------------+</pre>"
      ],
      "text/plain": [
       "+--------------------------------+------------+"
      ]
     },
     "metadata": {},
     "output_type": "display_data"
    },
    {
     "data": {
      "text/html": [
       "<pre>| 1.751ms                        | 0          |</pre>"
      ],
      "text/plain": [
       "| 1.751ms                        | 0          |"
      ]
     },
     "metadata": {},
     "output_type": "display_data"
    },
    {
     "data": {
      "text/html": [
       "<pre>| 139.795ms                      | 100        |</pre>"
      ],
      "text/plain": [
       "| 139.795ms                      | 100        |"
      ]
     },
     "metadata": {},
     "output_type": "display_data"
    },
    {
     "data": {
      "text/html": [
       "<pre>+--------------------------------+------------+</pre>"
      ],
      "text/plain": [
       "+--------------------------------+------------+"
      ]
     },
     "metadata": {},
     "output_type": "display_data"
    },
    {
     "data": {
      "text/html": [
       "<pre>Setting up lookup tables.</pre>"
      ],
      "text/plain": [
       "Setting up lookup tables."
      ]
     },
     "metadata": {},
     "output_type": "display_data"
    },
    {
     "data": {
      "text/html": [
       "<pre>Processing data in one pass using dense lookup tables.</pre>"
      ],
      "text/plain": [
       "Processing data in one pass using dense lookup tables."
      ]
     },
     "metadata": {},
     "output_type": "display_data"
    },
    {
     "data": {
      "text/html": [
       "<pre>+-------------------------------------+------------------+-----------------+</pre>"
      ],
      "text/plain": [
       "+-------------------------------------+------------------+-----------------+"
      ]
     },
     "metadata": {},
     "output_type": "display_data"
    },
    {
     "data": {
      "text/html": [
       "<pre>| Elapsed Time (Constructing Lookups) | Total % Complete | Items Processed |</pre>"
      ],
      "text/plain": [
       "| Elapsed Time (Constructing Lookups) | Total % Complete | Items Processed |"
      ]
     },
     "metadata": {},
     "output_type": "display_data"
    },
    {
     "data": {
      "text/html": [
       "<pre>+-------------------------------------+------------------+-----------------+</pre>"
      ],
      "text/plain": [
       "+-------------------------------------+------------------+-----------------+"
      ]
     },
     "metadata": {},
     "output_type": "display_data"
    },
    {
     "data": {
      "text/html": [
       "<pre>| 150.728ms                           | 0                | 0               |</pre>"
      ],
      "text/plain": [
       "| 150.728ms                           | 0                | 0               |"
      ]
     },
     "metadata": {},
     "output_type": "display_data"
    },
    {
     "data": {
      "text/html": [
       "<pre>| 636.485ms                           | 100              | 1269            |</pre>"
      ],
      "text/plain": [
       "| 636.485ms                           | 100              | 1269            |"
      ]
     },
     "metadata": {},
     "output_type": "display_data"
    },
    {
     "data": {
      "text/html": [
       "<pre>+-------------------------------------+------------------+-----------------+</pre>"
      ],
      "text/plain": [
       "+-------------------------------------+------------------+-----------------+"
      ]
     },
     "metadata": {},
     "output_type": "display_data"
    },
    {
     "data": {
      "text/html": [
       "<pre>Finalizing lookup tables.</pre>"
      ],
      "text/plain": [
       "Finalizing lookup tables."
      ]
     },
     "metadata": {},
     "output_type": "display_data"
    },
    {
     "data": {
      "text/html": [
       "<pre>Generating candidate set for working with new users.</pre>"
      ],
      "text/plain": [
       "Generating candidate set for working with new users."
      ]
     },
     "metadata": {},
     "output_type": "display_data"
    },
    {
     "data": {
      "text/html": [
       "<pre>Finished training in 0.752978s</pre>"
      ],
      "text/plain": [
       "Finished training in 0.752978s"
      ]
     },
     "metadata": {},
     "output_type": "display_data"
    },
    {
     "name": "stdout",
     "output_type": "stream",
     "text": [
      "+----------+--------------------------------+---------------------+------+\n",
      "|  CLI_ID  |            LIBELLE             |        score        | rank |\n",
      "+----------+--------------------------------+---------------------+------+\n",
      "| 1490281  | FDT PINCEAU ECLAT CLAIR CN3 15 |         1.0         |  1   |\n",
      "| 1490281  |   DEO BILLE JDM LOTUS FL50ML   |         0.5         |  2   |\n",
      "| 1490281  | BAIN DOUCHE POMME D'API 250 ML | 0.33333333333333337 |  3   |\n",
      "| 1490281  |    GINSENG BONNE MINE T50ml    | 0.20000000000000004 |  4   |\n",
      "| 1490281  | MAXI SHAMP DOUCEUR HAMAMEL...  |         0.2         |  5   |\n",
      "| 1490281  |      SAVON  PN POMME VPM       |         0.2         |  6   |\n",
      "| 1490281  | LIFTING CORPS ENRICHI++SVH 150 | 0.18181818181818185 |  7   |\n",
      "| 1490281  | LINER SOLEI/BLEU ETE12 LU4...  | 0.16666666666666669 |  8   |\n",
      "| 1490281  | VAO BRILL TAUPE ROSE OS12 ...  | 0.12500000000000003 |  9   |\n",
      "| 1490281  | CREME MAINS HYD T30 Ml CIT...  | 0.12244897959183676 |  10  |\n",
      "| 13290776 | FDT PINCEAU ECLAT CLAIR CN3 15 |         1.0         |  1   |\n",
      "| 13290776 |   DEO BILLE JDM LOTUS FL50ML   |         0.5         |  2   |\n",
      "| 13290776 | BAIN DOUCHE POMME D'API 250 ML | 0.33333333333333337 |  3   |\n",
      "| 13290776 |    GINSENG BONNE MINE T50ml    | 0.20000000000000004 |  4   |\n",
      "| 13290776 | MAXI SHAMP DOUCEUR HAMAMEL...  |         0.2         |  5   |\n",
      "| 13290776 |      SAVON  PN POMME VPM       |         0.2         |  6   |\n",
      "| 13290776 | LIFTING CORPS ENRICHI++SVH 150 | 0.18181818181818185 |  7   |\n",
      "| 13290776 | LINER SOLEI/BLEU ETE12 LU4...  | 0.16666666666666669 |  8   |\n",
      "| 13290776 | VAO BRILL TAUPE ROSE OS12 ...  | 0.12500000000000003 |  9   |\n",
      "| 13290776 | CREME MAINS HYD T30 Ml CIT...  | 0.12244897959183676 |  10  |\n",
      "| 20163348 | FDT PINCEAU ECLAT CLAIR CN3 15 |         1.0         |  1   |\n",
      "| 20163348 |   DEO BILLE JDM LOTUS FL50ML   |         0.5         |  2   |\n",
      "| 20163348 | BAIN DOUCHE POMME D'API 250 ML | 0.33333333333333337 |  3   |\n",
      "| 20163348 |    GINSENG BONNE MINE T50ml    | 0.20000000000000004 |  4   |\n",
      "| 20163348 | MAXI SHAMP DOUCEUR HAMAMEL...  |         0.2         |  5   |\n",
      "| 20163348 |      SAVON  PN POMME VPM       |         0.2         |  6   |\n",
      "| 20163348 | LIFTING CORPS ENRICHI++SVH 150 | 0.18181818181818185 |  7   |\n",
      "| 20163348 | LINER SOLEI/BLEU ETE12 LU4...  | 0.16666666666666669 |  8   |\n",
      "| 20163348 | VAO BRILL TAUPE ROSE OS12 ...  | 0.12500000000000003 |  9   |\n",
      "| 20163348 | CREME MAINS HYD T30 Ml CIT...  | 0.12244897959183676 |  10  |\n",
      "+----------+--------------------------------+---------------------+------+\n",
      "[1110 rows x 4 columns]\n",
      "\n"
     ]
    }
   ],
   "source": [
    "name = 'pearson'\n",
    "target = 'purchase_dummy'\n",
    "pear_dummy = model(train_data_dummy, name, user_id, item_id, target, users_to_recommend, n_rec, n_display)\n",
    "\n",
    "name = 'pearson'\n",
    "target = 'scaled_purchase_freq'\n",
    "pear_norm = model(train_data_norm, name, user_id, item_id, target, users_to_recommend, n_rec, n_display)"
   ]
  },
  {
   "cell_type": "markdown",
   "metadata": {},
   "source": [
    "## Model evaluation"
   ]
  },
  {
   "cell_type": "code",
   "execution_count": 62,
   "metadata": {},
   "outputs": [],
   "source": [
    "models_w_counts = [popularity, cos, pear]\n",
    "models_w_dummy = [pop_dummy, cos_dummy, pear_dummy]\n",
    "models_w_norm = [pop_norm, cos_norm, pear_norm]\n",
    "names_w_counts = ['Popularity Model on Purchase Counts', 'Cosine Similarity on Purchase Counts', 'Pearson Similarity on Purchase Counts']\n",
    "names_w_dummy = ['Popularity Model on Purchase Dummy', 'Cosine Similarity on Purchase Dummy', 'Pearson Similarity on Purchase Dummy']\n",
    "names_w_norm = ['Popularity Model on Scaled Purchase Counts', 'Cosine Similarity on Scaled Purchase Counts', 'Pearson Similarity on Scaled Purchase Counts']"
   ]
  },
  {
   "cell_type": "code",
   "execution_count": 63,
   "metadata": {},
   "outputs": [
    {
     "name": "stdout",
     "output_type": "stream",
     "text": [
      "PROGRESS: Evaluate model Popularity Model on Purchase Counts\n"
     ]
    },
    {
     "data": {
      "text/html": [
       "<pre>recommendations finished on 1000/529574 queries. users per second: 8977.55</pre>"
      ],
      "text/plain": [
       "recommendations finished on 1000/529574 queries. users per second: 8977.55"
      ]
     },
     "metadata": {},
     "output_type": "display_data"
    },
    {
     "data": {
      "text/html": [
       "<pre>recommendations finished on 2000/529574 queries. users per second: 9099.8</pre>"
      ],
      "text/plain": [
       "recommendations finished on 2000/529574 queries. users per second: 9099.8"
      ]
     },
     "metadata": {},
     "output_type": "display_data"
    },
    {
     "data": {
      "text/html": [
       "<pre>recommendations finished on 3000/529574 queries. users per second: 9217.81</pre>"
      ],
      "text/plain": [
       "recommendations finished on 3000/529574 queries. users per second: 9217.81"
      ]
     },
     "metadata": {},
     "output_type": "display_data"
    },
    {
     "data": {
      "text/html": [
       "<pre>recommendations finished on 4000/529574 queries. users per second: 9384.19</pre>"
      ],
      "text/plain": [
       "recommendations finished on 4000/529574 queries. users per second: 9384.19"
      ]
     },
     "metadata": {},
     "output_type": "display_data"
    },
    {
     "data": {
      "text/html": [
       "<pre>recommendations finished on 5000/529574 queries. users per second: 9440.89</pre>"
      ],
      "text/plain": [
       "recommendations finished on 5000/529574 queries. users per second: 9440.89"
      ]
     },
     "metadata": {},
     "output_type": "display_data"
    },
    {
     "data": {
      "text/html": [
       "<pre>recommendations finished on 6000/529574 queries. users per second: 9535.42</pre>"
      ],
      "text/plain": [
       "recommendations finished on 6000/529574 queries. users per second: 9535.42"
      ]
     },
     "metadata": {},
     "output_type": "display_data"
    },
    {
     "data": {
      "text/html": [
       "<pre>recommendations finished on 7000/529574 queries. users per second: 9706.88</pre>"
      ],
      "text/plain": [
       "recommendations finished on 7000/529574 queries. users per second: 9706.88"
      ]
     },
     "metadata": {},
     "output_type": "display_data"
    },
    {
     "data": {
      "text/html": [
       "<pre>recommendations finished on 8000/529574 queries. users per second: 9559.11</pre>"
      ],
      "text/plain": [
       "recommendations finished on 8000/529574 queries. users per second: 9559.11"
      ]
     },
     "metadata": {},
     "output_type": "display_data"
    },
    {
     "data": {
      "text/html": [
       "<pre>recommendations finished on 9000/529574 queries. users per second: 9531.64</pre>"
      ],
      "text/plain": [
       "recommendations finished on 9000/529574 queries. users per second: 9531.64"
      ]
     },
     "metadata": {},
     "output_type": "display_data"
    },
    {
     "data": {
      "text/html": [
       "<pre>recommendations finished on 10000/529574 queries. users per second: 9604.17</pre>"
      ],
      "text/plain": [
       "recommendations finished on 10000/529574 queries. users per second: 9604.17"
      ]
     },
     "metadata": {},
     "output_type": "display_data"
    },
    {
     "data": {
      "text/html": [
       "<pre>recommendations finished on 11000/529574 queries. users per second: 9405.14</pre>"
      ],
      "text/plain": [
       "recommendations finished on 11000/529574 queries. users per second: 9405.14"
      ]
     },
     "metadata": {},
     "output_type": "display_data"
    },
    {
     "data": {
      "text/html": [
       "<pre>recommendations finished on 12000/529574 queries. users per second: 8769.11</pre>"
      ],
      "text/plain": [
       "recommendations finished on 12000/529574 queries. users per second: 8769.11"
      ]
     },
     "metadata": {},
     "output_type": "display_data"
    },
    {
     "data": {
      "text/html": [
       "<pre>recommendations finished on 13000/529574 queries. users per second: 7449.2</pre>"
      ],
      "text/plain": [
       "recommendations finished on 13000/529574 queries. users per second: 7449.2"
      ]
     },
     "metadata": {},
     "output_type": "display_data"
    },
    {
     "data": {
      "text/html": [
       "<pre>recommendations finished on 14000/529574 queries. users per second: 6178.97</pre>"
      ],
      "text/plain": [
       "recommendations finished on 14000/529574 queries. users per second: 6178.97"
      ]
     },
     "metadata": {},
     "output_type": "display_data"
    },
    {
     "data": {
      "text/html": [
       "<pre>recommendations finished on 15000/529574 queries. users per second: 5666.59</pre>"
      ],
      "text/plain": [
       "recommendations finished on 15000/529574 queries. users per second: 5666.59"
      ]
     },
     "metadata": {},
     "output_type": "display_data"
    },
    {
     "data": {
      "text/html": [
       "<pre>recommendations finished on 16000/529574 queries. users per second: 5348</pre>"
      ],
      "text/plain": [
       "recommendations finished on 16000/529574 queries. users per second: 5348"
      ]
     },
     "metadata": {},
     "output_type": "display_data"
    },
    {
     "data": {
      "text/html": [
       "<pre>recommendations finished on 17000/529574 queries. users per second: 5287.38</pre>"
      ],
      "text/plain": [
       "recommendations finished on 17000/529574 queries. users per second: 5287.38"
      ]
     },
     "metadata": {},
     "output_type": "display_data"
    },
    {
     "data": {
      "text/html": [
       "<pre>recommendations finished on 18000/529574 queries. users per second: 5341.21</pre>"
      ],
      "text/plain": [
       "recommendations finished on 18000/529574 queries. users per second: 5341.21"
      ]
     },
     "metadata": {},
     "output_type": "display_data"
    },
    {
     "data": {
      "text/html": [
       "<pre>recommendations finished on 19000/529574 queries. users per second: 5433.87</pre>"
      ],
      "text/plain": [
       "recommendations finished on 19000/529574 queries. users per second: 5433.87"
      ]
     },
     "metadata": {},
     "output_type": "display_data"
    },
    {
     "data": {
      "text/html": [
       "<pre>recommendations finished on 20000/529574 queries. users per second: 5565.54</pre>"
      ],
      "text/plain": [
       "recommendations finished on 20000/529574 queries. users per second: 5565.54"
      ]
     },
     "metadata": {},
     "output_type": "display_data"
    },
    {
     "data": {
      "text/html": [
       "<pre>recommendations finished on 21000/529574 queries. users per second: 5640.02</pre>"
      ],
      "text/plain": [
       "recommendations finished on 21000/529574 queries. users per second: 5640.02"
      ]
     },
     "metadata": {},
     "output_type": "display_data"
    },
    {
     "data": {
      "text/html": [
       "<pre>recommendations finished on 22000/529574 queries. users per second: 5664.06</pre>"
      ],
      "text/plain": [
       "recommendations finished on 22000/529574 queries. users per second: 5664.06"
      ]
     },
     "metadata": {},
     "output_type": "display_data"
    },
    {
     "data": {
      "text/html": [
       "<pre>recommendations finished on 23000/529574 queries. users per second: 5697.27</pre>"
      ],
      "text/plain": [
       "recommendations finished on 23000/529574 queries. users per second: 5697.27"
      ]
     },
     "metadata": {},
     "output_type": "display_data"
    },
    {
     "data": {
      "text/html": [
       "<pre>recommendations finished on 24000/529574 queries. users per second: 5734.63</pre>"
      ],
      "text/plain": [
       "recommendations finished on 24000/529574 queries. users per second: 5734.63"
      ]
     },
     "metadata": {},
     "output_type": "display_data"
    },
    {
     "data": {
      "text/html": [
       "<pre>recommendations finished on 25000/529574 queries. users per second: 5791.32</pre>"
      ],
      "text/plain": [
       "recommendations finished on 25000/529574 queries. users per second: 5791.32"
      ]
     },
     "metadata": {},
     "output_type": "display_data"
    },
    {
     "data": {
      "text/html": [
       "<pre>recommendations finished on 26000/529574 queries. users per second: 5844.07</pre>"
      ],
      "text/plain": [
       "recommendations finished on 26000/529574 queries. users per second: 5844.07"
      ]
     },
     "metadata": {},
     "output_type": "display_data"
    },
    {
     "data": {
      "text/html": [
       "<pre>recommendations finished on 27000/529574 queries. users per second: 5892.08</pre>"
      ],
      "text/plain": [
       "recommendations finished on 27000/529574 queries. users per second: 5892.08"
      ]
     },
     "metadata": {},
     "output_type": "display_data"
    },
    {
     "data": {
      "text/html": [
       "<pre>recommendations finished on 28000/529574 queries. users per second: 5932.96</pre>"
      ],
      "text/plain": [
       "recommendations finished on 28000/529574 queries. users per second: 5932.96"
      ]
     },
     "metadata": {},
     "output_type": "display_data"
    },
    {
     "data": {
      "text/html": [
       "<pre>recommendations finished on 29000/529574 queries. users per second: 5976.62</pre>"
      ],
      "text/plain": [
       "recommendations finished on 29000/529574 queries. users per second: 5976.62"
      ]
     },
     "metadata": {},
     "output_type": "display_data"
    },
    {
     "data": {
      "text/html": [
       "<pre>recommendations finished on 30000/529574 queries. users per second: 6023.34</pre>"
      ],
      "text/plain": [
       "recommendations finished on 30000/529574 queries. users per second: 6023.34"
      ]
     },
     "metadata": {},
     "output_type": "display_data"
    },
    {
     "data": {
      "text/html": [
       "<pre>recommendations finished on 31000/529574 queries. users per second: 6057.83</pre>"
      ],
      "text/plain": [
       "recommendations finished on 31000/529574 queries. users per second: 6057.83"
      ]
     },
     "metadata": {},
     "output_type": "display_data"
    },
    {
     "data": {
      "text/html": [
       "<pre>recommendations finished on 32000/529574 queries. users per second: 6094.53</pre>"
      ],
      "text/plain": [
       "recommendations finished on 32000/529574 queries. users per second: 6094.53"
      ]
     },
     "metadata": {},
     "output_type": "display_data"
    },
    {
     "data": {
      "text/html": [
       "<pre>recommendations finished on 33000/529574 queries. users per second: 6138.29</pre>"
      ],
      "text/plain": [
       "recommendations finished on 33000/529574 queries. users per second: 6138.29"
      ]
     },
     "metadata": {},
     "output_type": "display_data"
    },
    {
     "data": {
      "text/html": [
       "<pre>recommendations finished on 34000/529574 queries. users per second: 6175.21</pre>"
      ],
      "text/plain": [
       "recommendations finished on 34000/529574 queries. users per second: 6175.21"
      ]
     },
     "metadata": {},
     "output_type": "display_data"
    },
    {
     "data": {
      "text/html": [
       "<pre>recommendations finished on 35000/529574 queries. users per second: 6168.45</pre>"
      ],
      "text/plain": [
       "recommendations finished on 35000/529574 queries. users per second: 6168.45"
      ]
     },
     "metadata": {},
     "output_type": "display_data"
    },
    {
     "data": {
      "text/html": [
       "<pre>recommendations finished on 36000/529574 queries. users per second: 6164.57</pre>"
      ],
      "text/plain": [
       "recommendations finished on 36000/529574 queries. users per second: 6164.57"
      ]
     },
     "metadata": {},
     "output_type": "display_data"
    },
    {
     "data": {
      "text/html": [
       "<pre>recommendations finished on 37000/529574 queries. users per second: 6173.98</pre>"
      ],
      "text/plain": [
       "recommendations finished on 37000/529574 queries. users per second: 6173.98"
      ]
     },
     "metadata": {},
     "output_type": "display_data"
    },
    {
     "data": {
      "text/html": [
       "<pre>recommendations finished on 38000/529574 queries. users per second: 6180.07</pre>"
      ],
      "text/plain": [
       "recommendations finished on 38000/529574 queries. users per second: 6180.07"
      ]
     },
     "metadata": {},
     "output_type": "display_data"
    },
    {
     "data": {
      "text/html": [
       "<pre>recommendations finished on 39000/529574 queries. users per second: 6166.27</pre>"
      ],
      "text/plain": [
       "recommendations finished on 39000/529574 queries. users per second: 6166.27"
      ]
     },
     "metadata": {},
     "output_type": "display_data"
    },
    {
     "data": {
      "text/html": [
       "<pre>recommendations finished on 40000/529574 queries. users per second: 6171.47</pre>"
      ],
      "text/plain": [
       "recommendations finished on 40000/529574 queries. users per second: 6171.47"
      ]
     },
     "metadata": {},
     "output_type": "display_data"
    },
    {
     "data": {
      "text/html": [
       "<pre>recommendations finished on 41000/529574 queries. users per second: 6187.57</pre>"
      ],
      "text/plain": [
       "recommendations finished on 41000/529574 queries. users per second: 6187.57"
      ]
     },
     "metadata": {},
     "output_type": "display_data"
    },
    {
     "data": {
      "text/html": [
       "<pre>recommendations finished on 42000/529574 queries. users per second: 6176.42</pre>"
      ],
      "text/plain": [
       "recommendations finished on 42000/529574 queries. users per second: 6176.42"
      ]
     },
     "metadata": {},
     "output_type": "display_data"
    },
    {
     "data": {
      "text/html": [
       "<pre>recommendations finished on 43000/529574 queries. users per second: 6180.23</pre>"
      ],
      "text/plain": [
       "recommendations finished on 43000/529574 queries. users per second: 6180.23"
      ]
     },
     "metadata": {},
     "output_type": "display_data"
    },
    {
     "data": {
      "text/html": [
       "<pre>recommendations finished on 44000/529574 queries. users per second: 6192.07</pre>"
      ],
      "text/plain": [
       "recommendations finished on 44000/529574 queries. users per second: 6192.07"
      ]
     },
     "metadata": {},
     "output_type": "display_data"
    },
    {
     "data": {
      "text/html": [
       "<pre>recommendations finished on 45000/529574 queries. users per second: 6190.48</pre>"
      ],
      "text/plain": [
       "recommendations finished on 45000/529574 queries. users per second: 6190.48"
      ]
     },
     "metadata": {},
     "output_type": "display_data"
    },
    {
     "data": {
      "text/html": [
       "<pre>recommendations finished on 46000/529574 queries. users per second: 6168.54</pre>"
      ],
      "text/plain": [
       "recommendations finished on 46000/529574 queries. users per second: 6168.54"
      ]
     },
     "metadata": {},
     "output_type": "display_data"
    },
    {
     "data": {
      "text/html": [
       "<pre>recommendations finished on 47000/529574 queries. users per second: 6180.34</pre>"
      ],
      "text/plain": [
       "recommendations finished on 47000/529574 queries. users per second: 6180.34"
      ]
     },
     "metadata": {},
     "output_type": "display_data"
    },
    {
     "data": {
      "text/html": [
       "<pre>recommendations finished on 48000/529574 queries. users per second: 6210.45</pre>"
      ],
      "text/plain": [
       "recommendations finished on 48000/529574 queries. users per second: 6210.45"
      ]
     },
     "metadata": {},
     "output_type": "display_data"
    },
    {
     "data": {
      "text/html": [
       "<pre>recommendations finished on 49000/529574 queries. users per second: 6244.42</pre>"
      ],
      "text/plain": [
       "recommendations finished on 49000/529574 queries. users per second: 6244.42"
      ]
     },
     "metadata": {},
     "output_type": "display_data"
    },
    {
     "data": {
      "text/html": [
       "<pre>recommendations finished on 50000/529574 queries. users per second: 6257.58</pre>"
      ],
      "text/plain": [
       "recommendations finished on 50000/529574 queries. users per second: 6257.58"
      ]
     },
     "metadata": {},
     "output_type": "display_data"
    },
    {
     "data": {
      "text/html": [
       "<pre>recommendations finished on 51000/529574 queries. users per second: 6280.14</pre>"
      ],
      "text/plain": [
       "recommendations finished on 51000/529574 queries. users per second: 6280.14"
      ]
     },
     "metadata": {},
     "output_type": "display_data"
    },
    {
     "data": {
      "text/html": [
       "<pre>recommendations finished on 52000/529574 queries. users per second: 6321.76</pre>"
      ],
      "text/plain": [
       "recommendations finished on 52000/529574 queries. users per second: 6321.76"
      ]
     },
     "metadata": {},
     "output_type": "display_data"
    },
    {
     "data": {
      "text/html": [
       "<pre>recommendations finished on 53000/529574 queries. users per second: 6365.84</pre>"
      ],
      "text/plain": [
       "recommendations finished on 53000/529574 queries. users per second: 6365.84"
      ]
     },
     "metadata": {},
     "output_type": "display_data"
    },
    {
     "data": {
      "text/html": [
       "<pre>recommendations finished on 54000/529574 queries. users per second: 6385.31</pre>"
      ],
      "text/plain": [
       "recommendations finished on 54000/529574 queries. users per second: 6385.31"
      ]
     },
     "metadata": {},
     "output_type": "display_data"
    },
    {
     "data": {
      "text/html": [
       "<pre>recommendations finished on 55000/529574 queries. users per second: 6422.23</pre>"
      ],
      "text/plain": [
       "recommendations finished on 55000/529574 queries. users per second: 6422.23"
      ]
     },
     "metadata": {},
     "output_type": "display_data"
    },
    {
     "data": {
      "text/html": [
       "<pre>recommendations finished on 56000/529574 queries. users per second: 6441.95</pre>"
      ],
      "text/plain": [
       "recommendations finished on 56000/529574 queries. users per second: 6441.95"
      ]
     },
     "metadata": {},
     "output_type": "display_data"
    },
    {
     "data": {
      "text/html": [
       "<pre>recommendations finished on 57000/529574 queries. users per second: 6463.26</pre>"
      ],
      "text/plain": [
       "recommendations finished on 57000/529574 queries. users per second: 6463.26"
      ]
     },
     "metadata": {},
     "output_type": "display_data"
    },
    {
     "data": {
      "text/html": [
       "<pre>recommendations finished on 58000/529574 queries. users per second: 6500.27</pre>"
      ],
      "text/plain": [
       "recommendations finished on 58000/529574 queries. users per second: 6500.27"
      ]
     },
     "metadata": {},
     "output_type": "display_data"
    },
    {
     "data": {
      "text/html": [
       "<pre>recommendations finished on 59000/529574 queries. users per second: 6534.8</pre>"
      ],
      "text/plain": [
       "recommendations finished on 59000/529574 queries. users per second: 6534.8"
      ]
     },
     "metadata": {},
     "output_type": "display_data"
    },
    {
     "data": {
      "text/html": [
       "<pre>recommendations finished on 60000/529574 queries. users per second: 6569.35</pre>"
      ],
      "text/plain": [
       "recommendations finished on 60000/529574 queries. users per second: 6569.35"
      ]
     },
     "metadata": {},
     "output_type": "display_data"
    },
    {
     "data": {
      "text/html": [
       "<pre>recommendations finished on 61000/529574 queries. users per second: 6599.55</pre>"
      ],
      "text/plain": [
       "recommendations finished on 61000/529574 queries. users per second: 6599.55"
      ]
     },
     "metadata": {},
     "output_type": "display_data"
    },
    {
     "data": {
      "text/html": [
       "<pre>recommendations finished on 62000/529574 queries. users per second: 6624.67</pre>"
      ],
      "text/plain": [
       "recommendations finished on 62000/529574 queries. users per second: 6624.67"
      ]
     },
     "metadata": {},
     "output_type": "display_data"
    },
    {
     "data": {
      "text/html": [
       "<pre>recommendations finished on 63000/529574 queries. users per second: 6648.8</pre>"
      ],
      "text/plain": [
       "recommendations finished on 63000/529574 queries. users per second: 6648.8"
      ]
     },
     "metadata": {},
     "output_type": "display_data"
    },
    {
     "data": {
      "text/html": [
       "<pre>recommendations finished on 64000/529574 queries. users per second: 6678.34</pre>"
      ],
      "text/plain": [
       "recommendations finished on 64000/529574 queries. users per second: 6678.34"
      ]
     },
     "metadata": {},
     "output_type": "display_data"
    },
    {
     "data": {
      "text/html": [
       "<pre>recommendations finished on 65000/529574 queries. users per second: 6708.14</pre>"
      ],
      "text/plain": [
       "recommendations finished on 65000/529574 queries. users per second: 6708.14"
      ]
     },
     "metadata": {},
     "output_type": "display_data"
    },
    {
     "data": {
      "text/html": [
       "<pre>recommendations finished on 66000/529574 queries. users per second: 6731.73</pre>"
      ],
      "text/plain": [
       "recommendations finished on 66000/529574 queries. users per second: 6731.73"
      ]
     },
     "metadata": {},
     "output_type": "display_data"
    },
    {
     "data": {
      "text/html": [
       "<pre>recommendations finished on 67000/529574 queries. users per second: 6746.87</pre>"
      ],
      "text/plain": [
       "recommendations finished on 67000/529574 queries. users per second: 6746.87"
      ]
     },
     "metadata": {},
     "output_type": "display_data"
    },
    {
     "data": {
      "text/html": [
       "<pre>recommendations finished on 68000/529574 queries. users per second: 6765.36</pre>"
      ],
      "text/plain": [
       "recommendations finished on 68000/529574 queries. users per second: 6765.36"
      ]
     },
     "metadata": {},
     "output_type": "display_data"
    },
    {
     "data": {
      "text/html": [
       "<pre>recommendations finished on 69000/529574 queries. users per second: 6776</pre>"
      ],
      "text/plain": [
       "recommendations finished on 69000/529574 queries. users per second: 6776"
      ]
     },
     "metadata": {},
     "output_type": "display_data"
    },
    {
     "data": {
      "text/html": [
       "<pre>recommendations finished on 70000/529574 queries. users per second: 6804.31</pre>"
      ],
      "text/plain": [
       "recommendations finished on 70000/529574 queries. users per second: 6804.31"
      ]
     },
     "metadata": {},
     "output_type": "display_data"
    },
    {
     "data": {
      "text/html": [
       "<pre>recommendations finished on 71000/529574 queries. users per second: 6826.17</pre>"
      ],
      "text/plain": [
       "recommendations finished on 71000/529574 queries. users per second: 6826.17"
      ]
     },
     "metadata": {},
     "output_type": "display_data"
    },
    {
     "data": {
      "text/html": [
       "<pre>recommendations finished on 72000/529574 queries. users per second: 6853.08</pre>"
      ],
      "text/plain": [
       "recommendations finished on 72000/529574 queries. users per second: 6853.08"
      ]
     },
     "metadata": {},
     "output_type": "display_data"
    },
    {
     "data": {
      "text/html": [
       "<pre>recommendations finished on 73000/529574 queries. users per second: 6875.84</pre>"
      ],
      "text/plain": [
       "recommendations finished on 73000/529574 queries. users per second: 6875.84"
      ]
     },
     "metadata": {},
     "output_type": "display_data"
    },
    {
     "data": {
      "text/html": [
       "<pre>recommendations finished on 74000/529574 queries. users per second: 6898.59</pre>"
      ],
      "text/plain": [
       "recommendations finished on 74000/529574 queries. users per second: 6898.59"
      ]
     },
     "metadata": {},
     "output_type": "display_data"
    },
    {
     "data": {
      "text/html": [
       "<pre>recommendations finished on 75000/529574 queries. users per second: 6917.6</pre>"
      ],
      "text/plain": [
       "recommendations finished on 75000/529574 queries. users per second: 6917.6"
      ]
     },
     "metadata": {},
     "output_type": "display_data"
    },
    {
     "data": {
      "text/html": [
       "<pre>recommendations finished on 76000/529574 queries. users per second: 6937.06</pre>"
      ],
      "text/plain": [
       "recommendations finished on 76000/529574 queries. users per second: 6937.06"
      ]
     },
     "metadata": {},
     "output_type": "display_data"
    },
    {
     "data": {
      "text/html": [
       "<pre>recommendations finished on 77000/529574 queries. users per second: 6958.16</pre>"
      ],
      "text/plain": [
       "recommendations finished on 77000/529574 queries. users per second: 6958.16"
      ]
     },
     "metadata": {},
     "output_type": "display_data"
    },
    {
     "data": {
      "text/html": [
       "<pre>recommendations finished on 78000/529574 queries. users per second: 6986.07</pre>"
      ],
      "text/plain": [
       "recommendations finished on 78000/529574 queries. users per second: 6986.07"
      ]
     },
     "metadata": {},
     "output_type": "display_data"
    },
    {
     "data": {
      "text/html": [
       "<pre>recommendations finished on 79000/529574 queries. users per second: 7015.31</pre>"
      ],
      "text/plain": [
       "recommendations finished on 79000/529574 queries. users per second: 7015.31"
      ]
     },
     "metadata": {},
     "output_type": "display_data"
    },
    {
     "data": {
      "text/html": [
       "<pre>recommendations finished on 80000/529574 queries. users per second: 7035.82</pre>"
      ],
      "text/plain": [
       "recommendations finished on 80000/529574 queries. users per second: 7035.82"
      ]
     },
     "metadata": {},
     "output_type": "display_data"
    },
    {
     "data": {
      "text/html": [
       "<pre>recommendations finished on 81000/529574 queries. users per second: 7029.62</pre>"
      ],
      "text/plain": [
       "recommendations finished on 81000/529574 queries. users per second: 7029.62"
      ]
     },
     "metadata": {},
     "output_type": "display_data"
    },
    {
     "data": {
      "text/html": [
       "<pre>recommendations finished on 82000/529574 queries. users per second: 7054.85</pre>"
      ],
      "text/plain": [
       "recommendations finished on 82000/529574 queries. users per second: 7054.85"
      ]
     },
     "metadata": {},
     "output_type": "display_data"
    },
    {
     "data": {
      "text/html": [
       "<pre>recommendations finished on 83000/529574 queries. users per second: 7076.65</pre>"
      ],
      "text/plain": [
       "recommendations finished on 83000/529574 queries. users per second: 7076.65"
      ]
     },
     "metadata": {},
     "output_type": "display_data"
    },
    {
     "data": {
      "text/html": [
       "<pre>recommendations finished on 84000/529574 queries. users per second: 7101.11</pre>"
      ],
      "text/plain": [
       "recommendations finished on 84000/529574 queries. users per second: 7101.11"
      ]
     },
     "metadata": {},
     "output_type": "display_data"
    },
    {
     "data": {
      "text/html": [
       "<pre>recommendations finished on 85000/529574 queries. users per second: 7120.11</pre>"
      ],
      "text/plain": [
       "recommendations finished on 85000/529574 queries. users per second: 7120.11"
      ]
     },
     "metadata": {},
     "output_type": "display_data"
    },
    {
     "data": {
      "text/html": [
       "<pre>recommendations finished on 86000/529574 queries. users per second: 7137.88</pre>"
      ],
      "text/plain": [
       "recommendations finished on 86000/529574 queries. users per second: 7137.88"
      ]
     },
     "metadata": {},
     "output_type": "display_data"
    },
    {
     "data": {
      "text/html": [
       "<pre>recommendations finished on 87000/529574 queries. users per second: 7160.54</pre>"
      ],
      "text/plain": [
       "recommendations finished on 87000/529574 queries. users per second: 7160.54"
      ]
     },
     "metadata": {},
     "output_type": "display_data"
    },
    {
     "data": {
      "text/html": [
       "<pre>recommendations finished on 88000/529574 queries. users per second: 7181.71</pre>"
      ],
      "text/plain": [
       "recommendations finished on 88000/529574 queries. users per second: 7181.71"
      ]
     },
     "metadata": {},
     "output_type": "display_data"
    },
    {
     "data": {
      "text/html": [
       "<pre>recommendations finished on 89000/529574 queries. users per second: 7199.3</pre>"
      ],
      "text/plain": [
       "recommendations finished on 89000/529574 queries. users per second: 7199.3"
      ]
     },
     "metadata": {},
     "output_type": "display_data"
    },
    {
     "data": {
      "text/html": [
       "<pre>recommendations finished on 90000/529574 queries. users per second: 7217.29</pre>"
      ],
      "text/plain": [
       "recommendations finished on 90000/529574 queries. users per second: 7217.29"
      ]
     },
     "metadata": {},
     "output_type": "display_data"
    },
    {
     "data": {
      "text/html": [
       "<pre>recommendations finished on 91000/529574 queries. users per second: 7232.64</pre>"
      ],
      "text/plain": [
       "recommendations finished on 91000/529574 queries. users per second: 7232.64"
      ]
     },
     "metadata": {},
     "output_type": "display_data"
    },
    {
     "data": {
      "text/html": [
       "<pre>recommendations finished on 92000/529574 queries. users per second: 7247.11</pre>"
      ],
      "text/plain": [
       "recommendations finished on 92000/529574 queries. users per second: 7247.11"
      ]
     },
     "metadata": {},
     "output_type": "display_data"
    },
    {
     "data": {
      "text/html": [
       "<pre>recommendations finished on 93000/529574 queries. users per second: 7259.96</pre>"
      ],
      "text/plain": [
       "recommendations finished on 93000/529574 queries. users per second: 7259.96"
      ]
     },
     "metadata": {},
     "output_type": "display_data"
    },
    {
     "data": {
      "text/html": [
       "<pre>recommendations finished on 94000/529574 queries. users per second: 7272.76</pre>"
      ],
      "text/plain": [
       "recommendations finished on 94000/529574 queries. users per second: 7272.76"
      ]
     },
     "metadata": {},
     "output_type": "display_data"
    },
    {
     "data": {
      "text/html": [
       "<pre>recommendations finished on 95000/529574 queries. users per second: 7288.34</pre>"
      ],
      "text/plain": [
       "recommendations finished on 95000/529574 queries. users per second: 7288.34"
      ]
     },
     "metadata": {},
     "output_type": "display_data"
    },
    {
     "data": {
      "text/html": [
       "<pre>recommendations finished on 96000/529574 queries. users per second: 7301.62</pre>"
      ],
      "text/plain": [
       "recommendations finished on 96000/529574 queries. users per second: 7301.62"
      ]
     },
     "metadata": {},
     "output_type": "display_data"
    },
    {
     "data": {
      "text/html": [
       "<pre>recommendations finished on 97000/529574 queries. users per second: 7306.37</pre>"
      ],
      "text/plain": [
       "recommendations finished on 97000/529574 queries. users per second: 7306.37"
      ]
     },
     "metadata": {},
     "output_type": "display_data"
    },
    {
     "data": {
      "text/html": [
       "<pre>recommendations finished on 98000/529574 queries. users per second: 7322.67</pre>"
      ],
      "text/plain": [
       "recommendations finished on 98000/529574 queries. users per second: 7322.67"
      ]
     },
     "metadata": {},
     "output_type": "display_data"
    },
    {
     "data": {
      "text/html": [
       "<pre>recommendations finished on 99000/529574 queries. users per second: 7333.42</pre>"
      ],
      "text/plain": [
       "recommendations finished on 99000/529574 queries. users per second: 7333.42"
      ]
     },
     "metadata": {},
     "output_type": "display_data"
    },
    {
     "data": {
      "text/html": [
       "<pre>recommendations finished on 100000/529574 queries. users per second: 7341.73</pre>"
      ],
      "text/plain": [
       "recommendations finished on 100000/529574 queries. users per second: 7341.73"
      ]
     },
     "metadata": {},
     "output_type": "display_data"
    },
    {
     "data": {
      "text/html": [
       "<pre>recommendations finished on 101000/529574 queries. users per second: 7353.66</pre>"
      ],
      "text/plain": [
       "recommendations finished on 101000/529574 queries. users per second: 7353.66"
      ]
     },
     "metadata": {},
     "output_type": "display_data"
    },
    {
     "data": {
      "text/html": [
       "<pre>recommendations finished on 102000/529574 queries. users per second: 7363.78</pre>"
      ],
      "text/plain": [
       "recommendations finished on 102000/529574 queries. users per second: 7363.78"
      ]
     },
     "metadata": {},
     "output_type": "display_data"
    },
    {
     "data": {
      "text/html": [
       "<pre>recommendations finished on 103000/529574 queries. users per second: 7364.35</pre>"
      ],
      "text/plain": [
       "recommendations finished on 103000/529574 queries. users per second: 7364.35"
      ]
     },
     "metadata": {},
     "output_type": "display_data"
    },
    {
     "data": {
      "text/html": [
       "<pre>recommendations finished on 104000/529574 queries. users per second: 7367.96</pre>"
      ],
      "text/plain": [
       "recommendations finished on 104000/529574 queries. users per second: 7367.96"
      ]
     },
     "metadata": {},
     "output_type": "display_data"
    },
    {
     "data": {
      "text/html": [
       "<pre>recommendations finished on 105000/529574 queries. users per second: 7371.42</pre>"
      ],
      "text/plain": [
       "recommendations finished on 105000/529574 queries. users per second: 7371.42"
      ]
     },
     "metadata": {},
     "output_type": "display_data"
    },
    {
     "data": {
      "text/html": [
       "<pre>recommendations finished on 106000/529574 queries. users per second: 7366.89</pre>"
      ],
      "text/plain": [
       "recommendations finished on 106000/529574 queries. users per second: 7366.89"
      ]
     },
     "metadata": {},
     "output_type": "display_data"
    },
    {
     "data": {
      "text/html": [
       "<pre>recommendations finished on 107000/529574 queries. users per second: 7360.21</pre>"
      ],
      "text/plain": [
       "recommendations finished on 107000/529574 queries. users per second: 7360.21"
      ]
     },
     "metadata": {},
     "output_type": "display_data"
    },
    {
     "data": {
      "text/html": [
       "<pre>recommendations finished on 108000/529574 queries. users per second: 7317.57</pre>"
      ],
      "text/plain": [
       "recommendations finished on 108000/529574 queries. users per second: 7317.57"
      ]
     },
     "metadata": {},
     "output_type": "display_data"
    },
    {
     "data": {
      "text/html": [
       "<pre>recommendations finished on 109000/529574 queries. users per second: 7308.94</pre>"
      ],
      "text/plain": [
       "recommendations finished on 109000/529574 queries. users per second: 7308.94"
      ]
     },
     "metadata": {},
     "output_type": "display_data"
    },
    {
     "data": {
      "text/html": [
       "<pre>recommendations finished on 110000/529574 queries. users per second: 7317.88</pre>"
      ],
      "text/plain": [
       "recommendations finished on 110000/529574 queries. users per second: 7317.88"
      ]
     },
     "metadata": {},
     "output_type": "display_data"
    },
    {
     "data": {
      "text/html": [
       "<pre>recommendations finished on 111000/529574 queries. users per second: 7331.48</pre>"
      ],
      "text/plain": [
       "recommendations finished on 111000/529574 queries. users per second: 7331.48"
      ]
     },
     "metadata": {},
     "output_type": "display_data"
    },
    {
     "data": {
      "text/html": [
       "<pre>recommendations finished on 112000/529574 queries. users per second: 7343.98</pre>"
      ],
      "text/plain": [
       "recommendations finished on 112000/529574 queries. users per second: 7343.98"
      ]
     },
     "metadata": {},
     "output_type": "display_data"
    },
    {
     "data": {
      "text/html": [
       "<pre>recommendations finished on 113000/529574 queries. users per second: 7352.18</pre>"
      ],
      "text/plain": [
       "recommendations finished on 113000/529574 queries. users per second: 7352.18"
      ]
     },
     "metadata": {},
     "output_type": "display_data"
    },
    {
     "data": {
      "text/html": [
       "<pre>recommendations finished on 114000/529574 queries. users per second: 7355.18</pre>"
      ],
      "text/plain": [
       "recommendations finished on 114000/529574 queries. users per second: 7355.18"
      ]
     },
     "metadata": {},
     "output_type": "display_data"
    },
    {
     "data": {
      "text/html": [
       "<pre>recommendations finished on 115000/529574 queries. users per second: 7360.38</pre>"
      ],
      "text/plain": [
       "recommendations finished on 115000/529574 queries. users per second: 7360.38"
      ]
     },
     "metadata": {},
     "output_type": "display_data"
    },
    {
     "data": {
      "text/html": [
       "<pre>recommendations finished on 116000/529574 queries. users per second: 7372.18</pre>"
      ],
      "text/plain": [
       "recommendations finished on 116000/529574 queries. users per second: 7372.18"
      ]
     },
     "metadata": {},
     "output_type": "display_data"
    },
    {
     "data": {
      "text/html": [
       "<pre>recommendations finished on 117000/529574 queries. users per second: 7381.72</pre>"
      ],
      "text/plain": [
       "recommendations finished on 117000/529574 queries. users per second: 7381.72"
      ]
     },
     "metadata": {},
     "output_type": "display_data"
    },
    {
     "data": {
      "text/html": [
       "<pre>recommendations finished on 118000/529574 queries. users per second: 7393.12</pre>"
      ],
      "text/plain": [
       "recommendations finished on 118000/529574 queries. users per second: 7393.12"
      ]
     },
     "metadata": {},
     "output_type": "display_data"
    },
    {
     "data": {
      "text/html": [
       "<pre>recommendations finished on 119000/529574 queries. users per second: 7403.73</pre>"
      ],
      "text/plain": [
       "recommendations finished on 119000/529574 queries. users per second: 7403.73"
      ]
     },
     "metadata": {},
     "output_type": "display_data"
    },
    {
     "data": {
      "text/html": [
       "<pre>recommendations finished on 120000/529574 queries. users per second: 7414.89</pre>"
      ],
      "text/plain": [
       "recommendations finished on 120000/529574 queries. users per second: 7414.89"
      ]
     },
     "metadata": {},
     "output_type": "display_data"
    },
    {
     "data": {
      "text/html": [
       "<pre>recommendations finished on 121000/529574 queries. users per second: 7423.97</pre>"
      ],
      "text/plain": [
       "recommendations finished on 121000/529574 queries. users per second: 7423.97"
      ]
     },
     "metadata": {},
     "output_type": "display_data"
    },
    {
     "data": {
      "text/html": [
       "<pre>recommendations finished on 122000/529574 queries. users per second: 7436.91</pre>"
      ],
      "text/plain": [
       "recommendations finished on 122000/529574 queries. users per second: 7436.91"
      ]
     },
     "metadata": {},
     "output_type": "display_data"
    },
    {
     "data": {
      "text/html": [
       "<pre>recommendations finished on 123000/529574 queries. users per second: 7446.45</pre>"
      ],
      "text/plain": [
       "recommendations finished on 123000/529574 queries. users per second: 7446.45"
      ]
     },
     "metadata": {},
     "output_type": "display_data"
    },
    {
     "data": {
      "text/html": [
       "<pre>recommendations finished on 124000/529574 queries. users per second: 7456.09</pre>"
      ],
      "text/plain": [
       "recommendations finished on 124000/529574 queries. users per second: 7456.09"
      ]
     },
     "metadata": {},
     "output_type": "display_data"
    },
    {
     "data": {
      "text/html": [
       "<pre>recommendations finished on 125000/529574 queries. users per second: 7462.08</pre>"
      ],
      "text/plain": [
       "recommendations finished on 125000/529574 queries. users per second: 7462.08"
      ]
     },
     "metadata": {},
     "output_type": "display_data"
    },
    {
     "data": {
      "text/html": [
       "<pre>recommendations finished on 126000/529574 queries. users per second: 7468.83</pre>"
      ],
      "text/plain": [
       "recommendations finished on 126000/529574 queries. users per second: 7468.83"
      ]
     },
     "metadata": {},
     "output_type": "display_data"
    },
    {
     "data": {
      "text/html": [
       "<pre>recommendations finished on 127000/529574 queries. users per second: 7475.72</pre>"
      ],
      "text/plain": [
       "recommendations finished on 127000/529574 queries. users per second: 7475.72"
      ]
     },
     "metadata": {},
     "output_type": "display_data"
    },
    {
     "data": {
      "text/html": [
       "<pre>recommendations finished on 128000/529574 queries. users per second: 7483.83</pre>"
      ],
      "text/plain": [
       "recommendations finished on 128000/529574 queries. users per second: 7483.83"
      ]
     },
     "metadata": {},
     "output_type": "display_data"
    },
    {
     "data": {
      "text/html": [
       "<pre>recommendations finished on 129000/529574 queries. users per second: 7492.4</pre>"
      ],
      "text/plain": [
       "recommendations finished on 129000/529574 queries. users per second: 7492.4"
      ]
     },
     "metadata": {},
     "output_type": "display_data"
    },
    {
     "data": {
      "text/html": [
       "<pre>recommendations finished on 130000/529574 queries. users per second: 7497.91</pre>"
      ],
      "text/plain": [
       "recommendations finished on 130000/529574 queries. users per second: 7497.91"
      ]
     },
     "metadata": {},
     "output_type": "display_data"
    },
    {
     "data": {
      "text/html": [
       "<pre>recommendations finished on 131000/529574 queries. users per second: 7506.82</pre>"
      ],
      "text/plain": [
       "recommendations finished on 131000/529574 queries. users per second: 7506.82"
      ]
     },
     "metadata": {},
     "output_type": "display_data"
    },
    {
     "data": {
      "text/html": [
       "<pre>recommendations finished on 132000/529574 queries. users per second: 7511.46</pre>"
      ],
      "text/plain": [
       "recommendations finished on 132000/529574 queries. users per second: 7511.46"
      ]
     },
     "metadata": {},
     "output_type": "display_data"
    },
    {
     "data": {
      "text/html": [
       "<pre>recommendations finished on 133000/529574 queries. users per second: 7515.24</pre>"
      ],
      "text/plain": [
       "recommendations finished on 133000/529574 queries. users per second: 7515.24"
      ]
     },
     "metadata": {},
     "output_type": "display_data"
    },
    {
     "data": {
      "text/html": [
       "<pre>recommendations finished on 134000/529574 queries. users per second: 7521.98</pre>"
      ],
      "text/plain": [
       "recommendations finished on 134000/529574 queries. users per second: 7521.98"
      ]
     },
     "metadata": {},
     "output_type": "display_data"
    },
    {
     "data": {
      "text/html": [
       "<pre>recommendations finished on 135000/529574 queries. users per second: 7531.97</pre>"
      ],
      "text/plain": [
       "recommendations finished on 135000/529574 queries. users per second: 7531.97"
      ]
     },
     "metadata": {},
     "output_type": "display_data"
    },
    {
     "data": {
      "text/html": [
       "<pre>recommendations finished on 136000/529574 queries. users per second: 7537.59</pre>"
      ],
      "text/plain": [
       "recommendations finished on 136000/529574 queries. users per second: 7537.59"
      ]
     },
     "metadata": {},
     "output_type": "display_data"
    },
    {
     "data": {
      "text/html": [
       "<pre>recommendations finished on 137000/529574 queries. users per second: 7537.55</pre>"
      ],
      "text/plain": [
       "recommendations finished on 137000/529574 queries. users per second: 7537.55"
      ]
     },
     "metadata": {},
     "output_type": "display_data"
    },
    {
     "data": {
      "text/html": [
       "<pre>recommendations finished on 138000/529574 queries. users per second: 7541.2</pre>"
      ],
      "text/plain": [
       "recommendations finished on 138000/529574 queries. users per second: 7541.2"
      ]
     },
     "metadata": {},
     "output_type": "display_data"
    },
    {
     "data": {
      "text/html": [
       "<pre>recommendations finished on 139000/529574 queries. users per second: 7547.33</pre>"
      ],
      "text/plain": [
       "recommendations finished on 139000/529574 queries. users per second: 7547.33"
      ]
     },
     "metadata": {},
     "output_type": "display_data"
    },
    {
     "data": {
      "text/html": [
       "<pre>recommendations finished on 140000/529574 queries. users per second: 7555.87</pre>"
      ],
      "text/plain": [
       "recommendations finished on 140000/529574 queries. users per second: 7555.87"
      ]
     },
     "metadata": {},
     "output_type": "display_data"
    },
    {
     "data": {
      "text/html": [
       "<pre>recommendations finished on 141000/529574 queries. users per second: 7562.04</pre>"
      ],
      "text/plain": [
       "recommendations finished on 141000/529574 queries. users per second: 7562.04"
      ]
     },
     "metadata": {},
     "output_type": "display_data"
    },
    {
     "data": {
      "text/html": [
       "<pre>recommendations finished on 142000/529574 queries. users per second: 7568.01</pre>"
      ],
      "text/plain": [
       "recommendations finished on 142000/529574 queries. users per second: 7568.01"
      ]
     },
     "metadata": {},
     "output_type": "display_data"
    },
    {
     "data": {
      "text/html": [
       "<pre>recommendations finished on 143000/529574 queries. users per second: 7573.12</pre>"
      ],
      "text/plain": [
       "recommendations finished on 143000/529574 queries. users per second: 7573.12"
      ]
     },
     "metadata": {},
     "output_type": "display_data"
    },
    {
     "data": {
      "text/html": [
       "<pre>recommendations finished on 144000/529574 queries. users per second: 7579.34</pre>"
      ],
      "text/plain": [
       "recommendations finished on 144000/529574 queries. users per second: 7579.34"
      ]
     },
     "metadata": {},
     "output_type": "display_data"
    },
    {
     "data": {
      "text/html": [
       "<pre>recommendations finished on 145000/529574 queries. users per second: 7588.51</pre>"
      ],
      "text/plain": [
       "recommendations finished on 145000/529574 queries. users per second: 7588.51"
      ]
     },
     "metadata": {},
     "output_type": "display_data"
    },
    {
     "data": {
      "text/html": [
       "<pre>recommendations finished on 146000/529574 queries. users per second: 7595.48</pre>"
      ],
      "text/plain": [
       "recommendations finished on 146000/529574 queries. users per second: 7595.48"
      ]
     },
     "metadata": {},
     "output_type": "display_data"
    },
    {
     "data": {
      "text/html": [
       "<pre>recommendations finished on 147000/529574 queries. users per second: 7599.23</pre>"
      ],
      "text/plain": [
       "recommendations finished on 147000/529574 queries. users per second: 7599.23"
      ]
     },
     "metadata": {},
     "output_type": "display_data"
    },
    {
     "data": {
      "text/html": [
       "<pre>recommendations finished on 148000/529574 queries. users per second: 7605.19</pre>"
      ],
      "text/plain": [
       "recommendations finished on 148000/529574 queries. users per second: 7605.19"
      ]
     },
     "metadata": {},
     "output_type": "display_data"
    },
    {
     "data": {
      "text/html": [
       "<pre>recommendations finished on 149000/529574 queries. users per second: 7608.16</pre>"
      ],
      "text/plain": [
       "recommendations finished on 149000/529574 queries. users per second: 7608.16"
      ]
     },
     "metadata": {},
     "output_type": "display_data"
    },
    {
     "data": {
      "text/html": [
       "<pre>recommendations finished on 150000/529574 queries. users per second: 7605.69</pre>"
      ],
      "text/plain": [
       "recommendations finished on 150000/529574 queries. users per second: 7605.69"
      ]
     },
     "metadata": {},
     "output_type": "display_data"
    },
    {
     "data": {
      "text/html": [
       "<pre>recommendations finished on 151000/529574 queries. users per second: 7602.4</pre>"
      ],
      "text/plain": [
       "recommendations finished on 151000/529574 queries. users per second: 7602.4"
      ]
     },
     "metadata": {},
     "output_type": "display_data"
    },
    {
     "data": {
      "text/html": [
       "<pre>recommendations finished on 152000/529574 queries. users per second: 7603.36</pre>"
      ],
      "text/plain": [
       "recommendations finished on 152000/529574 queries. users per second: 7603.36"
      ]
     },
     "metadata": {},
     "output_type": "display_data"
    },
    {
     "data": {
      "text/html": [
       "<pre>recommendations finished on 153000/529574 queries. users per second: 7599.59</pre>"
      ],
      "text/plain": [
       "recommendations finished on 153000/529574 queries. users per second: 7599.59"
      ]
     },
     "metadata": {},
     "output_type": "display_data"
    },
    {
     "data": {
      "text/html": [
       "<pre>recommendations finished on 154000/529574 queries. users per second: 7596.66</pre>"
      ],
      "text/plain": [
       "recommendations finished on 154000/529574 queries. users per second: 7596.66"
      ]
     },
     "metadata": {},
     "output_type": "display_data"
    },
    {
     "data": {
      "text/html": [
       "<pre>recommendations finished on 155000/529574 queries. users per second: 7602.21</pre>"
      ],
      "text/plain": [
       "recommendations finished on 155000/529574 queries. users per second: 7602.21"
      ]
     },
     "metadata": {},
     "output_type": "display_data"
    },
    {
     "data": {
      "text/html": [
       "<pre>recommendations finished on 156000/529574 queries. users per second: 7612.35</pre>"
      ],
      "text/plain": [
       "recommendations finished on 156000/529574 queries. users per second: 7612.35"
      ]
     },
     "metadata": {},
     "output_type": "display_data"
    },
    {
     "data": {
      "text/html": [
       "<pre>recommendations finished on 157000/529574 queries. users per second: 7609.45</pre>"
      ],
      "text/plain": [
       "recommendations finished on 157000/529574 queries. users per second: 7609.45"
      ]
     },
     "metadata": {},
     "output_type": "display_data"
    },
    {
     "data": {
      "text/html": [
       "<pre>recommendations finished on 158000/529574 queries. users per second: 7612.03</pre>"
      ],
      "text/plain": [
       "recommendations finished on 158000/529574 queries. users per second: 7612.03"
      ]
     },
     "metadata": {},
     "output_type": "display_data"
    },
    {
     "data": {
      "text/html": [
       "<pre>recommendations finished on 159000/529574 queries. users per second: 7619.59</pre>"
      ],
      "text/plain": [
       "recommendations finished on 159000/529574 queries. users per second: 7619.59"
      ]
     },
     "metadata": {},
     "output_type": "display_data"
    },
    {
     "data": {
      "text/html": [
       "<pre>recommendations finished on 160000/529574 queries. users per second: 7622.92</pre>"
      ],
      "text/plain": [
       "recommendations finished on 160000/529574 queries. users per second: 7622.92"
      ]
     },
     "metadata": {},
     "output_type": "display_data"
    },
    {
     "data": {
      "text/html": [
       "<pre>recommendations finished on 161000/529574 queries. users per second: 7627.78</pre>"
      ],
      "text/plain": [
       "recommendations finished on 161000/529574 queries. users per second: 7627.78"
      ]
     },
     "metadata": {},
     "output_type": "display_data"
    },
    {
     "data": {
      "text/html": [
       "<pre>recommendations finished on 162000/529574 queries. users per second: 7634.05</pre>"
      ],
      "text/plain": [
       "recommendations finished on 162000/529574 queries. users per second: 7634.05"
      ]
     },
     "metadata": {},
     "output_type": "display_data"
    },
    {
     "data": {
      "text/html": [
       "<pre>recommendations finished on 163000/529574 queries. users per second: 7636.6</pre>"
      ],
      "text/plain": [
       "recommendations finished on 163000/529574 queries. users per second: 7636.6"
      ]
     },
     "metadata": {},
     "output_type": "display_data"
    },
    {
     "data": {
      "text/html": [
       "<pre>recommendations finished on 164000/529574 queries. users per second: 7641.41</pre>"
      ],
      "text/plain": [
       "recommendations finished on 164000/529574 queries. users per second: 7641.41"
      ]
     },
     "metadata": {},
     "output_type": "display_data"
    },
    {
     "data": {
      "text/html": [
       "<pre>recommendations finished on 165000/529574 queries. users per second: 7646.95</pre>"
      ],
      "text/plain": [
       "recommendations finished on 165000/529574 queries. users per second: 7646.95"
      ]
     },
     "metadata": {},
     "output_type": "display_data"
    },
    {
     "data": {
      "text/html": [
       "<pre>recommendations finished on 166000/529574 queries. users per second: 7652.96</pre>"
      ],
      "text/plain": [
       "recommendations finished on 166000/529574 queries. users per second: 7652.96"
      ]
     },
     "metadata": {},
     "output_type": "display_data"
    },
    {
     "data": {
      "text/html": [
       "<pre>recommendations finished on 167000/529574 queries. users per second: 7655.38</pre>"
      ],
      "text/plain": [
       "recommendations finished on 167000/529574 queries. users per second: 7655.38"
      ]
     },
     "metadata": {},
     "output_type": "display_data"
    },
    {
     "data": {
      "text/html": [
       "<pre>recommendations finished on 168000/529574 queries. users per second: 7657.28</pre>"
      ],
      "text/plain": [
       "recommendations finished on 168000/529574 queries. users per second: 7657.28"
      ]
     },
     "metadata": {},
     "output_type": "display_data"
    },
    {
     "data": {
      "text/html": [
       "<pre>recommendations finished on 169000/529574 queries. users per second: 7663.1</pre>"
      ],
      "text/plain": [
       "recommendations finished on 169000/529574 queries. users per second: 7663.1"
      ]
     },
     "metadata": {},
     "output_type": "display_data"
    },
    {
     "data": {
      "text/html": [
       "<pre>recommendations finished on 170000/529574 queries. users per second: 7666.69</pre>"
      ],
      "text/plain": [
       "recommendations finished on 170000/529574 queries. users per second: 7666.69"
      ]
     },
     "metadata": {},
     "output_type": "display_data"
    },
    {
     "data": {
      "text/html": [
       "<pre>recommendations finished on 171000/529574 queries. users per second: 7673.47</pre>"
      ],
      "text/plain": [
       "recommendations finished on 171000/529574 queries. users per second: 7673.47"
      ]
     },
     "metadata": {},
     "output_type": "display_data"
    },
    {
     "data": {
      "text/html": [
       "<pre>recommendations finished on 172000/529574 queries. users per second: 7675.33</pre>"
      ],
      "text/plain": [
       "recommendations finished on 172000/529574 queries. users per second: 7675.33"
      ]
     },
     "metadata": {},
     "output_type": "display_data"
    },
    {
     "data": {
      "text/html": [
       "<pre>recommendations finished on 173000/529574 queries. users per second: 7680.1</pre>"
      ],
      "text/plain": [
       "recommendations finished on 173000/529574 queries. users per second: 7680.1"
      ]
     },
     "metadata": {},
     "output_type": "display_data"
    },
    {
     "data": {
      "text/html": [
       "<pre>recommendations finished on 174000/529574 queries. users per second: 7684.61</pre>"
      ],
      "text/plain": [
       "recommendations finished on 174000/529574 queries. users per second: 7684.61"
      ]
     },
     "metadata": {},
     "output_type": "display_data"
    },
    {
     "data": {
      "text/html": [
       "<pre>recommendations finished on 175000/529574 queries. users per second: 7689.66</pre>"
      ],
      "text/plain": [
       "recommendations finished on 175000/529574 queries. users per second: 7689.66"
      ]
     },
     "metadata": {},
     "output_type": "display_data"
    },
    {
     "data": {
      "text/html": [
       "<pre>recommendations finished on 176000/529574 queries. users per second: 7690.7</pre>"
      ],
      "text/plain": [
       "recommendations finished on 176000/529574 queries. users per second: 7690.7"
      ]
     },
     "metadata": {},
     "output_type": "display_data"
    },
    {
     "data": {
      "text/html": [
       "<pre>recommendations finished on 177000/529574 queries. users per second: 7694.9</pre>"
      ],
      "text/plain": [
       "recommendations finished on 177000/529574 queries. users per second: 7694.9"
      ]
     },
     "metadata": {},
     "output_type": "display_data"
    },
    {
     "data": {
      "text/html": [
       "<pre>recommendations finished on 178000/529574 queries. users per second: 7699.25</pre>"
      ],
      "text/plain": [
       "recommendations finished on 178000/529574 queries. users per second: 7699.25"
      ]
     },
     "metadata": {},
     "output_type": "display_data"
    },
    {
     "data": {
      "text/html": [
       "<pre>recommendations finished on 179000/529574 queries. users per second: 7703.65</pre>"
      ],
      "text/plain": [
       "recommendations finished on 179000/529574 queries. users per second: 7703.65"
      ]
     },
     "metadata": {},
     "output_type": "display_data"
    },
    {
     "data": {
      "text/html": [
       "<pre>recommendations finished on 180000/529574 queries. users per second: 7708.35</pre>"
      ],
      "text/plain": [
       "recommendations finished on 180000/529574 queries. users per second: 7708.35"
      ]
     },
     "metadata": {},
     "output_type": "display_data"
    },
    {
     "data": {
      "text/html": [
       "<pre>recommendations finished on 181000/529574 queries. users per second: 7712.88</pre>"
      ],
      "text/plain": [
       "recommendations finished on 181000/529574 queries. users per second: 7712.88"
      ]
     },
     "metadata": {},
     "output_type": "display_data"
    },
    {
     "data": {
      "text/html": [
       "<pre>recommendations finished on 182000/529574 queries. users per second: 7719</pre>"
      ],
      "text/plain": [
       "recommendations finished on 182000/529574 queries. users per second: 7719"
      ]
     },
     "metadata": {},
     "output_type": "display_data"
    },
    {
     "data": {
      "text/html": [
       "<pre>recommendations finished on 183000/529574 queries. users per second: 7724.73</pre>"
      ],
      "text/plain": [
       "recommendations finished on 183000/529574 queries. users per second: 7724.73"
      ]
     },
     "metadata": {},
     "output_type": "display_data"
    },
    {
     "data": {
      "text/html": [
       "<pre>recommendations finished on 184000/529574 queries. users per second: 7727.58</pre>"
      ],
      "text/plain": [
       "recommendations finished on 184000/529574 queries. users per second: 7727.58"
      ]
     },
     "metadata": {},
     "output_type": "display_data"
    },
    {
     "data": {
      "text/html": [
       "<pre>recommendations finished on 185000/529574 queries. users per second: 7726.34</pre>"
      ],
      "text/plain": [
       "recommendations finished on 185000/529574 queries. users per second: 7726.34"
      ]
     },
     "metadata": {},
     "output_type": "display_data"
    },
    {
     "data": {
      "text/html": [
       "<pre>recommendations finished on 186000/529574 queries. users per second: 7726.71</pre>"
      ],
      "text/plain": [
       "recommendations finished on 186000/529574 queries. users per second: 7726.71"
      ]
     },
     "metadata": {},
     "output_type": "display_data"
    },
    {
     "data": {
      "text/html": [
       "<pre>recommendations finished on 187000/529574 queries. users per second: 7725.25</pre>"
      ],
      "text/plain": [
       "recommendations finished on 187000/529574 queries. users per second: 7725.25"
      ]
     },
     "metadata": {},
     "output_type": "display_data"
    },
    {
     "data": {
      "text/html": [
       "<pre>recommendations finished on 188000/529574 queries. users per second: 7720.3</pre>"
      ],
      "text/plain": [
       "recommendations finished on 188000/529574 queries. users per second: 7720.3"
      ]
     },
     "metadata": {},
     "output_type": "display_data"
    },
    {
     "data": {
      "text/html": [
       "<pre>recommendations finished on 189000/529574 queries. users per second: 7718.02</pre>"
      ],
      "text/plain": [
       "recommendations finished on 189000/529574 queries. users per second: 7718.02"
      ]
     },
     "metadata": {},
     "output_type": "display_data"
    },
    {
     "data": {
      "text/html": [
       "<pre>recommendations finished on 190000/529574 queries. users per second: 7708.16</pre>"
      ],
      "text/plain": [
       "recommendations finished on 190000/529574 queries. users per second: 7708.16"
      ]
     },
     "metadata": {},
     "output_type": "display_data"
    },
    {
     "data": {
      "text/html": [
       "<pre>recommendations finished on 191000/529574 queries. users per second: 7710.24</pre>"
      ],
      "text/plain": [
       "recommendations finished on 191000/529574 queries. users per second: 7710.24"
      ]
     },
     "metadata": {},
     "output_type": "display_data"
    },
    {
     "data": {
      "text/html": [
       "<pre>recommendations finished on 192000/529574 queries. users per second: 7711.66</pre>"
      ],
      "text/plain": [
       "recommendations finished on 192000/529574 queries. users per second: 7711.66"
      ]
     },
     "metadata": {},
     "output_type": "display_data"
    },
    {
     "data": {
      "text/html": [
       "<pre>recommendations finished on 193000/529574 queries. users per second: 7712.94</pre>"
      ],
      "text/plain": [
       "recommendations finished on 193000/529574 queries. users per second: 7712.94"
      ]
     },
     "metadata": {},
     "output_type": "display_data"
    },
    {
     "data": {
      "text/html": [
       "<pre>recommendations finished on 194000/529574 queries. users per second: 7715.39</pre>"
      ],
      "text/plain": [
       "recommendations finished on 194000/529574 queries. users per second: 7715.39"
      ]
     },
     "metadata": {},
     "output_type": "display_data"
    },
    {
     "data": {
      "text/html": [
       "<pre>recommendations finished on 195000/529574 queries. users per second: 7715.77</pre>"
      ],
      "text/plain": [
       "recommendations finished on 195000/529574 queries. users per second: 7715.77"
      ]
     },
     "metadata": {},
     "output_type": "display_data"
    },
    {
     "data": {
      "text/html": [
       "<pre>recommendations finished on 196000/529574 queries. users per second: 7716.85</pre>"
      ],
      "text/plain": [
       "recommendations finished on 196000/529574 queries. users per second: 7716.85"
      ]
     },
     "metadata": {},
     "output_type": "display_data"
    },
    {
     "data": {
      "text/html": [
       "<pre>recommendations finished on 197000/529574 queries. users per second: 7718.54</pre>"
      ],
      "text/plain": [
       "recommendations finished on 197000/529574 queries. users per second: 7718.54"
      ]
     },
     "metadata": {},
     "output_type": "display_data"
    },
    {
     "data": {
      "text/html": [
       "<pre>recommendations finished on 198000/529574 queries. users per second: 7722.59</pre>"
      ],
      "text/plain": [
       "recommendations finished on 198000/529574 queries. users per second: 7722.59"
      ]
     },
     "metadata": {},
     "output_type": "display_data"
    },
    {
     "data": {
      "text/html": [
       "<pre>recommendations finished on 199000/529574 queries. users per second: 7721.95</pre>"
      ],
      "text/plain": [
       "recommendations finished on 199000/529574 queries. users per second: 7721.95"
      ]
     },
     "metadata": {},
     "output_type": "display_data"
    },
    {
     "data": {
      "text/html": [
       "<pre>recommendations finished on 200000/529574 queries. users per second: 7724.14</pre>"
      ],
      "text/plain": [
       "recommendations finished on 200000/529574 queries. users per second: 7724.14"
      ]
     },
     "metadata": {},
     "output_type": "display_data"
    },
    {
     "data": {
      "text/html": [
       "<pre>recommendations finished on 201000/529574 queries. users per second: 7725.9</pre>"
      ],
      "text/plain": [
       "recommendations finished on 201000/529574 queries. users per second: 7725.9"
      ]
     },
     "metadata": {},
     "output_type": "display_data"
    },
    {
     "data": {
      "text/html": [
       "<pre>recommendations finished on 202000/529574 queries. users per second: 7726.23</pre>"
      ],
      "text/plain": [
       "recommendations finished on 202000/529574 queries. users per second: 7726.23"
      ]
     },
     "metadata": {},
     "output_type": "display_data"
    },
    {
     "data": {
      "text/html": [
       "<pre>recommendations finished on 203000/529574 queries. users per second: 7728.46</pre>"
      ],
      "text/plain": [
       "recommendations finished on 203000/529574 queries. users per second: 7728.46"
      ]
     },
     "metadata": {},
     "output_type": "display_data"
    },
    {
     "data": {
      "text/html": [
       "<pre>recommendations finished on 204000/529574 queries. users per second: 7730.94</pre>"
      ],
      "text/plain": [
       "recommendations finished on 204000/529574 queries. users per second: 7730.94"
      ]
     },
     "metadata": {},
     "output_type": "display_data"
    },
    {
     "data": {
      "text/html": [
       "<pre>recommendations finished on 205000/529574 queries. users per second: 7733.09</pre>"
      ],
      "text/plain": [
       "recommendations finished on 205000/529574 queries. users per second: 7733.09"
      ]
     },
     "metadata": {},
     "output_type": "display_data"
    },
    {
     "data": {
      "text/html": [
       "<pre>recommendations finished on 206000/529574 queries. users per second: 7734.87</pre>"
      ],
      "text/plain": [
       "recommendations finished on 206000/529574 queries. users per second: 7734.87"
      ]
     },
     "metadata": {},
     "output_type": "display_data"
    },
    {
     "data": {
      "text/html": [
       "<pre>recommendations finished on 207000/529574 queries. users per second: 7735.75</pre>"
      ],
      "text/plain": [
       "recommendations finished on 207000/529574 queries. users per second: 7735.75"
      ]
     },
     "metadata": {},
     "output_type": "display_data"
    },
    {
     "data": {
      "text/html": [
       "<pre>recommendations finished on 208000/529574 queries. users per second: 7737.12</pre>"
      ],
      "text/plain": [
       "recommendations finished on 208000/529574 queries. users per second: 7737.12"
      ]
     },
     "metadata": {},
     "output_type": "display_data"
    },
    {
     "data": {
      "text/html": [
       "<pre>recommendations finished on 209000/529574 queries. users per second: 7739.93</pre>"
      ],
      "text/plain": [
       "recommendations finished on 209000/529574 queries. users per second: 7739.93"
      ]
     },
     "metadata": {},
     "output_type": "display_data"
    },
    {
     "data": {
      "text/html": [
       "<pre>recommendations finished on 210000/529574 queries. users per second: 7741.28</pre>"
      ],
      "text/plain": [
       "recommendations finished on 210000/529574 queries. users per second: 7741.28"
      ]
     },
     "metadata": {},
     "output_type": "display_data"
    },
    {
     "data": {
      "text/html": [
       "<pre>recommendations finished on 211000/529574 queries. users per second: 7744.2</pre>"
      ],
      "text/plain": [
       "recommendations finished on 211000/529574 queries. users per second: 7744.2"
      ]
     },
     "metadata": {},
     "output_type": "display_data"
    },
    {
     "data": {
      "text/html": [
       "<pre>recommendations finished on 212000/529574 queries. users per second: 7745.13</pre>"
      ],
      "text/plain": [
       "recommendations finished on 212000/529574 queries. users per second: 7745.13"
      ]
     },
     "metadata": {},
     "output_type": "display_data"
    },
    {
     "data": {
      "text/html": [
       "<pre>recommendations finished on 213000/529574 queries. users per second: 7749.97</pre>"
      ],
      "text/plain": [
       "recommendations finished on 213000/529574 queries. users per second: 7749.97"
      ]
     },
     "metadata": {},
     "output_type": "display_data"
    },
    {
     "data": {
      "text/html": [
       "<pre>recommendations finished on 214000/529574 queries. users per second: 7750.12</pre>"
      ],
      "text/plain": [
       "recommendations finished on 214000/529574 queries. users per second: 7750.12"
      ]
     },
     "metadata": {},
     "output_type": "display_data"
    },
    {
     "data": {
      "text/html": [
       "<pre>recommendations finished on 215000/529574 queries. users per second: 7748.06</pre>"
      ],
      "text/plain": [
       "recommendations finished on 215000/529574 queries. users per second: 7748.06"
      ]
     },
     "metadata": {},
     "output_type": "display_data"
    },
    {
     "data": {
      "text/html": [
       "<pre>recommendations finished on 216000/529574 queries. users per second: 7747.1</pre>"
      ],
      "text/plain": [
       "recommendations finished on 216000/529574 queries. users per second: 7747.1"
      ]
     },
     "metadata": {},
     "output_type": "display_data"
    },
    {
     "data": {
      "text/html": [
       "<pre>recommendations finished on 217000/529574 queries. users per second: 7748.76</pre>"
      ],
      "text/plain": [
       "recommendations finished on 217000/529574 queries. users per second: 7748.76"
      ]
     },
     "metadata": {},
     "output_type": "display_data"
    },
    {
     "data": {
      "text/html": [
       "<pre>recommendations finished on 218000/529574 queries. users per second: 7747.16</pre>"
      ],
      "text/plain": [
       "recommendations finished on 218000/529574 queries. users per second: 7747.16"
      ]
     },
     "metadata": {},
     "output_type": "display_data"
    },
    {
     "data": {
      "text/html": [
       "<pre>recommendations finished on 219000/529574 queries. users per second: 7749.06</pre>"
      ],
      "text/plain": [
       "recommendations finished on 219000/529574 queries. users per second: 7749.06"
      ]
     },
     "metadata": {},
     "output_type": "display_data"
    },
    {
     "data": {
      "text/html": [
       "<pre>recommendations finished on 220000/529574 queries. users per second: 7752.12</pre>"
      ],
      "text/plain": [
       "recommendations finished on 220000/529574 queries. users per second: 7752.12"
      ]
     },
     "metadata": {},
     "output_type": "display_data"
    },
    {
     "data": {
      "text/html": [
       "<pre>recommendations finished on 221000/529574 queries. users per second: 7735.2</pre>"
      ],
      "text/plain": [
       "recommendations finished on 221000/529574 queries. users per second: 7735.2"
      ]
     },
     "metadata": {},
     "output_type": "display_data"
    },
    {
     "data": {
      "text/html": [
       "<pre>recommendations finished on 222000/529574 queries. users per second: 7735.61</pre>"
      ],
      "text/plain": [
       "recommendations finished on 222000/529574 queries. users per second: 7735.61"
      ]
     },
     "metadata": {},
     "output_type": "display_data"
    },
    {
     "data": {
      "text/html": [
       "<pre>recommendations finished on 223000/529574 queries. users per second: 7738.12</pre>"
      ],
      "text/plain": [
       "recommendations finished on 223000/529574 queries. users per second: 7738.12"
      ]
     },
     "metadata": {},
     "output_type": "display_data"
    },
    {
     "data": {
      "text/html": [
       "<pre>recommendations finished on 224000/529574 queries. users per second: 7738.13</pre>"
      ],
      "text/plain": [
       "recommendations finished on 224000/529574 queries. users per second: 7738.13"
      ]
     },
     "metadata": {},
     "output_type": "display_data"
    },
    {
     "data": {
      "text/html": [
       "<pre>recommendations finished on 225000/529574 queries. users per second: 7738.14</pre>"
      ],
      "text/plain": [
       "recommendations finished on 225000/529574 queries. users per second: 7738.14"
      ]
     },
     "metadata": {},
     "output_type": "display_data"
    },
    {
     "data": {
      "text/html": [
       "<pre>recommendations finished on 226000/529574 queries. users per second: 7738.08</pre>"
      ],
      "text/plain": [
       "recommendations finished on 226000/529574 queries. users per second: 7738.08"
      ]
     },
     "metadata": {},
     "output_type": "display_data"
    },
    {
     "data": {
      "text/html": [
       "<pre>recommendations finished on 227000/529574 queries. users per second: 7738.58</pre>"
      ],
      "text/plain": [
       "recommendations finished on 227000/529574 queries. users per second: 7738.58"
      ]
     },
     "metadata": {},
     "output_type": "display_data"
    },
    {
     "data": {
      "text/html": [
       "<pre>recommendations finished on 228000/529574 queries. users per second: 7735.08</pre>"
      ],
      "text/plain": [
       "recommendations finished on 228000/529574 queries. users per second: 7735.08"
      ]
     },
     "metadata": {},
     "output_type": "display_data"
    },
    {
     "data": {
      "text/html": [
       "<pre>recommendations finished on 229000/529574 queries. users per second: 7733.83</pre>"
      ],
      "text/plain": [
       "recommendations finished on 229000/529574 queries. users per second: 7733.83"
      ]
     },
     "metadata": {},
     "output_type": "display_data"
    },
    {
     "data": {
      "text/html": [
       "<pre>recommendations finished on 230000/529574 queries. users per second: 7728.95</pre>"
      ],
      "text/plain": [
       "recommendations finished on 230000/529574 queries. users per second: 7728.95"
      ]
     },
     "metadata": {},
     "output_type": "display_data"
    },
    {
     "data": {
      "text/html": [
       "<pre>recommendations finished on 231000/529574 queries. users per second: 7726.57</pre>"
      ],
      "text/plain": [
       "recommendations finished on 231000/529574 queries. users per second: 7726.57"
      ]
     },
     "metadata": {},
     "output_type": "display_data"
    },
    {
     "data": {
      "text/html": [
       "<pre>recommendations finished on 232000/529574 queries. users per second: 7725.37</pre>"
      ],
      "text/plain": [
       "recommendations finished on 232000/529574 queries. users per second: 7725.37"
      ]
     },
     "metadata": {},
     "output_type": "display_data"
    },
    {
     "data": {
      "text/html": [
       "<pre>recommendations finished on 233000/529574 queries. users per second: 7728.44</pre>"
      ],
      "text/plain": [
       "recommendations finished on 233000/529574 queries. users per second: 7728.44"
      ]
     },
     "metadata": {},
     "output_type": "display_data"
    },
    {
     "data": {
      "text/html": [
       "<pre>recommendations finished on 234000/529574 queries. users per second: 7728.32</pre>"
      ],
      "text/plain": [
       "recommendations finished on 234000/529574 queries. users per second: 7728.32"
      ]
     },
     "metadata": {},
     "output_type": "display_data"
    },
    {
     "data": {
      "text/html": [
       "<pre>recommendations finished on 235000/529574 queries. users per second: 7732.35</pre>"
      ],
      "text/plain": [
       "recommendations finished on 235000/529574 queries. users per second: 7732.35"
      ]
     },
     "metadata": {},
     "output_type": "display_data"
    },
    {
     "data": {
      "text/html": [
       "<pre>recommendations finished on 236000/529574 queries. users per second: 7735.61</pre>"
      ],
      "text/plain": [
       "recommendations finished on 236000/529574 queries. users per second: 7735.61"
      ]
     },
     "metadata": {},
     "output_type": "display_data"
    },
    {
     "data": {
      "text/html": [
       "<pre>recommendations finished on 237000/529574 queries. users per second: 7738.11</pre>"
      ],
      "text/plain": [
       "recommendations finished on 237000/529574 queries. users per second: 7738.11"
      ]
     },
     "metadata": {},
     "output_type": "display_data"
    },
    {
     "data": {
      "text/html": [
       "<pre>recommendations finished on 238000/529574 queries. users per second: 7736.07</pre>"
      ],
      "text/plain": [
       "recommendations finished on 238000/529574 queries. users per second: 7736.07"
      ]
     },
     "metadata": {},
     "output_type": "display_data"
    },
    {
     "data": {
      "text/html": [
       "<pre>recommendations finished on 239000/529574 queries. users per second: 7738.65</pre>"
      ],
      "text/plain": [
       "recommendations finished on 239000/529574 queries. users per second: 7738.65"
      ]
     },
     "metadata": {},
     "output_type": "display_data"
    },
    {
     "data": {
      "text/html": [
       "<pre>recommendations finished on 240000/529574 queries. users per second: 7742</pre>"
      ],
      "text/plain": [
       "recommendations finished on 240000/529574 queries. users per second: 7742"
      ]
     },
     "metadata": {},
     "output_type": "display_data"
    },
    {
     "data": {
      "text/html": [
       "<pre>recommendations finished on 241000/529574 queries. users per second: 7739.49</pre>"
      ],
      "text/plain": [
       "recommendations finished on 241000/529574 queries. users per second: 7739.49"
      ]
     },
     "metadata": {},
     "output_type": "display_data"
    },
    {
     "data": {
      "text/html": [
       "<pre>recommendations finished on 242000/529574 queries. users per second: 7736.07</pre>"
      ],
      "text/plain": [
       "recommendations finished on 242000/529574 queries. users per second: 7736.07"
      ]
     },
     "metadata": {},
     "output_type": "display_data"
    },
    {
     "data": {
      "text/html": [
       "<pre>recommendations finished on 243000/529574 queries. users per second: 7735.49</pre>"
      ],
      "text/plain": [
       "recommendations finished on 243000/529574 queries. users per second: 7735.49"
      ]
     },
     "metadata": {},
     "output_type": "display_data"
    },
    {
     "data": {
      "text/html": [
       "<pre>recommendations finished on 244000/529574 queries. users per second: 7731.08</pre>"
      ],
      "text/plain": [
       "recommendations finished on 244000/529574 queries. users per second: 7731.08"
      ]
     },
     "metadata": {},
     "output_type": "display_data"
    },
    {
     "data": {
      "text/html": [
       "<pre>recommendations finished on 245000/529574 queries. users per second: 7727.08</pre>"
      ],
      "text/plain": [
       "recommendations finished on 245000/529574 queries. users per second: 7727.08"
      ]
     },
     "metadata": {},
     "output_type": "display_data"
    },
    {
     "data": {
      "text/html": [
       "<pre>recommendations finished on 246000/529574 queries. users per second: 7720.77</pre>"
      ],
      "text/plain": [
       "recommendations finished on 246000/529574 queries. users per second: 7720.77"
      ]
     },
     "metadata": {},
     "output_type": "display_data"
    },
    {
     "data": {
      "text/html": [
       "<pre>recommendations finished on 247000/529574 queries. users per second: 7715.73</pre>"
      ],
      "text/plain": [
       "recommendations finished on 247000/529574 queries. users per second: 7715.73"
      ]
     },
     "metadata": {},
     "output_type": "display_data"
    },
    {
     "data": {
      "text/html": [
       "<pre>recommendations finished on 248000/529574 queries. users per second: 7711.6</pre>"
      ],
      "text/plain": [
       "recommendations finished on 248000/529574 queries. users per second: 7711.6"
      ]
     },
     "metadata": {},
     "output_type": "display_data"
    },
    {
     "data": {
      "text/html": [
       "<pre>recommendations finished on 249000/529574 queries. users per second: 7708.12</pre>"
      ],
      "text/plain": [
       "recommendations finished on 249000/529574 queries. users per second: 7708.12"
      ]
     },
     "metadata": {},
     "output_type": "display_data"
    },
    {
     "data": {
      "text/html": [
       "<pre>recommendations finished on 250000/529574 queries. users per second: 7705.06</pre>"
      ],
      "text/plain": [
       "recommendations finished on 250000/529574 queries. users per second: 7705.06"
      ]
     },
     "metadata": {},
     "output_type": "display_data"
    },
    {
     "data": {
      "text/html": [
       "<pre>recommendations finished on 251000/529574 queries. users per second: 7705.07</pre>"
      ],
      "text/plain": [
       "recommendations finished on 251000/529574 queries. users per second: 7705.07"
      ]
     },
     "metadata": {},
     "output_type": "display_data"
    },
    {
     "data": {
      "text/html": [
       "<pre>recommendations finished on 252000/529574 queries. users per second: 7700.93</pre>"
      ],
      "text/plain": [
       "recommendations finished on 252000/529574 queries. users per second: 7700.93"
      ]
     },
     "metadata": {},
     "output_type": "display_data"
    },
    {
     "data": {
      "text/html": [
       "<pre>recommendations finished on 253000/529574 queries. users per second: 7699.52</pre>"
      ],
      "text/plain": [
       "recommendations finished on 253000/529574 queries. users per second: 7699.52"
      ]
     },
     "metadata": {},
     "output_type": "display_data"
    },
    {
     "data": {
      "text/html": [
       "<pre>recommendations finished on 254000/529574 queries. users per second: 7698.02</pre>"
      ],
      "text/plain": [
       "recommendations finished on 254000/529574 queries. users per second: 7698.02"
      ]
     },
     "metadata": {},
     "output_type": "display_data"
    },
    {
     "data": {
      "text/html": [
       "<pre>recommendations finished on 255000/529574 queries. users per second: 7696.15</pre>"
      ],
      "text/plain": [
       "recommendations finished on 255000/529574 queries. users per second: 7696.15"
      ]
     },
     "metadata": {},
     "output_type": "display_data"
    },
    {
     "data": {
      "text/html": [
       "<pre>recommendations finished on 256000/529574 queries. users per second: 7691.75</pre>"
      ],
      "text/plain": [
       "recommendations finished on 256000/529574 queries. users per second: 7691.75"
      ]
     },
     "metadata": {},
     "output_type": "display_data"
    },
    {
     "data": {
      "text/html": [
       "<pre>recommendations finished on 257000/529574 queries. users per second: 7689.49</pre>"
      ],
      "text/plain": [
       "recommendations finished on 257000/529574 queries. users per second: 7689.49"
      ]
     },
     "metadata": {},
     "output_type": "display_data"
    },
    {
     "data": {
      "text/html": [
       "<pre>recommendations finished on 258000/529574 queries. users per second: 7689.34</pre>"
      ],
      "text/plain": [
       "recommendations finished on 258000/529574 queries. users per second: 7689.34"
      ]
     },
     "metadata": {},
     "output_type": "display_data"
    },
    {
     "data": {
      "text/html": [
       "<pre>recommendations finished on 259000/529574 queries. users per second: 7687.69</pre>"
      ],
      "text/plain": [
       "recommendations finished on 259000/529574 queries. users per second: 7687.69"
      ]
     },
     "metadata": {},
     "output_type": "display_data"
    },
    {
     "data": {
      "text/html": [
       "<pre>recommendations finished on 260000/529574 queries. users per second: 7687.11</pre>"
      ],
      "text/plain": [
       "recommendations finished on 260000/529574 queries. users per second: 7687.11"
      ]
     },
     "metadata": {},
     "output_type": "display_data"
    },
    {
     "data": {
      "text/html": [
       "<pre>recommendations finished on 261000/529574 queries. users per second: 7683.07</pre>"
      ],
      "text/plain": [
       "recommendations finished on 261000/529574 queries. users per second: 7683.07"
      ]
     },
     "metadata": {},
     "output_type": "display_data"
    },
    {
     "data": {
      "text/html": [
       "<pre>recommendations finished on 262000/529574 queries. users per second: 7678.67</pre>"
      ],
      "text/plain": [
       "recommendations finished on 262000/529574 queries. users per second: 7678.67"
      ]
     },
     "metadata": {},
     "output_type": "display_data"
    },
    {
     "data": {
      "text/html": [
       "<pre>recommendations finished on 263000/529574 queries. users per second: 7674.4</pre>"
      ],
      "text/plain": [
       "recommendations finished on 263000/529574 queries. users per second: 7674.4"
      ]
     },
     "metadata": {},
     "output_type": "display_data"
    },
    {
     "data": {
      "text/html": [
       "<pre>recommendations finished on 264000/529574 queries. users per second: 7670.11</pre>"
      ],
      "text/plain": [
       "recommendations finished on 264000/529574 queries. users per second: 7670.11"
      ]
     },
     "metadata": {},
     "output_type": "display_data"
    },
    {
     "data": {
      "text/html": [
       "<pre>recommendations finished on 265000/529574 queries. users per second: 7672.16</pre>"
      ],
      "text/plain": [
       "recommendations finished on 265000/529574 queries. users per second: 7672.16"
      ]
     },
     "metadata": {},
     "output_type": "display_data"
    },
    {
     "data": {
      "text/html": [
       "<pre>recommendations finished on 266000/529574 queries. users per second: 7670.1</pre>"
      ],
      "text/plain": [
       "recommendations finished on 266000/529574 queries. users per second: 7670.1"
      ]
     },
     "metadata": {},
     "output_type": "display_data"
    },
    {
     "data": {
      "text/html": [
       "<pre>recommendations finished on 267000/529574 queries. users per second: 7668.1</pre>"
      ],
      "text/plain": [
       "recommendations finished on 267000/529574 queries. users per second: 7668.1"
      ]
     },
     "metadata": {},
     "output_type": "display_data"
    },
    {
     "data": {
      "text/html": [
       "<pre>recommendations finished on 268000/529574 queries. users per second: 7665.16</pre>"
      ],
      "text/plain": [
       "recommendations finished on 268000/529574 queries. users per second: 7665.16"
      ]
     },
     "metadata": {},
     "output_type": "display_data"
    },
    {
     "data": {
      "text/html": [
       "<pre>recommendations finished on 269000/529574 queries. users per second: 7661.38</pre>"
      ],
      "text/plain": [
       "recommendations finished on 269000/529574 queries. users per second: 7661.38"
      ]
     },
     "metadata": {},
     "output_type": "display_data"
    },
    {
     "data": {
      "text/html": [
       "<pre>recommendations finished on 270000/529574 queries. users per second: 7661.3</pre>"
      ],
      "text/plain": [
       "recommendations finished on 270000/529574 queries. users per second: 7661.3"
      ]
     },
     "metadata": {},
     "output_type": "display_data"
    },
    {
     "data": {
      "text/html": [
       "<pre>recommendations finished on 271000/529574 queries. users per second: 7658.95</pre>"
      ],
      "text/plain": [
       "recommendations finished on 271000/529574 queries. users per second: 7658.95"
      ]
     },
     "metadata": {},
     "output_type": "display_data"
    },
    {
     "data": {
      "text/html": [
       "<pre>recommendations finished on 272000/529574 queries. users per second: 7652.56</pre>"
      ],
      "text/plain": [
       "recommendations finished on 272000/529574 queries. users per second: 7652.56"
      ]
     },
     "metadata": {},
     "output_type": "display_data"
    },
    {
     "data": {
      "text/html": [
       "<pre>recommendations finished on 273000/529574 queries. users per second: 7649.95</pre>"
      ],
      "text/plain": [
       "recommendations finished on 273000/529574 queries. users per second: 7649.95"
      ]
     },
     "metadata": {},
     "output_type": "display_data"
    },
    {
     "data": {
      "text/html": [
       "<pre>recommendations finished on 274000/529574 queries. users per second: 7647.16</pre>"
      ],
      "text/plain": [
       "recommendations finished on 274000/529574 queries. users per second: 7647.16"
      ]
     },
     "metadata": {},
     "output_type": "display_data"
    },
    {
     "data": {
      "text/html": [
       "<pre>recommendations finished on 275000/529574 queries. users per second: 7644.36</pre>"
      ],
      "text/plain": [
       "recommendations finished on 275000/529574 queries. users per second: 7644.36"
      ]
     },
     "metadata": {},
     "output_type": "display_data"
    },
    {
     "data": {
      "text/html": [
       "<pre>recommendations finished on 276000/529574 queries. users per second: 7640.44</pre>"
      ],
      "text/plain": [
       "recommendations finished on 276000/529574 queries. users per second: 7640.44"
      ]
     },
     "metadata": {},
     "output_type": "display_data"
    },
    {
     "data": {
      "text/html": [
       "<pre>recommendations finished on 277000/529574 queries. users per second: 7637.46</pre>"
      ],
      "text/plain": [
       "recommendations finished on 277000/529574 queries. users per second: 7637.46"
      ]
     },
     "metadata": {},
     "output_type": "display_data"
    },
    {
     "data": {
      "text/html": [
       "<pre>recommendations finished on 278000/529574 queries. users per second: 7636.35</pre>"
      ],
      "text/plain": [
       "recommendations finished on 278000/529574 queries. users per second: 7636.35"
      ]
     },
     "metadata": {},
     "output_type": "display_data"
    },
    {
     "data": {
      "text/html": [
       "<pre>recommendations finished on 279000/529574 queries. users per second: 7634.92</pre>"
      ],
      "text/plain": [
       "recommendations finished on 279000/529574 queries. users per second: 7634.92"
      ]
     },
     "metadata": {},
     "output_type": "display_data"
    },
    {
     "data": {
      "text/html": [
       "<pre>recommendations finished on 280000/529574 queries. users per second: 7633.21</pre>"
      ],
      "text/plain": [
       "recommendations finished on 280000/529574 queries. users per second: 7633.21"
      ]
     },
     "metadata": {},
     "output_type": "display_data"
    },
    {
     "data": {
      "text/html": [
       "<pre>recommendations finished on 281000/529574 queries. users per second: 7630.15</pre>"
      ],
      "text/plain": [
       "recommendations finished on 281000/529574 queries. users per second: 7630.15"
      ]
     },
     "metadata": {},
     "output_type": "display_data"
    },
    {
     "data": {
      "text/html": [
       "<pre>recommendations finished on 282000/529574 queries. users per second: 7630.44</pre>"
      ],
      "text/plain": [
       "recommendations finished on 282000/529574 queries. users per second: 7630.44"
      ]
     },
     "metadata": {},
     "output_type": "display_data"
    },
    {
     "data": {
      "text/html": [
       "<pre>recommendations finished on 283000/529574 queries. users per second: 7633.76</pre>"
      ],
      "text/plain": [
       "recommendations finished on 283000/529574 queries. users per second: 7633.76"
      ]
     },
     "metadata": {},
     "output_type": "display_data"
    },
    {
     "data": {
      "text/html": [
       "<pre>recommendations finished on 284000/529574 queries. users per second: 7635.36</pre>"
      ],
      "text/plain": [
       "recommendations finished on 284000/529574 queries. users per second: 7635.36"
      ]
     },
     "metadata": {},
     "output_type": "display_data"
    },
    {
     "data": {
      "text/html": [
       "<pre>recommendations finished on 285000/529574 queries. users per second: 7638.15</pre>"
      ],
      "text/plain": [
       "recommendations finished on 285000/529574 queries. users per second: 7638.15"
      ]
     },
     "metadata": {},
     "output_type": "display_data"
    },
    {
     "data": {
      "text/html": [
       "<pre>recommendations finished on 286000/529574 queries. users per second: 7638.28</pre>"
      ],
      "text/plain": [
       "recommendations finished on 286000/529574 queries. users per second: 7638.28"
      ]
     },
     "metadata": {},
     "output_type": "display_data"
    },
    {
     "data": {
      "text/html": [
       "<pre>recommendations finished on 287000/529574 queries. users per second: 7641.58</pre>"
      ],
      "text/plain": [
       "recommendations finished on 287000/529574 queries. users per second: 7641.58"
      ]
     },
     "metadata": {},
     "output_type": "display_data"
    },
    {
     "data": {
      "text/html": [
       "<pre>recommendations finished on 288000/529574 queries. users per second: 7643.75</pre>"
      ],
      "text/plain": [
       "recommendations finished on 288000/529574 queries. users per second: 7643.75"
      ]
     },
     "metadata": {},
     "output_type": "display_data"
    },
    {
     "data": {
      "text/html": [
       "<pre>recommendations finished on 289000/529574 queries. users per second: 7645.43</pre>"
      ],
      "text/plain": [
       "recommendations finished on 289000/529574 queries. users per second: 7645.43"
      ]
     },
     "metadata": {},
     "output_type": "display_data"
    },
    {
     "data": {
      "text/html": [
       "<pre>recommendations finished on 290000/529574 queries. users per second: 7643.34</pre>"
      ],
      "text/plain": [
       "recommendations finished on 290000/529574 queries. users per second: 7643.34"
      ]
     },
     "metadata": {},
     "output_type": "display_data"
    },
    {
     "data": {
      "text/html": [
       "<pre>recommendations finished on 291000/529574 queries. users per second: 7644.23</pre>"
      ],
      "text/plain": [
       "recommendations finished on 291000/529574 queries. users per second: 7644.23"
      ]
     },
     "metadata": {},
     "output_type": "display_data"
    },
    {
     "data": {
      "text/html": [
       "<pre>recommendations finished on 292000/529574 queries. users per second: 7645.4</pre>"
      ],
      "text/plain": [
       "recommendations finished on 292000/529574 queries. users per second: 7645.4"
      ]
     },
     "metadata": {},
     "output_type": "display_data"
    },
    {
     "data": {
      "text/html": [
       "<pre>recommendations finished on 293000/529574 queries. users per second: 7646.83</pre>"
      ],
      "text/plain": [
       "recommendations finished on 293000/529574 queries. users per second: 7646.83"
      ]
     },
     "metadata": {},
     "output_type": "display_data"
    },
    {
     "data": {
      "text/html": [
       "<pre>recommendations finished on 294000/529574 queries. users per second: 7636.83</pre>"
      ],
      "text/plain": [
       "recommendations finished on 294000/529574 queries. users per second: 7636.83"
      ]
     },
     "metadata": {},
     "output_type": "display_data"
    },
    {
     "data": {
      "text/html": [
       "<pre>recommendations finished on 295000/529574 queries. users per second: 7629.56</pre>"
      ],
      "text/plain": [
       "recommendations finished on 295000/529574 queries. users per second: 7629.56"
      ]
     },
     "metadata": {},
     "output_type": "display_data"
    },
    {
     "data": {
      "text/html": [
       "<pre>recommendations finished on 296000/529574 queries. users per second: 7624.96</pre>"
      ],
      "text/plain": [
       "recommendations finished on 296000/529574 queries. users per second: 7624.96"
      ]
     },
     "metadata": {},
     "output_type": "display_data"
    },
    {
     "data": {
      "text/html": [
       "<pre>recommendations finished on 297000/529574 queries. users per second: 7620.88</pre>"
      ],
      "text/plain": [
       "recommendations finished on 297000/529574 queries. users per second: 7620.88"
      ]
     },
     "metadata": {},
     "output_type": "display_data"
    },
    {
     "data": {
      "text/html": [
       "<pre>recommendations finished on 298000/529574 queries. users per second: 7601.57</pre>"
      ],
      "text/plain": [
       "recommendations finished on 298000/529574 queries. users per second: 7601.57"
      ]
     },
     "metadata": {},
     "output_type": "display_data"
    },
    {
     "data": {
      "text/html": [
       "<pre>recommendations finished on 299000/529574 queries. users per second: 7599.08</pre>"
      ],
      "text/plain": [
       "recommendations finished on 299000/529574 queries. users per second: 7599.08"
      ]
     },
     "metadata": {},
     "output_type": "display_data"
    },
    {
     "data": {
      "text/html": [
       "<pre>recommendations finished on 300000/529574 queries. users per second: 7603.15</pre>"
      ],
      "text/plain": [
       "recommendations finished on 300000/529574 queries. users per second: 7603.15"
      ]
     },
     "metadata": {},
     "output_type": "display_data"
    },
    {
     "data": {
      "text/html": [
       "<pre>recommendations finished on 301000/529574 queries. users per second: 7605.48</pre>"
      ],
      "text/plain": [
       "recommendations finished on 301000/529574 queries. users per second: 7605.48"
      ]
     },
     "metadata": {},
     "output_type": "display_data"
    },
    {
     "data": {
      "text/html": [
       "<pre>recommendations finished on 302000/529574 queries. users per second: 7605.17</pre>"
      ],
      "text/plain": [
       "recommendations finished on 302000/529574 queries. users per second: 7605.17"
      ]
     },
     "metadata": {},
     "output_type": "display_data"
    },
    {
     "data": {
      "text/html": [
       "<pre>recommendations finished on 303000/529574 queries. users per second: 7604.18</pre>"
      ],
      "text/plain": [
       "recommendations finished on 303000/529574 queries. users per second: 7604.18"
      ]
     },
     "metadata": {},
     "output_type": "display_data"
    },
    {
     "data": {
      "text/html": [
       "<pre>recommendations finished on 304000/529574 queries. users per second: 7600.09</pre>"
      ],
      "text/plain": [
       "recommendations finished on 304000/529574 queries. users per second: 7600.09"
      ]
     },
     "metadata": {},
     "output_type": "display_data"
    },
    {
     "data": {
      "text/html": [
       "<pre>recommendations finished on 305000/529574 queries. users per second: 7600.67</pre>"
      ],
      "text/plain": [
       "recommendations finished on 305000/529574 queries. users per second: 7600.67"
      ]
     },
     "metadata": {},
     "output_type": "display_data"
    },
    {
     "data": {
      "text/html": [
       "<pre>recommendations finished on 306000/529574 queries. users per second: 7603.19</pre>"
      ],
      "text/plain": [
       "recommendations finished on 306000/529574 queries. users per second: 7603.19"
      ]
     },
     "metadata": {},
     "output_type": "display_data"
    },
    {
     "data": {
      "text/html": [
       "<pre>recommendations finished on 307000/529574 queries. users per second: 7606.48</pre>"
      ],
      "text/plain": [
       "recommendations finished on 307000/529574 queries. users per second: 7606.48"
      ]
     },
     "metadata": {},
     "output_type": "display_data"
    },
    {
     "data": {
      "text/html": [
       "<pre>recommendations finished on 308000/529574 queries. users per second: 7610.83</pre>"
      ],
      "text/plain": [
       "recommendations finished on 308000/529574 queries. users per second: 7610.83"
      ]
     },
     "metadata": {},
     "output_type": "display_data"
    },
    {
     "data": {
      "text/html": [
       "<pre>recommendations finished on 309000/529574 queries. users per second: 7614.15</pre>"
      ],
      "text/plain": [
       "recommendations finished on 309000/529574 queries. users per second: 7614.15"
      ]
     },
     "metadata": {},
     "output_type": "display_data"
    },
    {
     "data": {
      "text/html": [
       "<pre>recommendations finished on 310000/529574 queries. users per second: 7618.52</pre>"
      ],
      "text/plain": [
       "recommendations finished on 310000/529574 queries. users per second: 7618.52"
      ]
     },
     "metadata": {},
     "output_type": "display_data"
    },
    {
     "data": {
      "text/html": [
       "<pre>recommendations finished on 311000/529574 queries. users per second: 7621.21</pre>"
      ],
      "text/plain": [
       "recommendations finished on 311000/529574 queries. users per second: 7621.21"
      ]
     },
     "metadata": {},
     "output_type": "display_data"
    },
    {
     "data": {
      "text/html": [
       "<pre>recommendations finished on 312000/529574 queries. users per second: 7623.99</pre>"
      ],
      "text/plain": [
       "recommendations finished on 312000/529574 queries. users per second: 7623.99"
      ]
     },
     "metadata": {},
     "output_type": "display_data"
    },
    {
     "data": {
      "text/html": [
       "<pre>recommendations finished on 313000/529574 queries. users per second: 7627.49</pre>"
      ],
      "text/plain": [
       "recommendations finished on 313000/529574 queries. users per second: 7627.49"
      ]
     },
     "metadata": {},
     "output_type": "display_data"
    },
    {
     "data": {
      "text/html": [
       "<pre>recommendations finished on 314000/529574 queries. users per second: 7632.47</pre>"
      ],
      "text/plain": [
       "recommendations finished on 314000/529574 queries. users per second: 7632.47"
      ]
     },
     "metadata": {},
     "output_type": "display_data"
    },
    {
     "data": {
      "text/html": [
       "<pre>recommendations finished on 315000/529574 queries. users per second: 7636.32</pre>"
      ],
      "text/plain": [
       "recommendations finished on 315000/529574 queries. users per second: 7636.32"
      ]
     },
     "metadata": {},
     "output_type": "display_data"
    },
    {
     "data": {
      "text/html": [
       "<pre>recommendations finished on 316000/529574 queries. users per second: 7639.13</pre>"
      ],
      "text/plain": [
       "recommendations finished on 316000/529574 queries. users per second: 7639.13"
      ]
     },
     "metadata": {},
     "output_type": "display_data"
    },
    {
     "data": {
      "text/html": [
       "<pre>recommendations finished on 317000/529574 queries. users per second: 7641.14</pre>"
      ],
      "text/plain": [
       "recommendations finished on 317000/529574 queries. users per second: 7641.14"
      ]
     },
     "metadata": {},
     "output_type": "display_data"
    },
    {
     "data": {
      "text/html": [
       "<pre>recommendations finished on 318000/529574 queries. users per second: 7644.6</pre>"
      ],
      "text/plain": [
       "recommendations finished on 318000/529574 queries. users per second: 7644.6"
      ]
     },
     "metadata": {},
     "output_type": "display_data"
    },
    {
     "data": {
      "text/html": [
       "<pre>recommendations finished on 319000/529574 queries. users per second: 7645.66</pre>"
      ],
      "text/plain": [
       "recommendations finished on 319000/529574 queries. users per second: 7645.66"
      ]
     },
     "metadata": {},
     "output_type": "display_data"
    },
    {
     "data": {
      "text/html": [
       "<pre>recommendations finished on 320000/529574 queries. users per second: 7649.72</pre>"
      ],
      "text/plain": [
       "recommendations finished on 320000/529574 queries. users per second: 7649.72"
      ]
     },
     "metadata": {},
     "output_type": "display_data"
    },
    {
     "data": {
      "text/html": [
       "<pre>recommendations finished on 321000/529574 queries. users per second: 7651.73</pre>"
      ],
      "text/plain": [
       "recommendations finished on 321000/529574 queries. users per second: 7651.73"
      ]
     },
     "metadata": {},
     "output_type": "display_data"
    },
    {
     "data": {
      "text/html": [
       "<pre>recommendations finished on 322000/529574 queries. users per second: 7652.98</pre>"
      ],
      "text/plain": [
       "recommendations finished on 322000/529574 queries. users per second: 7652.98"
      ]
     },
     "metadata": {},
     "output_type": "display_data"
    },
    {
     "data": {
      "text/html": [
       "<pre>recommendations finished on 323000/529574 queries. users per second: 7648.19</pre>"
      ],
      "text/plain": [
       "recommendations finished on 323000/529574 queries. users per second: 7648.19"
      ]
     },
     "metadata": {},
     "output_type": "display_data"
    },
    {
     "data": {
      "text/html": [
       "<pre>recommendations finished on 324000/529574 queries. users per second: 7647.94</pre>"
      ],
      "text/plain": [
       "recommendations finished on 324000/529574 queries. users per second: 7647.94"
      ]
     },
     "metadata": {},
     "output_type": "display_data"
    },
    {
     "data": {
      "text/html": [
       "<pre>recommendations finished on 325000/529574 queries. users per second: 7647.36</pre>"
      ],
      "text/plain": [
       "recommendations finished on 325000/529574 queries. users per second: 7647.36"
      ]
     },
     "metadata": {},
     "output_type": "display_data"
    },
    {
     "data": {
      "text/html": [
       "<pre>recommendations finished on 326000/529574 queries. users per second: 7650.23</pre>"
      ],
      "text/plain": [
       "recommendations finished on 326000/529574 queries. users per second: 7650.23"
      ]
     },
     "metadata": {},
     "output_type": "display_data"
    },
    {
     "data": {
      "text/html": [
       "<pre>recommendations finished on 327000/529574 queries. users per second: 7645.54</pre>"
      ],
      "text/plain": [
       "recommendations finished on 327000/529574 queries. users per second: 7645.54"
      ]
     },
     "metadata": {},
     "output_type": "display_data"
    },
    {
     "data": {
      "text/html": [
       "<pre>recommendations finished on 328000/529574 queries. users per second: 7633.8</pre>"
      ],
      "text/plain": [
       "recommendations finished on 328000/529574 queries. users per second: 7633.8"
      ]
     },
     "metadata": {},
     "output_type": "display_data"
    },
    {
     "data": {
      "text/html": [
       "<pre>recommendations finished on 329000/529574 queries. users per second: 7625.18</pre>"
      ],
      "text/plain": [
       "recommendations finished on 329000/529574 queries. users per second: 7625.18"
      ]
     },
     "metadata": {},
     "output_type": "display_data"
    },
    {
     "data": {
      "text/html": [
       "<pre>recommendations finished on 330000/529574 queries. users per second: 7614.86</pre>"
      ],
      "text/plain": [
       "recommendations finished on 330000/529574 queries. users per second: 7614.86"
      ]
     },
     "metadata": {},
     "output_type": "display_data"
    },
    {
     "data": {
      "text/html": [
       "<pre>recommendations finished on 331000/529574 queries. users per second: 7607.54</pre>"
      ],
      "text/plain": [
       "recommendations finished on 331000/529574 queries. users per second: 7607.54"
      ]
     },
     "metadata": {},
     "output_type": "display_data"
    },
    {
     "data": {
      "text/html": [
       "<pre>recommendations finished on 332000/529574 queries. users per second: 7601.91</pre>"
      ],
      "text/plain": [
       "recommendations finished on 332000/529574 queries. users per second: 7601.91"
      ]
     },
     "metadata": {},
     "output_type": "display_data"
    },
    {
     "data": {
      "text/html": [
       "<pre>recommendations finished on 333000/529574 queries. users per second: 7602.01</pre>"
      ],
      "text/plain": [
       "recommendations finished on 333000/529574 queries. users per second: 7602.01"
      ]
     },
     "metadata": {},
     "output_type": "display_data"
    },
    {
     "data": {
      "text/html": [
       "<pre>recommendations finished on 334000/529574 queries. users per second: 7602.53</pre>"
      ],
      "text/plain": [
       "recommendations finished on 334000/529574 queries. users per second: 7602.53"
      ]
     },
     "metadata": {},
     "output_type": "display_data"
    },
    {
     "data": {
      "text/html": [
       "<pre>recommendations finished on 335000/529574 queries. users per second: 7598.21</pre>"
      ],
      "text/plain": [
       "recommendations finished on 335000/529574 queries. users per second: 7598.21"
      ]
     },
     "metadata": {},
     "output_type": "display_data"
    },
    {
     "data": {
      "text/html": [
       "<pre>recommendations finished on 336000/529574 queries. users per second: 7597.7</pre>"
      ],
      "text/plain": [
       "recommendations finished on 336000/529574 queries. users per second: 7597.7"
      ]
     },
     "metadata": {},
     "output_type": "display_data"
    },
    {
     "data": {
      "text/html": [
       "<pre>recommendations finished on 337000/529574 queries. users per second: 7599.88</pre>"
      ],
      "text/plain": [
       "recommendations finished on 337000/529574 queries. users per second: 7599.88"
      ]
     },
     "metadata": {},
     "output_type": "display_data"
    },
    {
     "data": {
      "text/html": [
       "<pre>recommendations finished on 338000/529574 queries. users per second: 7599.27</pre>"
      ],
      "text/plain": [
       "recommendations finished on 338000/529574 queries. users per second: 7599.27"
      ]
     },
     "metadata": {},
     "output_type": "display_data"
    },
    {
     "data": {
      "text/html": [
       "<pre>recommendations finished on 339000/529574 queries. users per second: 7601.69</pre>"
      ],
      "text/plain": [
       "recommendations finished on 339000/529574 queries. users per second: 7601.69"
      ]
     },
     "metadata": {},
     "output_type": "display_data"
    },
    {
     "data": {
      "text/html": [
       "<pre>recommendations finished on 340000/529574 queries. users per second: 7603.57</pre>"
      ],
      "text/plain": [
       "recommendations finished on 340000/529574 queries. users per second: 7603.57"
      ]
     },
     "metadata": {},
     "output_type": "display_data"
    },
    {
     "data": {
      "text/html": [
       "<pre>recommendations finished on 341000/529574 queries. users per second: 7603.25</pre>"
      ],
      "text/plain": [
       "recommendations finished on 341000/529574 queries. users per second: 7603.25"
      ]
     },
     "metadata": {},
     "output_type": "display_data"
    },
    {
     "data": {
      "text/html": [
       "<pre>recommendations finished on 342000/529574 queries. users per second: 7598.72</pre>"
      ],
      "text/plain": [
       "recommendations finished on 342000/529574 queries. users per second: 7598.72"
      ]
     },
     "metadata": {},
     "output_type": "display_data"
    },
    {
     "data": {
      "text/html": [
       "<pre>recommendations finished on 343000/529574 queries. users per second: 7597.22</pre>"
      ],
      "text/plain": [
       "recommendations finished on 343000/529574 queries. users per second: 7597.22"
      ]
     },
     "metadata": {},
     "output_type": "display_data"
    },
    {
     "data": {
      "text/html": [
       "<pre>recommendations finished on 344000/529574 queries. users per second: 7595.58</pre>"
      ],
      "text/plain": [
       "recommendations finished on 344000/529574 queries. users per second: 7595.58"
      ]
     },
     "metadata": {},
     "output_type": "display_data"
    },
    {
     "data": {
      "text/html": [
       "<pre>recommendations finished on 345000/529574 queries. users per second: 7566.77</pre>"
      ],
      "text/plain": [
       "recommendations finished on 345000/529574 queries. users per second: 7566.77"
      ]
     },
     "metadata": {},
     "output_type": "display_data"
    },
    {
     "data": {
      "text/html": [
       "<pre>recommendations finished on 346000/529574 queries. users per second: 7562.26</pre>"
      ],
      "text/plain": [
       "recommendations finished on 346000/529574 queries. users per second: 7562.26"
      ]
     },
     "metadata": {},
     "output_type": "display_data"
    },
    {
     "data": {
      "text/html": [
       "<pre>recommendations finished on 347000/529574 queries. users per second: 7556.6</pre>"
      ],
      "text/plain": [
       "recommendations finished on 347000/529574 queries. users per second: 7556.6"
      ]
     },
     "metadata": {},
     "output_type": "display_data"
    },
    {
     "data": {
      "text/html": [
       "<pre>recommendations finished on 348000/529574 queries. users per second: 7553.38</pre>"
      ],
      "text/plain": [
       "recommendations finished on 348000/529574 queries. users per second: 7553.38"
      ]
     },
     "metadata": {},
     "output_type": "display_data"
    },
    {
     "data": {
      "text/html": [
       "<pre>recommendations finished on 349000/529574 queries. users per second: 7551.46</pre>"
      ],
      "text/plain": [
       "recommendations finished on 349000/529574 queries. users per second: 7551.46"
      ]
     },
     "metadata": {},
     "output_type": "display_data"
    },
    {
     "data": {
      "text/html": [
       "<pre>recommendations finished on 350000/529574 queries. users per second: 7550.06</pre>"
      ],
      "text/plain": [
       "recommendations finished on 350000/529574 queries. users per second: 7550.06"
      ]
     },
     "metadata": {},
     "output_type": "display_data"
    },
    {
     "data": {
      "text/html": [
       "<pre>recommendations finished on 351000/529574 queries. users per second: 7547.73</pre>"
      ],
      "text/plain": [
       "recommendations finished on 351000/529574 queries. users per second: 7547.73"
      ]
     },
     "metadata": {},
     "output_type": "display_data"
    },
    {
     "data": {
      "text/html": [
       "<pre>recommendations finished on 352000/529574 queries. users per second: 7544.86</pre>"
      ],
      "text/plain": [
       "recommendations finished on 352000/529574 queries. users per second: 7544.86"
      ]
     },
     "metadata": {},
     "output_type": "display_data"
    },
    {
     "data": {
      "text/html": [
       "<pre>recommendations finished on 353000/529574 queries. users per second: 7538.26</pre>"
      ],
      "text/plain": [
       "recommendations finished on 353000/529574 queries. users per second: 7538.26"
      ]
     },
     "metadata": {},
     "output_type": "display_data"
    },
    {
     "data": {
      "text/html": [
       "<pre>recommendations finished on 354000/529574 queries. users per second: 7533.47</pre>"
      ],
      "text/plain": [
       "recommendations finished on 354000/529574 queries. users per second: 7533.47"
      ]
     },
     "metadata": {},
     "output_type": "display_data"
    },
    {
     "data": {
      "text/html": [
       "<pre>recommendations finished on 355000/529574 queries. users per second: 7517.31</pre>"
      ],
      "text/plain": [
       "recommendations finished on 355000/529574 queries. users per second: 7517.31"
      ]
     },
     "metadata": {},
     "output_type": "display_data"
    },
    {
     "data": {
      "text/html": [
       "<pre>recommendations finished on 356000/529574 queries. users per second: 7518.9</pre>"
      ],
      "text/plain": [
       "recommendations finished on 356000/529574 queries. users per second: 7518.9"
      ]
     },
     "metadata": {},
     "output_type": "display_data"
    },
    {
     "data": {
      "text/html": [
       "<pre>recommendations finished on 357000/529574 queries. users per second: 7520.63</pre>"
      ],
      "text/plain": [
       "recommendations finished on 357000/529574 queries. users per second: 7520.63"
      ]
     },
     "metadata": {},
     "output_type": "display_data"
    },
    {
     "data": {
      "text/html": [
       "<pre>recommendations finished on 358000/529574 queries. users per second: 7518.03</pre>"
      ],
      "text/plain": [
       "recommendations finished on 358000/529574 queries. users per second: 7518.03"
      ]
     },
     "metadata": {},
     "output_type": "display_data"
    },
    {
     "data": {
      "text/html": [
       "<pre>recommendations finished on 359000/529574 queries. users per second: 7507.7</pre>"
      ],
      "text/plain": [
       "recommendations finished on 359000/529574 queries. users per second: 7507.7"
      ]
     },
     "metadata": {},
     "output_type": "display_data"
    },
    {
     "data": {
      "text/html": [
       "<pre>recommendations finished on 360000/529574 queries. users per second: 7495</pre>"
      ],
      "text/plain": [
       "recommendations finished on 360000/529574 queries. users per second: 7495"
      ]
     },
     "metadata": {},
     "output_type": "display_data"
    },
    {
     "data": {
      "text/html": [
       "<pre>recommendations finished on 361000/529574 queries. users per second: 7483.92</pre>"
      ],
      "text/plain": [
       "recommendations finished on 361000/529574 queries. users per second: 7483.92"
      ]
     },
     "metadata": {},
     "output_type": "display_data"
    },
    {
     "data": {
      "text/html": [
       "<pre>recommendations finished on 362000/529574 queries. users per second: 7478.88</pre>"
      ],
      "text/plain": [
       "recommendations finished on 362000/529574 queries. users per second: 7478.88"
      ]
     },
     "metadata": {},
     "output_type": "display_data"
    },
    {
     "data": {
      "text/html": [
       "<pre>recommendations finished on 363000/529574 queries. users per second: 7477.8</pre>"
      ],
      "text/plain": [
       "recommendations finished on 363000/529574 queries. users per second: 7477.8"
      ]
     },
     "metadata": {},
     "output_type": "display_data"
    },
    {
     "data": {
      "text/html": [
       "<pre>recommendations finished on 364000/529574 queries. users per second: 7478.36</pre>"
      ],
      "text/plain": [
       "recommendations finished on 364000/529574 queries. users per second: 7478.36"
      ]
     },
     "metadata": {},
     "output_type": "display_data"
    },
    {
     "data": {
      "text/html": [
       "<pre>recommendations finished on 365000/529574 queries. users per second: 7475.98</pre>"
      ],
      "text/plain": [
       "recommendations finished on 365000/529574 queries. users per second: 7475.98"
      ]
     },
     "metadata": {},
     "output_type": "display_data"
    },
    {
     "data": {
      "text/html": [
       "<pre>recommendations finished on 366000/529574 queries. users per second: 7473.94</pre>"
      ],
      "text/plain": [
       "recommendations finished on 366000/529574 queries. users per second: 7473.94"
      ]
     },
     "metadata": {},
     "output_type": "display_data"
    },
    {
     "data": {
      "text/html": [
       "<pre>recommendations finished on 367000/529574 queries. users per second: 7475.39</pre>"
      ],
      "text/plain": [
       "recommendations finished on 367000/529574 queries. users per second: 7475.39"
      ]
     },
     "metadata": {},
     "output_type": "display_data"
    },
    {
     "data": {
      "text/html": [
       "<pre>recommendations finished on 368000/529574 queries. users per second: 7475.89</pre>"
      ],
      "text/plain": [
       "recommendations finished on 368000/529574 queries. users per second: 7475.89"
      ]
     },
     "metadata": {},
     "output_type": "display_data"
    },
    {
     "data": {
      "text/html": [
       "<pre>recommendations finished on 369000/529574 queries. users per second: 7476.23</pre>"
      ],
      "text/plain": [
       "recommendations finished on 369000/529574 queries. users per second: 7476.23"
      ]
     },
     "metadata": {},
     "output_type": "display_data"
    },
    {
     "data": {
      "text/html": [
       "<pre>recommendations finished on 370000/529574 queries. users per second: 7473.45</pre>"
      ],
      "text/plain": [
       "recommendations finished on 370000/529574 queries. users per second: 7473.45"
      ]
     },
     "metadata": {},
     "output_type": "display_data"
    },
    {
     "data": {
      "text/html": [
       "<pre>recommendations finished on 371000/529574 queries. users per second: 7468.71</pre>"
      ],
      "text/plain": [
       "recommendations finished on 371000/529574 queries. users per second: 7468.71"
      ]
     },
     "metadata": {},
     "output_type": "display_data"
    },
    {
     "data": {
      "text/html": [
       "<pre>recommendations finished on 372000/529574 queries. users per second: 7471.71</pre>"
      ],
      "text/plain": [
       "recommendations finished on 372000/529574 queries. users per second: 7471.71"
      ]
     },
     "metadata": {},
     "output_type": "display_data"
    },
    {
     "data": {
      "text/html": [
       "<pre>recommendations finished on 373000/529574 queries. users per second: 7475.09</pre>"
      ],
      "text/plain": [
       "recommendations finished on 373000/529574 queries. users per second: 7475.09"
      ]
     },
     "metadata": {},
     "output_type": "display_data"
    },
    {
     "data": {
      "text/html": [
       "<pre>recommendations finished on 374000/529574 queries. users per second: 7478.05</pre>"
      ],
      "text/plain": [
       "recommendations finished on 374000/529574 queries. users per second: 7478.05"
      ]
     },
     "metadata": {},
     "output_type": "display_data"
    },
    {
     "data": {
      "text/html": [
       "<pre>recommendations finished on 375000/529574 queries. users per second: 7481.3</pre>"
      ],
      "text/plain": [
       "recommendations finished on 375000/529574 queries. users per second: 7481.3"
      ]
     },
     "metadata": {},
     "output_type": "display_data"
    },
    {
     "data": {
      "text/html": [
       "<pre>recommendations finished on 376000/529574 queries. users per second: 7484.93</pre>"
      ],
      "text/plain": [
       "recommendations finished on 376000/529574 queries. users per second: 7484.93"
      ]
     },
     "metadata": {},
     "output_type": "display_data"
    },
    {
     "data": {
      "text/html": [
       "<pre>recommendations finished on 377000/529574 queries. users per second: 7487.35</pre>"
      ],
      "text/plain": [
       "recommendations finished on 377000/529574 queries. users per second: 7487.35"
      ]
     },
     "metadata": {},
     "output_type": "display_data"
    },
    {
     "data": {
      "text/html": [
       "<pre>recommendations finished on 378000/529574 queries. users per second: 7490.14</pre>"
      ],
      "text/plain": [
       "recommendations finished on 378000/529574 queries. users per second: 7490.14"
      ]
     },
     "metadata": {},
     "output_type": "display_data"
    },
    {
     "data": {
      "text/html": [
       "<pre>recommendations finished on 379000/529574 queries. users per second: 7492.6</pre>"
      ],
      "text/plain": [
       "recommendations finished on 379000/529574 queries. users per second: 7492.6"
      ]
     },
     "metadata": {},
     "output_type": "display_data"
    },
    {
     "data": {
      "text/html": [
       "<pre>recommendations finished on 380000/529574 queries. users per second: 7494.61</pre>"
      ],
      "text/plain": [
       "recommendations finished on 380000/529574 queries. users per second: 7494.61"
      ]
     },
     "metadata": {},
     "output_type": "display_data"
    },
    {
     "data": {
      "text/html": [
       "<pre>recommendations finished on 381000/529574 queries. users per second: 7494.11</pre>"
      ],
      "text/plain": [
       "recommendations finished on 381000/529574 queries. users per second: 7494.11"
      ]
     },
     "metadata": {},
     "output_type": "display_data"
    },
    {
     "data": {
      "text/html": [
       "<pre>recommendations finished on 382000/529574 queries. users per second: 7496.73</pre>"
      ],
      "text/plain": [
       "recommendations finished on 382000/529574 queries. users per second: 7496.73"
      ]
     },
     "metadata": {},
     "output_type": "display_data"
    },
    {
     "data": {
      "text/html": [
       "<pre>recommendations finished on 383000/529574 queries. users per second: 7499.63</pre>"
      ],
      "text/plain": [
       "recommendations finished on 383000/529574 queries. users per second: 7499.63"
      ]
     },
     "metadata": {},
     "output_type": "display_data"
    },
    {
     "data": {
      "text/html": [
       "<pre>recommendations finished on 384000/529574 queries. users per second: 7503.22</pre>"
      ],
      "text/plain": [
       "recommendations finished on 384000/529574 queries. users per second: 7503.22"
      ]
     },
     "metadata": {},
     "output_type": "display_data"
    },
    {
     "data": {
      "text/html": [
       "<pre>recommendations finished on 385000/529574 queries. users per second: 7505.06</pre>"
      ],
      "text/plain": [
       "recommendations finished on 385000/529574 queries. users per second: 7505.06"
      ]
     },
     "metadata": {},
     "output_type": "display_data"
    },
    {
     "data": {
      "text/html": [
       "<pre>recommendations finished on 386000/529574 queries. users per second: 7502.57</pre>"
      ],
      "text/plain": [
       "recommendations finished on 386000/529574 queries. users per second: 7502.57"
      ]
     },
     "metadata": {},
     "output_type": "display_data"
    },
    {
     "data": {
      "text/html": [
       "<pre>recommendations finished on 387000/529574 queries. users per second: 7495.88</pre>"
      ],
      "text/plain": [
       "recommendations finished on 387000/529574 queries. users per second: 7495.88"
      ]
     },
     "metadata": {},
     "output_type": "display_data"
    },
    {
     "data": {
      "text/html": [
       "<pre>recommendations finished on 388000/529574 queries. users per second: 7482.64</pre>"
      ],
      "text/plain": [
       "recommendations finished on 388000/529574 queries. users per second: 7482.64"
      ]
     },
     "metadata": {},
     "output_type": "display_data"
    },
    {
     "data": {
      "text/html": [
       "<pre>recommendations finished on 389000/529574 queries. users per second: 7464.39</pre>"
      ],
      "text/plain": [
       "recommendations finished on 389000/529574 queries. users per second: 7464.39"
      ]
     },
     "metadata": {},
     "output_type": "display_data"
    },
    {
     "data": {
      "text/html": [
       "<pre>recommendations finished on 390000/529574 queries. users per second: 7445.96</pre>"
      ],
      "text/plain": [
       "recommendations finished on 390000/529574 queries. users per second: 7445.96"
      ]
     },
     "metadata": {},
     "output_type": "display_data"
    },
    {
     "data": {
      "text/html": [
       "<pre>recommendations finished on 391000/529574 queries. users per second: 7439.89</pre>"
      ],
      "text/plain": [
       "recommendations finished on 391000/529574 queries. users per second: 7439.89"
      ]
     },
     "metadata": {},
     "output_type": "display_data"
    },
    {
     "data": {
      "text/html": [
       "<pre>recommendations finished on 392000/529574 queries. users per second: 7435.07</pre>"
      ],
      "text/plain": [
       "recommendations finished on 392000/529574 queries. users per second: 7435.07"
      ]
     },
     "metadata": {},
     "output_type": "display_data"
    },
    {
     "data": {
      "text/html": [
       "<pre>recommendations finished on 393000/529574 queries. users per second: 7419.37</pre>"
      ],
      "text/plain": [
       "recommendations finished on 393000/529574 queries. users per second: 7419.37"
      ]
     },
     "metadata": {},
     "output_type": "display_data"
    },
    {
     "data": {
      "text/html": [
       "<pre>recommendations finished on 394000/529574 queries. users per second: 7398.38</pre>"
      ],
      "text/plain": [
       "recommendations finished on 394000/529574 queries. users per second: 7398.38"
      ]
     },
     "metadata": {},
     "output_type": "display_data"
    },
    {
     "data": {
      "text/html": [
       "<pre>recommendations finished on 395000/529574 queries. users per second: 7380.32</pre>"
      ],
      "text/plain": [
       "recommendations finished on 395000/529574 queries. users per second: 7380.32"
      ]
     },
     "metadata": {},
     "output_type": "display_data"
    },
    {
     "data": {
      "text/html": [
       "<pre>recommendations finished on 396000/529574 queries. users per second: 7380.26</pre>"
      ],
      "text/plain": [
       "recommendations finished on 396000/529574 queries. users per second: 7380.26"
      ]
     },
     "metadata": {},
     "output_type": "display_data"
    },
    {
     "data": {
      "text/html": [
       "<pre>recommendations finished on 397000/529574 queries. users per second: 7382.84</pre>"
      ],
      "text/plain": [
       "recommendations finished on 397000/529574 queries. users per second: 7382.84"
      ]
     },
     "metadata": {},
     "output_type": "display_data"
    },
    {
     "data": {
      "text/html": [
       "<pre>recommendations finished on 398000/529574 queries. users per second: 7379.96</pre>"
      ],
      "text/plain": [
       "recommendations finished on 398000/529574 queries. users per second: 7379.96"
      ]
     },
     "metadata": {},
     "output_type": "display_data"
    },
    {
     "data": {
      "text/html": [
       "<pre>recommendations finished on 399000/529574 queries. users per second: 7381.32</pre>"
      ],
      "text/plain": [
       "recommendations finished on 399000/529574 queries. users per second: 7381.32"
      ]
     },
     "metadata": {},
     "output_type": "display_data"
    },
    {
     "data": {
      "text/html": [
       "<pre>recommendations finished on 400000/529574 queries. users per second: 7382.65</pre>"
      ],
      "text/plain": [
       "recommendations finished on 400000/529574 queries. users per second: 7382.65"
      ]
     },
     "metadata": {},
     "output_type": "display_data"
    },
    {
     "data": {
      "text/html": [
       "<pre>recommendations finished on 401000/529574 queries. users per second: 7382.34</pre>"
      ],
      "text/plain": [
       "recommendations finished on 401000/529574 queries. users per second: 7382.34"
      ]
     },
     "metadata": {},
     "output_type": "display_data"
    },
    {
     "data": {
      "text/html": [
       "<pre>recommendations finished on 402000/529574 queries. users per second: 7381.96</pre>"
      ],
      "text/plain": [
       "recommendations finished on 402000/529574 queries. users per second: 7381.96"
      ]
     },
     "metadata": {},
     "output_type": "display_data"
    },
    {
     "data": {
      "text/html": [
       "<pre>recommendations finished on 403000/529574 queries. users per second: 7382.44</pre>"
      ],
      "text/plain": [
       "recommendations finished on 403000/529574 queries. users per second: 7382.44"
      ]
     },
     "metadata": {},
     "output_type": "display_data"
    },
    {
     "data": {
      "text/html": [
       "<pre>recommendations finished on 404000/529574 queries. users per second: 7382.55</pre>"
      ],
      "text/plain": [
       "recommendations finished on 404000/529574 queries. users per second: 7382.55"
      ]
     },
     "metadata": {},
     "output_type": "display_data"
    },
    {
     "data": {
      "text/html": [
       "<pre>recommendations finished on 405000/529574 queries. users per second: 7380.72</pre>"
      ],
      "text/plain": [
       "recommendations finished on 405000/529574 queries. users per second: 7380.72"
      ]
     },
     "metadata": {},
     "output_type": "display_data"
    },
    {
     "data": {
      "text/html": [
       "<pre>recommendations finished on 406000/529574 queries. users per second: 7376.28</pre>"
      ],
      "text/plain": [
       "recommendations finished on 406000/529574 queries. users per second: 7376.28"
      ]
     },
     "metadata": {},
     "output_type": "display_data"
    },
    {
     "data": {
      "text/html": [
       "<pre>recommendations finished on 407000/529574 queries. users per second: 7370.5</pre>"
      ],
      "text/plain": [
       "recommendations finished on 407000/529574 queries. users per second: 7370.5"
      ]
     },
     "metadata": {},
     "output_type": "display_data"
    },
    {
     "data": {
      "text/html": [
       "<pre>recommendations finished on 408000/529574 queries. users per second: 7368.67</pre>"
      ],
      "text/plain": [
       "recommendations finished on 408000/529574 queries. users per second: 7368.67"
      ]
     },
     "metadata": {},
     "output_type": "display_data"
    },
    {
     "data": {
      "text/html": [
       "<pre>recommendations finished on 409000/529574 queries. users per second: 7369.51</pre>"
      ],
      "text/plain": [
       "recommendations finished on 409000/529574 queries. users per second: 7369.51"
      ]
     },
     "metadata": {},
     "output_type": "display_data"
    },
    {
     "data": {
      "text/html": [
       "<pre>recommendations finished on 410000/529574 queries. users per second: 7370.89</pre>"
      ],
      "text/plain": [
       "recommendations finished on 410000/529574 queries. users per second: 7370.89"
      ]
     },
     "metadata": {},
     "output_type": "display_data"
    },
    {
     "data": {
      "text/html": [
       "<pre>recommendations finished on 411000/529574 queries. users per second: 7370.8</pre>"
      ],
      "text/plain": [
       "recommendations finished on 411000/529574 queries. users per second: 7370.8"
      ]
     },
     "metadata": {},
     "output_type": "display_data"
    },
    {
     "data": {
      "text/html": [
       "<pre>recommendations finished on 412000/529574 queries. users per second: 7368.57</pre>"
      ],
      "text/plain": [
       "recommendations finished on 412000/529574 queries. users per second: 7368.57"
      ]
     },
     "metadata": {},
     "output_type": "display_data"
    },
    {
     "data": {
      "text/html": [
       "<pre>recommendations finished on 413000/529574 queries. users per second: 7367.31</pre>"
      ],
      "text/plain": [
       "recommendations finished on 413000/529574 queries. users per second: 7367.31"
      ]
     },
     "metadata": {},
     "output_type": "display_data"
    },
    {
     "data": {
      "text/html": [
       "<pre>recommendations finished on 414000/529574 queries. users per second: 7366.16</pre>"
      ],
      "text/plain": [
       "recommendations finished on 414000/529574 queries. users per second: 7366.16"
      ]
     },
     "metadata": {},
     "output_type": "display_data"
    },
    {
     "data": {
      "text/html": [
       "<pre>recommendations finished on 415000/529574 queries. users per second: 7361.37</pre>"
      ],
      "text/plain": [
       "recommendations finished on 415000/529574 queries. users per second: 7361.37"
      ]
     },
     "metadata": {},
     "output_type": "display_data"
    },
    {
     "data": {
      "text/html": [
       "<pre>recommendations finished on 416000/529574 queries. users per second: 7362.79</pre>"
      ],
      "text/plain": [
       "recommendations finished on 416000/529574 queries. users per second: 7362.79"
      ]
     },
     "metadata": {},
     "output_type": "display_data"
    },
    {
     "data": {
      "text/html": [
       "<pre>recommendations finished on 417000/529574 queries. users per second: 7360.92</pre>"
      ],
      "text/plain": [
       "recommendations finished on 417000/529574 queries. users per second: 7360.92"
      ]
     },
     "metadata": {},
     "output_type": "display_data"
    },
    {
     "data": {
      "text/html": [
       "<pre>recommendations finished on 418000/529574 queries. users per second: 7357.66</pre>"
      ],
      "text/plain": [
       "recommendations finished on 418000/529574 queries. users per second: 7357.66"
      ]
     },
     "metadata": {},
     "output_type": "display_data"
    },
    {
     "data": {
      "text/html": [
       "<pre>recommendations finished on 419000/529574 queries. users per second: 7359.81</pre>"
      ],
      "text/plain": [
       "recommendations finished on 419000/529574 queries. users per second: 7359.81"
      ]
     },
     "metadata": {},
     "output_type": "display_data"
    },
    {
     "data": {
      "text/html": [
       "<pre>recommendations finished on 420000/529574 queries. users per second: 7358.68</pre>"
      ],
      "text/plain": [
       "recommendations finished on 420000/529574 queries. users per second: 7358.68"
      ]
     },
     "metadata": {},
     "output_type": "display_data"
    },
    {
     "data": {
      "text/html": [
       "<pre>recommendations finished on 421000/529574 queries. users per second: 7360.02</pre>"
      ],
      "text/plain": [
       "recommendations finished on 421000/529574 queries. users per second: 7360.02"
      ]
     },
     "metadata": {},
     "output_type": "display_data"
    },
    {
     "data": {
      "text/html": [
       "<pre>recommendations finished on 422000/529574 queries. users per second: 7362.38</pre>"
      ],
      "text/plain": [
       "recommendations finished on 422000/529574 queries. users per second: 7362.38"
      ]
     },
     "metadata": {},
     "output_type": "display_data"
    },
    {
     "data": {
      "text/html": [
       "<pre>recommendations finished on 423000/529574 queries. users per second: 7362.03</pre>"
      ],
      "text/plain": [
       "recommendations finished on 423000/529574 queries. users per second: 7362.03"
      ]
     },
     "metadata": {},
     "output_type": "display_data"
    },
    {
     "data": {
      "text/html": [
       "<pre>recommendations finished on 424000/529574 queries. users per second: 7359.11</pre>"
      ],
      "text/plain": [
       "recommendations finished on 424000/529574 queries. users per second: 7359.11"
      ]
     },
     "metadata": {},
     "output_type": "display_data"
    },
    {
     "data": {
      "text/html": [
       "<pre>recommendations finished on 425000/529574 queries. users per second: 7350.87</pre>"
      ],
      "text/plain": [
       "recommendations finished on 425000/529574 queries. users per second: 7350.87"
      ]
     },
     "metadata": {},
     "output_type": "display_data"
    },
    {
     "data": {
      "text/html": [
       "<pre>recommendations finished on 426000/529574 queries. users per second: 7349.54</pre>"
      ],
      "text/plain": [
       "recommendations finished on 426000/529574 queries. users per second: 7349.54"
      ]
     },
     "metadata": {},
     "output_type": "display_data"
    },
    {
     "data": {
      "text/html": [
       "<pre>recommendations finished on 427000/529574 queries. users per second: 7351.24</pre>"
      ],
      "text/plain": [
       "recommendations finished on 427000/529574 queries. users per second: 7351.24"
      ]
     },
     "metadata": {},
     "output_type": "display_data"
    },
    {
     "data": {
      "text/html": [
       "<pre>recommendations finished on 428000/529574 queries. users per second: 7353.87</pre>"
      ],
      "text/plain": [
       "recommendations finished on 428000/529574 queries. users per second: 7353.87"
      ]
     },
     "metadata": {},
     "output_type": "display_data"
    },
    {
     "data": {
      "text/html": [
       "<pre>recommendations finished on 429000/529574 queries. users per second: 7356.29</pre>"
      ],
      "text/plain": [
       "recommendations finished on 429000/529574 queries. users per second: 7356.29"
      ]
     },
     "metadata": {},
     "output_type": "display_data"
    },
    {
     "data": {
      "text/html": [
       "<pre>recommendations finished on 430000/529574 queries. users per second: 7358.13</pre>"
      ],
      "text/plain": [
       "recommendations finished on 430000/529574 queries. users per second: 7358.13"
      ]
     },
     "metadata": {},
     "output_type": "display_data"
    },
    {
     "data": {
      "text/html": [
       "<pre>recommendations finished on 431000/529574 queries. users per second: 7360</pre>"
      ],
      "text/plain": [
       "recommendations finished on 431000/529574 queries. users per second: 7360"
      ]
     },
     "metadata": {},
     "output_type": "display_data"
    },
    {
     "data": {
      "text/html": [
       "<pre>recommendations finished on 432000/529574 queries. users per second: 7362.47</pre>"
      ],
      "text/plain": [
       "recommendations finished on 432000/529574 queries. users per second: 7362.47"
      ]
     },
     "metadata": {},
     "output_type": "display_data"
    },
    {
     "data": {
      "text/html": [
       "<pre>recommendations finished on 433000/529574 queries. users per second: 7364.67</pre>"
      ],
      "text/plain": [
       "recommendations finished on 433000/529574 queries. users per second: 7364.67"
      ]
     },
     "metadata": {},
     "output_type": "display_data"
    },
    {
     "data": {
      "text/html": [
       "<pre>recommendations finished on 434000/529574 queries. users per second: 7365.16</pre>"
      ],
      "text/plain": [
       "recommendations finished on 434000/529574 queries. users per second: 7365.16"
      ]
     },
     "metadata": {},
     "output_type": "display_data"
    },
    {
     "data": {
      "text/html": [
       "<pre>recommendations finished on 435000/529574 queries. users per second: 7368.04</pre>"
      ],
      "text/plain": [
       "recommendations finished on 435000/529574 queries. users per second: 7368.04"
      ]
     },
     "metadata": {},
     "output_type": "display_data"
    },
    {
     "data": {
      "text/html": [
       "<pre>recommendations finished on 436000/529574 queries. users per second: 7370.57</pre>"
      ],
      "text/plain": [
       "recommendations finished on 436000/529574 queries. users per second: 7370.57"
      ]
     },
     "metadata": {},
     "output_type": "display_data"
    },
    {
     "data": {
      "text/html": [
       "<pre>recommendations finished on 437000/529574 queries. users per second: 7374.6</pre>"
      ],
      "text/plain": [
       "recommendations finished on 437000/529574 queries. users per second: 7374.6"
      ]
     },
     "metadata": {},
     "output_type": "display_data"
    },
    {
     "data": {
      "text/html": [
       "<pre>recommendations finished on 438000/529574 queries. users per second: 7377.91</pre>"
      ],
      "text/plain": [
       "recommendations finished on 438000/529574 queries. users per second: 7377.91"
      ]
     },
     "metadata": {},
     "output_type": "display_data"
    },
    {
     "data": {
      "text/html": [
       "<pre>recommendations finished on 439000/529574 queries. users per second: 7381</pre>"
      ],
      "text/plain": [
       "recommendations finished on 439000/529574 queries. users per second: 7381"
      ]
     },
     "metadata": {},
     "output_type": "display_data"
    },
    {
     "data": {
      "text/html": [
       "<pre>recommendations finished on 440000/529574 queries. users per second: 7382.03</pre>"
      ],
      "text/plain": [
       "recommendations finished on 440000/529574 queries. users per second: 7382.03"
      ]
     },
     "metadata": {},
     "output_type": "display_data"
    },
    {
     "data": {
      "text/html": [
       "<pre>recommendations finished on 441000/529574 queries. users per second: 7384.02</pre>"
      ],
      "text/plain": [
       "recommendations finished on 441000/529574 queries. users per second: 7384.02"
      ]
     },
     "metadata": {},
     "output_type": "display_data"
    },
    {
     "data": {
      "text/html": [
       "<pre>recommendations finished on 442000/529574 queries. users per second: 7387.2</pre>"
      ],
      "text/plain": [
       "recommendations finished on 442000/529574 queries. users per second: 7387.2"
      ]
     },
     "metadata": {},
     "output_type": "display_data"
    },
    {
     "data": {
      "text/html": [
       "<pre>recommendations finished on 443000/529574 queries. users per second: 7390.38</pre>"
      ],
      "text/plain": [
       "recommendations finished on 443000/529574 queries. users per second: 7390.38"
      ]
     },
     "metadata": {},
     "output_type": "display_data"
    },
    {
     "data": {
      "text/html": [
       "<pre>recommendations finished on 444000/529574 queries. users per second: 7393.33</pre>"
      ],
      "text/plain": [
       "recommendations finished on 444000/529574 queries. users per second: 7393.33"
      ]
     },
     "metadata": {},
     "output_type": "display_data"
    },
    {
     "data": {
      "text/html": [
       "<pre>recommendations finished on 445000/529574 queries. users per second: 7396.43</pre>"
      ],
      "text/plain": [
       "recommendations finished on 445000/529574 queries. users per second: 7396.43"
      ]
     },
     "metadata": {},
     "output_type": "display_data"
    },
    {
     "data": {
      "text/html": [
       "<pre>recommendations finished on 446000/529574 queries. users per second: 7398.65</pre>"
      ],
      "text/plain": [
       "recommendations finished on 446000/529574 queries. users per second: 7398.65"
      ]
     },
     "metadata": {},
     "output_type": "display_data"
    },
    {
     "data": {
      "text/html": [
       "<pre>recommendations finished on 447000/529574 queries. users per second: 7401.08</pre>"
      ],
      "text/plain": [
       "recommendations finished on 447000/529574 queries. users per second: 7401.08"
      ]
     },
     "metadata": {},
     "output_type": "display_data"
    },
    {
     "data": {
      "text/html": [
       "<pre>recommendations finished on 448000/529574 queries. users per second: 7396.28</pre>"
      ],
      "text/plain": [
       "recommendations finished on 448000/529574 queries. users per second: 7396.28"
      ]
     },
     "metadata": {},
     "output_type": "display_data"
    },
    {
     "data": {
      "text/html": [
       "<pre>recommendations finished on 449000/529574 queries. users per second: 7393.99</pre>"
      ],
      "text/plain": [
       "recommendations finished on 449000/529574 queries. users per second: 7393.99"
      ]
     },
     "metadata": {},
     "output_type": "display_data"
    },
    {
     "data": {
      "text/html": [
       "<pre>recommendations finished on 450000/529574 queries. users per second: 7397.6</pre>"
      ],
      "text/plain": [
       "recommendations finished on 450000/529574 queries. users per second: 7397.6"
      ]
     },
     "metadata": {},
     "output_type": "display_data"
    },
    {
     "data": {
      "text/html": [
       "<pre>recommendations finished on 451000/529574 queries. users per second: 7400.65</pre>"
      ],
      "text/plain": [
       "recommendations finished on 451000/529574 queries. users per second: 7400.65"
      ]
     },
     "metadata": {},
     "output_type": "display_data"
    },
    {
     "data": {
      "text/html": [
       "<pre>recommendations finished on 452000/529574 queries. users per second: 7402.44</pre>"
      ],
      "text/plain": [
       "recommendations finished on 452000/529574 queries. users per second: 7402.44"
      ]
     },
     "metadata": {},
     "output_type": "display_data"
    },
    {
     "data": {
      "text/html": [
       "<pre>recommendations finished on 453000/529574 queries. users per second: 7405.46</pre>"
      ],
      "text/plain": [
       "recommendations finished on 453000/529574 queries. users per second: 7405.46"
      ]
     },
     "metadata": {},
     "output_type": "display_data"
    },
    {
     "data": {
      "text/html": [
       "<pre>recommendations finished on 454000/529574 queries. users per second: 7407.84</pre>"
      ],
      "text/plain": [
       "recommendations finished on 454000/529574 queries. users per second: 7407.84"
      ]
     },
     "metadata": {},
     "output_type": "display_data"
    },
    {
     "data": {
      "text/html": [
       "<pre>recommendations finished on 455000/529574 queries. users per second: 7410.3</pre>"
      ],
      "text/plain": [
       "recommendations finished on 455000/529574 queries. users per second: 7410.3"
      ]
     },
     "metadata": {},
     "output_type": "display_data"
    },
    {
     "data": {
      "text/html": [
       "<pre>recommendations finished on 456000/529574 queries. users per second: 7412.61</pre>"
      ],
      "text/plain": [
       "recommendations finished on 456000/529574 queries. users per second: 7412.61"
      ]
     },
     "metadata": {},
     "output_type": "display_data"
    },
    {
     "data": {
      "text/html": [
       "<pre>recommendations finished on 457000/529574 queries. users per second: 7414.67</pre>"
      ],
      "text/plain": [
       "recommendations finished on 457000/529574 queries. users per second: 7414.67"
      ]
     },
     "metadata": {},
     "output_type": "display_data"
    },
    {
     "data": {
      "text/html": [
       "<pre>recommendations finished on 458000/529574 queries. users per second: 7417.93</pre>"
      ],
      "text/plain": [
       "recommendations finished on 458000/529574 queries. users per second: 7417.93"
      ]
     },
     "metadata": {},
     "output_type": "display_data"
    },
    {
     "data": {
      "text/html": [
       "<pre>recommendations finished on 459000/529574 queries. users per second: 7420.36</pre>"
      ],
      "text/plain": [
       "recommendations finished on 459000/529574 queries. users per second: 7420.36"
      ]
     },
     "metadata": {},
     "output_type": "display_data"
    },
    {
     "data": {
      "text/html": [
       "<pre>recommendations finished on 460000/529574 queries. users per second: 7421.72</pre>"
      ],
      "text/plain": [
       "recommendations finished on 460000/529574 queries. users per second: 7421.72"
      ]
     },
     "metadata": {},
     "output_type": "display_data"
    },
    {
     "data": {
      "text/html": [
       "<pre>recommendations finished on 461000/529574 queries. users per second: 7423.62</pre>"
      ],
      "text/plain": [
       "recommendations finished on 461000/529574 queries. users per second: 7423.62"
      ]
     },
     "metadata": {},
     "output_type": "display_data"
    },
    {
     "data": {
      "text/html": [
       "<pre>recommendations finished on 462000/529574 queries. users per second: 7426.13</pre>"
      ],
      "text/plain": [
       "recommendations finished on 462000/529574 queries. users per second: 7426.13"
      ]
     },
     "metadata": {},
     "output_type": "display_data"
    },
    {
     "data": {
      "text/html": [
       "<pre>recommendations finished on 463000/529574 queries. users per second: 7426.48</pre>"
      ],
      "text/plain": [
       "recommendations finished on 463000/529574 queries. users per second: 7426.48"
      ]
     },
     "metadata": {},
     "output_type": "display_data"
    },
    {
     "data": {
      "text/html": [
       "<pre>recommendations finished on 464000/529574 queries. users per second: 7425.39</pre>"
      ],
      "text/plain": [
       "recommendations finished on 464000/529574 queries. users per second: 7425.39"
      ]
     },
     "metadata": {},
     "output_type": "display_data"
    },
    {
     "data": {
      "text/html": [
       "<pre>recommendations finished on 465000/529574 queries. users per second: 7423.78</pre>"
      ],
      "text/plain": [
       "recommendations finished on 465000/529574 queries. users per second: 7423.78"
      ]
     },
     "metadata": {},
     "output_type": "display_data"
    },
    {
     "data": {
      "text/html": [
       "<pre>recommendations finished on 466000/529574 queries. users per second: 7424.67</pre>"
      ],
      "text/plain": [
       "recommendations finished on 466000/529574 queries. users per second: 7424.67"
      ]
     },
     "metadata": {},
     "output_type": "display_data"
    },
    {
     "data": {
      "text/html": [
       "<pre>recommendations finished on 467000/529574 queries. users per second: 7427.91</pre>"
      ],
      "text/plain": [
       "recommendations finished on 467000/529574 queries. users per second: 7427.91"
      ]
     },
     "metadata": {},
     "output_type": "display_data"
    },
    {
     "data": {
      "text/html": [
       "<pre>recommendations finished on 468000/529574 queries. users per second: 7431.58</pre>"
      ],
      "text/plain": [
       "recommendations finished on 468000/529574 queries. users per second: 7431.58"
      ]
     },
     "metadata": {},
     "output_type": "display_data"
    },
    {
     "data": {
      "text/html": [
       "<pre>recommendations finished on 469000/529574 queries. users per second: 7435.31</pre>"
      ],
      "text/plain": [
       "recommendations finished on 469000/529574 queries. users per second: 7435.31"
      ]
     },
     "metadata": {},
     "output_type": "display_data"
    },
    {
     "data": {
      "text/html": [
       "<pre>recommendations finished on 470000/529574 queries. users per second: 7437.88</pre>"
      ],
      "text/plain": [
       "recommendations finished on 470000/529574 queries. users per second: 7437.88"
      ]
     },
     "metadata": {},
     "output_type": "display_data"
    },
    {
     "data": {
      "text/html": [
       "<pre>recommendations finished on 471000/529574 queries. users per second: 7440.15</pre>"
      ],
      "text/plain": [
       "recommendations finished on 471000/529574 queries. users per second: 7440.15"
      ]
     },
     "metadata": {},
     "output_type": "display_data"
    },
    {
     "data": {
      "text/html": [
       "<pre>recommendations finished on 472000/529574 queries. users per second: 7443.15</pre>"
      ],
      "text/plain": [
       "recommendations finished on 472000/529574 queries. users per second: 7443.15"
      ]
     },
     "metadata": {},
     "output_type": "display_data"
    },
    {
     "data": {
      "text/html": [
       "<pre>recommendations finished on 473000/529574 queries. users per second: 7445.52</pre>"
      ],
      "text/plain": [
       "recommendations finished on 473000/529574 queries. users per second: 7445.52"
      ]
     },
     "metadata": {},
     "output_type": "display_data"
    },
    {
     "data": {
      "text/html": [
       "<pre>recommendations finished on 474000/529574 queries. users per second: 7441.05</pre>"
      ],
      "text/plain": [
       "recommendations finished on 474000/529574 queries. users per second: 7441.05"
      ]
     },
     "metadata": {},
     "output_type": "display_data"
    },
    {
     "data": {
      "text/html": [
       "<pre>recommendations finished on 475000/529574 queries. users per second: 7439.95</pre>"
      ],
      "text/plain": [
       "recommendations finished on 475000/529574 queries. users per second: 7439.95"
      ]
     },
     "metadata": {},
     "output_type": "display_data"
    },
    {
     "data": {
      "text/html": [
       "<pre>recommendations finished on 476000/529574 queries. users per second: 7442.14</pre>"
      ],
      "text/plain": [
       "recommendations finished on 476000/529574 queries. users per second: 7442.14"
      ]
     },
     "metadata": {},
     "output_type": "display_data"
    },
    {
     "data": {
      "text/html": [
       "<pre>recommendations finished on 477000/529574 queries. users per second: 7444.38</pre>"
      ],
      "text/plain": [
       "recommendations finished on 477000/529574 queries. users per second: 7444.38"
      ]
     },
     "metadata": {},
     "output_type": "display_data"
    },
    {
     "data": {
      "text/html": [
       "<pre>recommendations finished on 478000/529574 queries. users per second: 7445.89</pre>"
      ],
      "text/plain": [
       "recommendations finished on 478000/529574 queries. users per second: 7445.89"
      ]
     },
     "metadata": {},
     "output_type": "display_data"
    },
    {
     "data": {
      "text/html": [
       "<pre>recommendations finished on 479000/529574 queries. users per second: 7447.46</pre>"
      ],
      "text/plain": [
       "recommendations finished on 479000/529574 queries. users per second: 7447.46"
      ]
     },
     "metadata": {},
     "output_type": "display_data"
    },
    {
     "data": {
      "text/html": [
       "<pre>recommendations finished on 480000/529574 queries. users per second: 7449.73</pre>"
      ],
      "text/plain": [
       "recommendations finished on 480000/529574 queries. users per second: 7449.73"
      ]
     },
     "metadata": {},
     "output_type": "display_data"
    },
    {
     "data": {
      "text/html": [
       "<pre>recommendations finished on 481000/529574 queries. users per second: 7451.44</pre>"
      ],
      "text/plain": [
       "recommendations finished on 481000/529574 queries. users per second: 7451.44"
      ]
     },
     "metadata": {},
     "output_type": "display_data"
    },
    {
     "data": {
      "text/html": [
       "<pre>recommendations finished on 482000/529574 queries. users per second: 7453.92</pre>"
      ],
      "text/plain": [
       "recommendations finished on 482000/529574 queries. users per second: 7453.92"
      ]
     },
     "metadata": {},
     "output_type": "display_data"
    },
    {
     "data": {
      "text/html": [
       "<pre>recommendations finished on 483000/529574 queries. users per second: 7456.29</pre>"
      ],
      "text/plain": [
       "recommendations finished on 483000/529574 queries. users per second: 7456.29"
      ]
     },
     "metadata": {},
     "output_type": "display_data"
    },
    {
     "data": {
      "text/html": [
       "<pre>recommendations finished on 484000/529574 queries. users per second: 7458.61</pre>"
      ],
      "text/plain": [
       "recommendations finished on 484000/529574 queries. users per second: 7458.61"
      ]
     },
     "metadata": {},
     "output_type": "display_data"
    },
    {
     "data": {
      "text/html": [
       "<pre>recommendations finished on 485000/529574 queries. users per second: 7458.88</pre>"
      ],
      "text/plain": [
       "recommendations finished on 485000/529574 queries. users per second: 7458.88"
      ]
     },
     "metadata": {},
     "output_type": "display_data"
    },
    {
     "data": {
      "text/html": [
       "<pre>recommendations finished on 486000/529574 queries. users per second: 7458.97</pre>"
      ],
      "text/plain": [
       "recommendations finished on 486000/529574 queries. users per second: 7458.97"
      ]
     },
     "metadata": {},
     "output_type": "display_data"
    },
    {
     "data": {
      "text/html": [
       "<pre>recommendations finished on 487000/529574 queries. users per second: 7461.08</pre>"
      ],
      "text/plain": [
       "recommendations finished on 487000/529574 queries. users per second: 7461.08"
      ]
     },
     "metadata": {},
     "output_type": "display_data"
    },
    {
     "data": {
      "text/html": [
       "<pre>recommendations finished on 488000/529574 queries. users per second: 7462.47</pre>"
      ],
      "text/plain": [
       "recommendations finished on 488000/529574 queries. users per second: 7462.47"
      ]
     },
     "metadata": {},
     "output_type": "display_data"
    },
    {
     "data": {
      "text/html": [
       "<pre>recommendations finished on 489000/529574 queries. users per second: 7463.98</pre>"
      ],
      "text/plain": [
       "recommendations finished on 489000/529574 queries. users per second: 7463.98"
      ]
     },
     "metadata": {},
     "output_type": "display_data"
    },
    {
     "data": {
      "text/html": [
       "<pre>recommendations finished on 490000/529574 queries. users per second: 7466.22</pre>"
      ],
      "text/plain": [
       "recommendations finished on 490000/529574 queries. users per second: 7466.22"
      ]
     },
     "metadata": {},
     "output_type": "display_data"
    },
    {
     "data": {
      "text/html": [
       "<pre>recommendations finished on 491000/529574 queries. users per second: 7468.93</pre>"
      ],
      "text/plain": [
       "recommendations finished on 491000/529574 queries. users per second: 7468.93"
      ]
     },
     "metadata": {},
     "output_type": "display_data"
    },
    {
     "data": {
      "text/html": [
       "<pre>recommendations finished on 492000/529574 queries. users per second: 7470.12</pre>"
      ],
      "text/plain": [
       "recommendations finished on 492000/529574 queries. users per second: 7470.12"
      ]
     },
     "metadata": {},
     "output_type": "display_data"
    },
    {
     "data": {
      "text/html": [
       "<pre>recommendations finished on 493000/529574 queries. users per second: 7472.54</pre>"
      ],
      "text/plain": [
       "recommendations finished on 493000/529574 queries. users per second: 7472.54"
      ]
     },
     "metadata": {},
     "output_type": "display_data"
    },
    {
     "data": {
      "text/html": [
       "<pre>recommendations finished on 494000/529574 queries. users per second: 7474.34</pre>"
      ],
      "text/plain": [
       "recommendations finished on 494000/529574 queries. users per second: 7474.34"
      ]
     },
     "metadata": {},
     "output_type": "display_data"
    },
    {
     "data": {
      "text/html": [
       "<pre>recommendations finished on 495000/529574 queries. users per second: 7476.27</pre>"
      ],
      "text/plain": [
       "recommendations finished on 495000/529574 queries. users per second: 7476.27"
      ]
     },
     "metadata": {},
     "output_type": "display_data"
    },
    {
     "data": {
      "text/html": [
       "<pre>recommendations finished on 496000/529574 queries. users per second: 7477.65</pre>"
      ],
      "text/plain": [
       "recommendations finished on 496000/529574 queries. users per second: 7477.65"
      ]
     },
     "metadata": {},
     "output_type": "display_data"
    },
    {
     "data": {
      "text/html": [
       "<pre>recommendations finished on 497000/529574 queries. users per second: 7475.9</pre>"
      ],
      "text/plain": [
       "recommendations finished on 497000/529574 queries. users per second: 7475.9"
      ]
     },
     "metadata": {},
     "output_type": "display_data"
    },
    {
     "data": {
      "text/html": [
       "<pre>recommendations finished on 498000/529574 queries. users per second: 7473.59</pre>"
      ],
      "text/plain": [
       "recommendations finished on 498000/529574 queries. users per second: 7473.59"
      ]
     },
     "metadata": {},
     "output_type": "display_data"
    },
    {
     "data": {
      "text/html": [
       "<pre>recommendations finished on 499000/529574 queries. users per second: 7473.3</pre>"
      ],
      "text/plain": [
       "recommendations finished on 499000/529574 queries. users per second: 7473.3"
      ]
     },
     "metadata": {},
     "output_type": "display_data"
    },
    {
     "data": {
      "text/html": [
       "<pre>recommendations finished on 500000/529574 queries. users per second: 7476.26</pre>"
      ],
      "text/plain": [
       "recommendations finished on 500000/529574 queries. users per second: 7476.26"
      ]
     },
     "metadata": {},
     "output_type": "display_data"
    },
    {
     "data": {
      "text/html": [
       "<pre>recommendations finished on 501000/529574 queries. users per second: 7476.99</pre>"
      ],
      "text/plain": [
       "recommendations finished on 501000/529574 queries. users per second: 7476.99"
      ]
     },
     "metadata": {},
     "output_type": "display_data"
    },
    {
     "data": {
      "text/html": [
       "<pre>recommendations finished on 502000/529574 queries. users per second: 7479.52</pre>"
      ],
      "text/plain": [
       "recommendations finished on 502000/529574 queries. users per second: 7479.52"
      ]
     },
     "metadata": {},
     "output_type": "display_data"
    },
    {
     "data": {
      "text/html": [
       "<pre>recommendations finished on 503000/529574 queries. users per second: 7481.43</pre>"
      ],
      "text/plain": [
       "recommendations finished on 503000/529574 queries. users per second: 7481.43"
      ]
     },
     "metadata": {},
     "output_type": "display_data"
    },
    {
     "data": {
      "text/html": [
       "<pre>recommendations finished on 504000/529574 queries. users per second: 7485.04</pre>"
      ],
      "text/plain": [
       "recommendations finished on 504000/529574 queries. users per second: 7485.04"
      ]
     },
     "metadata": {},
     "output_type": "display_data"
    },
    {
     "data": {
      "text/html": [
       "<pre>recommendations finished on 505000/529574 queries. users per second: 7484.26</pre>"
      ],
      "text/plain": [
       "recommendations finished on 505000/529574 queries. users per second: 7484.26"
      ]
     },
     "metadata": {},
     "output_type": "display_data"
    },
    {
     "data": {
      "text/html": [
       "<pre>recommendations finished on 506000/529574 queries. users per second: 7475.52</pre>"
      ],
      "text/plain": [
       "recommendations finished on 506000/529574 queries. users per second: 7475.52"
      ]
     },
     "metadata": {},
     "output_type": "display_data"
    },
    {
     "data": {
      "text/html": [
       "<pre>recommendations finished on 507000/529574 queries. users per second: 7461.51</pre>"
      ],
      "text/plain": [
       "recommendations finished on 507000/529574 queries. users per second: 7461.51"
      ]
     },
     "metadata": {},
     "output_type": "display_data"
    },
    {
     "data": {
      "text/html": [
       "<pre>recommendations finished on 508000/529574 queries. users per second: 7451.46</pre>"
      ],
      "text/plain": [
       "recommendations finished on 508000/529574 queries. users per second: 7451.46"
      ]
     },
     "metadata": {},
     "output_type": "display_data"
    },
    {
     "data": {
      "text/html": [
       "<pre>recommendations finished on 509000/529574 queries. users per second: 7446.75</pre>"
      ],
      "text/plain": [
       "recommendations finished on 509000/529574 queries. users per second: 7446.75"
      ]
     },
     "metadata": {},
     "output_type": "display_data"
    },
    {
     "data": {
      "text/html": [
       "<pre>recommendations finished on 510000/529574 queries. users per second: 7442.74</pre>"
      ],
      "text/plain": [
       "recommendations finished on 510000/529574 queries. users per second: 7442.74"
      ]
     },
     "metadata": {},
     "output_type": "display_data"
    },
    {
     "data": {
      "text/html": [
       "<pre>recommendations finished on 511000/529574 queries. users per second: 7442.89</pre>"
      ],
      "text/plain": [
       "recommendations finished on 511000/529574 queries. users per second: 7442.89"
      ]
     },
     "metadata": {},
     "output_type": "display_data"
    },
    {
     "data": {
      "text/html": [
       "<pre>recommendations finished on 512000/529574 queries. users per second: 7439.54</pre>"
      ],
      "text/plain": [
       "recommendations finished on 512000/529574 queries. users per second: 7439.54"
      ]
     },
     "metadata": {},
     "output_type": "display_data"
    },
    {
     "data": {
      "text/html": [
       "<pre>recommendations finished on 513000/529574 queries. users per second: 7441.91</pre>"
      ],
      "text/plain": [
       "recommendations finished on 513000/529574 queries. users per second: 7441.91"
      ]
     },
     "metadata": {},
     "output_type": "display_data"
    },
    {
     "data": {
      "text/html": [
       "<pre>recommendations finished on 514000/529574 queries. users per second: 7444.77</pre>"
      ],
      "text/plain": [
       "recommendations finished on 514000/529574 queries. users per second: 7444.77"
      ]
     },
     "metadata": {},
     "output_type": "display_data"
    },
    {
     "data": {
      "text/html": [
       "<pre>recommendations finished on 515000/529574 queries. users per second: 7446.38</pre>"
      ],
      "text/plain": [
       "recommendations finished on 515000/529574 queries. users per second: 7446.38"
      ]
     },
     "metadata": {},
     "output_type": "display_data"
    },
    {
     "data": {
      "text/html": [
       "<pre>recommendations finished on 516000/529574 queries. users per second: 7446.34</pre>"
      ],
      "text/plain": [
       "recommendations finished on 516000/529574 queries. users per second: 7446.34"
      ]
     },
     "metadata": {},
     "output_type": "display_data"
    },
    {
     "data": {
      "text/html": [
       "<pre>recommendations finished on 517000/529574 queries. users per second: 7436.79</pre>"
      ],
      "text/plain": [
       "recommendations finished on 517000/529574 queries. users per second: 7436.79"
      ]
     },
     "metadata": {},
     "output_type": "display_data"
    },
    {
     "data": {
      "text/html": [
       "<pre>recommendations finished on 518000/529574 queries. users per second: 7426.92</pre>"
      ],
      "text/plain": [
       "recommendations finished on 518000/529574 queries. users per second: 7426.92"
      ]
     },
     "metadata": {},
     "output_type": "display_data"
    },
    {
     "data": {
      "text/html": [
       "<pre>recommendations finished on 519000/529574 queries. users per second: 7417.94</pre>"
      ],
      "text/plain": [
       "recommendations finished on 519000/529574 queries. users per second: 7417.94"
      ]
     },
     "metadata": {},
     "output_type": "display_data"
    },
    {
     "data": {
      "text/html": [
       "<pre>recommendations finished on 520000/529574 queries. users per second: 7413.91</pre>"
      ],
      "text/plain": [
       "recommendations finished on 520000/529574 queries. users per second: 7413.91"
      ]
     },
     "metadata": {},
     "output_type": "display_data"
    },
    {
     "data": {
      "text/html": [
       "<pre>recommendations finished on 521000/529574 queries. users per second: 7415.33</pre>"
      ],
      "text/plain": [
       "recommendations finished on 521000/529574 queries. users per second: 7415.33"
      ]
     },
     "metadata": {},
     "output_type": "display_data"
    },
    {
     "data": {
      "text/html": [
       "<pre>recommendations finished on 522000/529574 queries. users per second: 7416.46</pre>"
      ],
      "text/plain": [
       "recommendations finished on 522000/529574 queries. users per second: 7416.46"
      ]
     },
     "metadata": {},
     "output_type": "display_data"
    },
    {
     "data": {
      "text/html": [
       "<pre>recommendations finished on 523000/529574 queries. users per second: 7420.47</pre>"
      ],
      "text/plain": [
       "recommendations finished on 523000/529574 queries. users per second: 7420.47"
      ]
     },
     "metadata": {},
     "output_type": "display_data"
    },
    {
     "data": {
      "text/html": [
       "<pre>recommendations finished on 524000/529574 queries. users per second: 7422.77</pre>"
      ],
      "text/plain": [
       "recommendations finished on 524000/529574 queries. users per second: 7422.77"
      ]
     },
     "metadata": {},
     "output_type": "display_data"
    },
    {
     "data": {
      "text/html": [
       "<pre>recommendations finished on 525000/529574 queries. users per second: 7424.65</pre>"
      ],
      "text/plain": [
       "recommendations finished on 525000/529574 queries. users per second: 7424.65"
      ]
     },
     "metadata": {},
     "output_type": "display_data"
    },
    {
     "data": {
      "text/html": [
       "<pre>recommendations finished on 526000/529574 queries. users per second: 7426.46</pre>"
      ],
      "text/plain": [
       "recommendations finished on 526000/529574 queries. users per second: 7426.46"
      ]
     },
     "metadata": {},
     "output_type": "display_data"
    },
    {
     "data": {
      "text/html": [
       "<pre>recommendations finished on 527000/529574 queries. users per second: 7427.08</pre>"
      ],
      "text/plain": [
       "recommendations finished on 527000/529574 queries. users per second: 7427.08"
      ]
     },
     "metadata": {},
     "output_type": "display_data"
    },
    {
     "data": {
      "text/html": [
       "<pre>recommendations finished on 528000/529574 queries. users per second: 7426.49</pre>"
      ],
      "text/plain": [
       "recommendations finished on 528000/529574 queries. users per second: 7426.49"
      ]
     },
     "metadata": {},
     "output_type": "display_data"
    },
    {
     "data": {
      "text/html": [
       "<pre>recommendations finished on 529000/529574 queries. users per second: 7419.43</pre>"
      ],
      "text/plain": [
       "recommendations finished on 529000/529574 queries. users per second: 7419.43"
      ]
     },
     "metadata": {},
     "output_type": "display_data"
    },
    {
     "name": "stdout",
     "output_type": "stream",
     "text": [
      "\n",
      "Precision and recall summary statistics by cutoff\n",
      "+--------+------------------------+------------------------+\n",
      "| cutoff |     mean_precision     |      mean_recall       |\n",
      "+--------+------------------------+------------------------+\n",
      "|   1    | 1.8883102267105262e-06 | 1.8883102267105262e-06 |\n",
      "|   2    | 9.441551133552631e-07  | 1.8883102267105262e-06 |\n",
      "|   3    | 6.294367422368523e-07  | 1.8883102267105262e-06 |\n",
      "|   4    | 1.4162326700328814e-06 | 2.6301463872039387e-06 |\n",
      "|   5    | 1.5106481813683898e-06 | 4.5184566139144755e-06 |\n",
      "|   6    | 1.258873484473679e-06  | 4.518456613914497e-06  |\n",
      "|   7    | 1.079034415263159e-06  | 4.518456613914478e-06  |\n",
      "|   8    | 9.441551133552561e-07  | 4.518456613914471e-06  |\n",
      "|   9    | 8.392489896491192e-07  | 4.518456613914461e-06  |\n",
      "|   10   | 1.321817158697369e-06  |  7.16209093130922e-06  |\n",
      "+--------+------------------------+------------------------+\n",
      "[10 rows x 3 columns]\n",
      "\n"
     ]
    },
    {
     "ename": "AssertionError",
     "evalue": "Provided dataset must contain a target column with the same                 name as the target used during training.",
     "output_type": "error",
     "traceback": [
      "\u001b[0;31m---------------------------------------------------------------------------\u001b[0m",
      "\u001b[0;31mAssertionError\u001b[0m                            Traceback (most recent call last)",
      "\u001b[0;32m/var/folders/h6/9s1mhwcx5zd_n_0bkbfgh6sw0000gn/T/ipykernel_18879/3122520843.py\u001b[0m in \u001b[0;36m<module>\u001b[0;34m\u001b[0m\n\u001b[0;32m----> 1\u001b[0;31m \u001b[0meval_counts\u001b[0m \u001b[0;34m=\u001b[0m \u001b[0mtc\u001b[0m\u001b[0;34m.\u001b[0m\u001b[0mrecommender\u001b[0m\u001b[0;34m.\u001b[0m\u001b[0mutil\u001b[0m\u001b[0;34m.\u001b[0m\u001b[0mcompare_models\u001b[0m\u001b[0;34m(\u001b[0m\u001b[0mtest_data\u001b[0m\u001b[0;34m,\u001b[0m \u001b[0mmodels_w_counts\u001b[0m\u001b[0;34m,\u001b[0m \u001b[0mmodel_names\u001b[0m\u001b[0;34m=\u001b[0m\u001b[0mnames_w_counts\u001b[0m\u001b[0;34m)\u001b[0m\u001b[0;34m\u001b[0m\u001b[0;34m\u001b[0m\u001b[0m\n\u001b[0m\u001b[1;32m      2\u001b[0m \u001b[0meval_dummy\u001b[0m \u001b[0;34m=\u001b[0m \u001b[0mtc\u001b[0m\u001b[0;34m.\u001b[0m\u001b[0mrecommender\u001b[0m\u001b[0;34m.\u001b[0m\u001b[0mutil\u001b[0m\u001b[0;34m.\u001b[0m\u001b[0mcompare_models\u001b[0m\u001b[0;34m(\u001b[0m\u001b[0mtest_data_dummy\u001b[0m\u001b[0;34m,\u001b[0m \u001b[0mmodels_w_dummy\u001b[0m\u001b[0;34m,\u001b[0m \u001b[0mmodel_names\u001b[0m\u001b[0;34m=\u001b[0m\u001b[0mnames_w_dummy\u001b[0m\u001b[0;34m)\u001b[0m\u001b[0;34m\u001b[0m\u001b[0;34m\u001b[0m\u001b[0m\n\u001b[1;32m      3\u001b[0m \u001b[0meval_norm\u001b[0m \u001b[0;34m=\u001b[0m \u001b[0mtc\u001b[0m\u001b[0;34m.\u001b[0m\u001b[0mrecommender\u001b[0m\u001b[0;34m.\u001b[0m\u001b[0mutil\u001b[0m\u001b[0;34m.\u001b[0m\u001b[0mcompare_models\u001b[0m\u001b[0;34m(\u001b[0m\u001b[0mtest_data_norm\u001b[0m\u001b[0;34m,\u001b[0m \u001b[0mmodels_w_norm\u001b[0m\u001b[0;34m,\u001b[0m \u001b[0mmodel_names\u001b[0m\u001b[0;34m=\u001b[0m\u001b[0mnames_w_norm\u001b[0m\u001b[0;34m)\u001b[0m\u001b[0;34m\u001b[0m\u001b[0;34m\u001b[0m\u001b[0m\n",
      "\u001b[0;32m~/.pyenv/versions/3.7.4/lib/python3.7/site-packages/turicreate/toolkits/recommender/util.py\u001b[0m in \u001b[0;36mcompare_models\u001b[0;34m(dataset, models, model_names, user_sample, metric, target, exclude_known_for_precision_recall, make_plot, verbose, **kwargs)\u001b[0m\n\u001b[1;32m    348\u001b[0m             \u001b[0mverbose\u001b[0m\u001b[0;34m=\u001b[0m\u001b[0mverbose\u001b[0m\u001b[0;34m,\u001b[0m\u001b[0;34m\u001b[0m\u001b[0;34m\u001b[0m\u001b[0m\n\u001b[1;32m    349\u001b[0m             \u001b[0mcutoffs\u001b[0m\u001b[0;34m=\u001b[0m\u001b[0mlist\u001b[0m\u001b[0;34m(\u001b[0m\u001b[0mrange\u001b[0m\u001b[0;34m(\u001b[0m\u001b[0;36m1\u001b[0m\u001b[0;34m,\u001b[0m \u001b[0;36m11\u001b[0m\u001b[0;34m,\u001b[0m \u001b[0;36m1\u001b[0m\u001b[0;34m)\u001b[0m\u001b[0;34m)\u001b[0m \u001b[0;34m+\u001b[0m \u001b[0mlist\u001b[0m\u001b[0;34m(\u001b[0m\u001b[0mrange\u001b[0m\u001b[0;34m(\u001b[0m\u001b[0;36m11\u001b[0m\u001b[0;34m,\u001b[0m \u001b[0;36m50\u001b[0m\u001b[0;34m,\u001b[0m \u001b[0;36m5\u001b[0m\u001b[0;34m)\u001b[0m\u001b[0;34m)\u001b[0m\u001b[0;34m,\u001b[0m\u001b[0;34m\u001b[0m\u001b[0;34m\u001b[0m\u001b[0m\n\u001b[0;32m--> 350\u001b[0;31m             \u001b[0;34m**\u001b[0m\u001b[0mkwargs\u001b[0m\u001b[0;34m\u001b[0m\u001b[0;34m\u001b[0m\u001b[0m\n\u001b[0m\u001b[1;32m    351\u001b[0m         )\n\u001b[1;32m    352\u001b[0m         \u001b[0mresults\u001b[0m\u001b[0;34m.\u001b[0m\u001b[0mappend\u001b[0m\u001b[0;34m(\u001b[0m\u001b[0mr\u001b[0m\u001b[0;34m)\u001b[0m\u001b[0;34m\u001b[0m\u001b[0;34m\u001b[0m\u001b[0m\n",
      "\u001b[0;32m~/.pyenv/versions/3.7.4/lib/python3.7/site-packages/turicreate/toolkits/recommender/util.py\u001b[0m in \u001b[0;36mevaluate\u001b[0;34m(self, dataset, metric, exclude_known_for_precision_recall, target, verbose, **kwargs)\u001b[0m\n\u001b[1;32m   1842\u001b[0m                 )\n\u001b[1;32m   1843\u001b[0m             \u001b[0;32melse\u001b[0m\u001b[0;34m:\u001b[0m\u001b[0;34m\u001b[0m\u001b[0;34m\u001b[0m\u001b[0m\n\u001b[0;32m-> 1844\u001b[0;31m                 \u001b[0mresults\u001b[0m \u001b[0;34m=\u001b[0m \u001b[0mself\u001b[0m\u001b[0;34m.\u001b[0m\u001b[0mevaluate_rmse\u001b[0m\u001b[0;34m(\u001b[0m\u001b[0mdataset\u001b[0m\u001b[0;34m,\u001b[0m \u001b[0mtarget\u001b[0m\u001b[0;34m)\u001b[0m\u001b[0;34m\u001b[0m\u001b[0;34m\u001b[0m\u001b[0m\n\u001b[0m\u001b[1;32m   1845\u001b[0m                 \u001b[0mret\u001b[0m\u001b[0;34m.\u001b[0m\u001b[0mupdate\u001b[0m\u001b[0;34m(\u001b[0m\u001b[0mresults\u001b[0m\u001b[0;34m)\u001b[0m\u001b[0;34m\u001b[0m\u001b[0;34m\u001b[0m\u001b[0m\n\u001b[1;32m   1846\u001b[0m \u001b[0;34m\u001b[0m\u001b[0m\n",
      "\u001b[0;32m~/.pyenv/versions/3.7.4/lib/python3.7/site-packages/turicreate/toolkits/recommender/util.py\u001b[0m in \u001b[0;36mevaluate_rmse\u001b[0;34m(self, dataset, target)\u001b[0m\n\u001b[1;32m   1680\u001b[0m             \u001b[0mtarget\u001b[0m \u001b[0;32min\u001b[0m \u001b[0mdataset\u001b[0m\u001b[0;34m.\u001b[0m\u001b[0mcolumn_names\u001b[0m\u001b[0;34m(\u001b[0m\u001b[0;34m)\u001b[0m\u001b[0;34m\u001b[0m\u001b[0;34m\u001b[0m\u001b[0m\n\u001b[1;32m   1681\u001b[0m         ), \"Provided dataset must contain a target column with the same \\\n\u001b[0;32m-> 1682\u001b[0;31m                 \u001b[0mname\u001b[0m \u001b[0;32mas\u001b[0m \u001b[0mthe\u001b[0m \u001b[0mtarget\u001b[0m \u001b[0mused\u001b[0m \u001b[0mduring\u001b[0m \u001b[0mtraining\u001b[0m\u001b[0;34m.\u001b[0m\u001b[0;31m\"\u001b[0m\u001b[0;34m\u001b[0m\u001b[0;34m\u001b[0m\u001b[0m\n\u001b[0m\u001b[1;32m   1683\u001b[0m         \u001b[0my\u001b[0m \u001b[0;34m=\u001b[0m \u001b[0mdataset\u001b[0m\u001b[0;34m[\u001b[0m\u001b[0mtarget\u001b[0m\u001b[0;34m]\u001b[0m\u001b[0;34m\u001b[0m\u001b[0;34m\u001b[0m\u001b[0m\n\u001b[1;32m   1684\u001b[0m         \u001b[0myhat\u001b[0m \u001b[0;34m=\u001b[0m \u001b[0mself\u001b[0m\u001b[0;34m.\u001b[0m\u001b[0mpredict\u001b[0m\u001b[0;34m(\u001b[0m\u001b[0mdataset\u001b[0m\u001b[0;34m)\u001b[0m\u001b[0;34m\u001b[0m\u001b[0;34m\u001b[0m\u001b[0m\n",
      "\u001b[0;31mAssertionError\u001b[0m: Provided dataset must contain a target column with the same                 name as the target used during training."
     ]
    }
   ],
   "source": [
    "eval_counts = tc.recommender.util.compare_models(test_data, models_w_counts, model_names=names_w_counts)\n",
    "eval_dummy = tc.recommender.util.compare_models(test_data_dummy, models_w_dummy, model_names=names_w_dummy)\n",
    "eval_norm = tc.recommender.util.compare_models(test_data_norm, models_w_norm, model_names=names_w_norm)"
   ]
  },
  {
   "cell_type": "code",
   "execution_count": 65,
   "metadata": {},
   "outputs": [
    {
     "data": {
      "text/html": [
       "<pre>Preparing data set.</pre>"
      ],
      "text/plain": [
       "Preparing data set."
      ]
     },
     "metadata": {},
     "output_type": "display_data"
    },
    {
     "data": {
      "text/html": [
       "<pre>    Data has 5909672 observations with 853494 users and 1269 items.</pre>"
      ],
      "text/plain": [
       "    Data has 5909672 observations with 853494 users and 1269 items."
      ]
     },
     "metadata": {},
     "output_type": "display_data"
    },
    {
     "data": {
      "text/html": [
       "<pre>    Data prepared in: 3.34024s</pre>"
      ],
      "text/plain": [
       "    Data prepared in: 3.34024s"
      ]
     },
     "metadata": {},
     "output_type": "display_data"
    },
    {
     "data": {
      "text/html": [
       "<pre>Training model from provided data.</pre>"
      ],
      "text/plain": [
       "Training model from provided data."
      ]
     },
     "metadata": {},
     "output_type": "display_data"
    },
    {
     "data": {
      "text/html": [
       "<pre>Gathering per-item and per-user statistics.</pre>"
      ],
      "text/plain": [
       "Gathering per-item and per-user statistics."
      ]
     },
     "metadata": {},
     "output_type": "display_data"
    },
    {
     "data": {
      "text/html": [
       "<pre>+--------------------------------+------------+</pre>"
      ],
      "text/plain": [
       "+--------------------------------+------------+"
      ]
     },
     "metadata": {},
     "output_type": "display_data"
    },
    {
     "data": {
      "text/html": [
       "<pre>| Elapsed Time (Item Statistics) | % Complete |</pre>"
      ],
      "text/plain": [
       "| Elapsed Time (Item Statistics) | % Complete |"
      ]
     },
     "metadata": {},
     "output_type": "display_data"
    },
    {
     "data": {
      "text/html": [
       "<pre>+--------------------------------+------------+</pre>"
      ],
      "text/plain": [
       "+--------------------------------+------------+"
      ]
     },
     "metadata": {},
     "output_type": "display_data"
    },
    {
     "data": {
      "text/html": [
       "<pre>| 1.707ms                        | 0          |</pre>"
      ],
      "text/plain": [
       "| 1.707ms                        | 0          |"
      ]
     },
     "metadata": {},
     "output_type": "display_data"
    },
    {
     "data": {
      "text/html": [
       "<pre>| 130.587ms                      | 100        |</pre>"
      ],
      "text/plain": [
       "| 130.587ms                      | 100        |"
      ]
     },
     "metadata": {},
     "output_type": "display_data"
    },
    {
     "data": {
      "text/html": [
       "<pre>+--------------------------------+------------+</pre>"
      ],
      "text/plain": [
       "+--------------------------------+------------+"
      ]
     },
     "metadata": {},
     "output_type": "display_data"
    },
    {
     "data": {
      "text/html": [
       "<pre>Setting up lookup tables.</pre>"
      ],
      "text/plain": [
       "Setting up lookup tables."
      ]
     },
     "metadata": {},
     "output_type": "display_data"
    },
    {
     "data": {
      "text/html": [
       "<pre>Processing data in one pass using dense lookup tables.</pre>"
      ],
      "text/plain": [
       "Processing data in one pass using dense lookup tables."
      ]
     },
     "metadata": {},
     "output_type": "display_data"
    },
    {
     "data": {
      "text/html": [
       "<pre>+-------------------------------------+------------------+-----------------+</pre>"
      ],
      "text/plain": [
       "+-------------------------------------+------------------+-----------------+"
      ]
     },
     "metadata": {},
     "output_type": "display_data"
    },
    {
     "data": {
      "text/html": [
       "<pre>| Elapsed Time (Constructing Lookups) | Total % Complete | Items Processed |</pre>"
      ],
      "text/plain": [
       "| Elapsed Time (Constructing Lookups) | Total % Complete | Items Processed |"
      ]
     },
     "metadata": {},
     "output_type": "display_data"
    },
    {
     "data": {
      "text/html": [
       "<pre>+-------------------------------------+------------------+-----------------+</pre>"
      ],
      "text/plain": [
       "+-------------------------------------+------------------+-----------------+"
      ]
     },
     "metadata": {},
     "output_type": "display_data"
    },
    {
     "data": {
      "text/html": [
       "<pre>| 143.25ms                            | 0                | 0               |</pre>"
      ],
      "text/plain": [
       "| 143.25ms                            | 0                | 0               |"
      ]
     },
     "metadata": {},
     "output_type": "display_data"
    },
    {
     "data": {
      "text/html": [
       "<pre>| 450.396ms                           | 100              | 1269            |</pre>"
      ],
      "text/plain": [
       "| 450.396ms                           | 100              | 1269            |"
      ]
     },
     "metadata": {},
     "output_type": "display_data"
    },
    {
     "data": {
      "text/html": [
       "<pre>+-------------------------------------+------------------+-----------------+</pre>"
      ],
      "text/plain": [
       "+-------------------------------------+------------------+-----------------+"
      ]
     },
     "metadata": {},
     "output_type": "display_data"
    },
    {
     "data": {
      "text/html": [
       "<pre>Finalizing lookup tables.</pre>"
      ],
      "text/plain": [
       "Finalizing lookup tables."
      ]
     },
     "metadata": {},
     "output_type": "display_data"
    },
    {
     "data": {
      "text/html": [
       "<pre>Generating candidate set for working with new users.</pre>"
      ],
      "text/plain": [
       "Generating candidate set for working with new users."
      ]
     },
     "metadata": {},
     "output_type": "display_data"
    },
    {
     "data": {
      "text/html": [
       "<pre>Finished training in 0.654678s</pre>"
      ],
      "text/plain": [
       "Finished training in 0.654678s"
      ]
     },
     "metadata": {},
     "output_type": "display_data"
    },
    {
     "name": "stdout",
     "output_type": "stream",
     "text": [
      "+----------+-------------------------------+-----------------------+------+\n",
      "|  CLI_ID  |            LIBELLE            |         score         | rank |\n",
      "+----------+-------------------------------+-----------------------+------+\n",
      "| 1490281  |    GD JDM4 ORANGE FL 200ML    | 0.0018410086631774902 |  1   |\n",
      "| 1490281  |   GD JDM4 CIT VERT FL 200ML   | 0.0017633289098739624 |  2   |\n",
      "| 1490281  |    GD JDM4 GRENADE FL200ML    | 0.0017622560262680054 |  3   |\n",
      "| 1490281  |  GD FL200ML JDM PAMPLEMOUSSE  |  0.001591503620147705 |  4   |\n",
      "| 1490281  |     GD JDM4 LOTUS FL200ML     | 0.0009731054306030273 |  5   |\n",
      "| 1490281  |    GD JDM4 THE VERT FL200ML   | 0.0008880198001861572 |  6   |\n",
      "| 1490281  | GD JDM4 LAVANDIN DE PROVEN... | 0.0008757859468460083 |  7   |\n",
      "| 1490281  |    CD JDM4 COTON  FL 200ML    | 0.0007579028606414795 |  8   |\n",
      "| 1490281  |  CD JDM4 RIZ VIOLET FL200 ML  |  0.000745922327041626 |  9   |\n",
      "| 1490281  |   CD JDM4 MAGNOLIA FL 200ML   | 0.0004649162292480469 |  10  |\n",
      "| 13290776 |    UMAJ GD MUGUET FL 200ML    |  0.004097962379455566 |  1   |\n",
      "| 13290776 |       GD ROSE FP FL200ML      | 0.0037126898765563964 |  2   |\n",
      "| 13290776 |   UMAJ LAIT MUGUET FL 200ML   |  0.003688180446624756 |  3   |\n",
      "| 13290776 | CREME MAINS VANILLE PN2 FP... | 0.0031189680099487304 |  4   |\n",
      "| 13290776 | EDT UN MATIN AU JARDIN 20M... |  0.002943098545074463 |  5   |\n",
      "| 13290776 |   UMAJ GD CERISIERS FL200ML   | 0.0026018619537353516 |  6   |\n",
      "| 13290776 |  CREME MAINS OLIVE PN2 200ML  | 0.0023847222328186035 |  7   |\n",
      "| 13290776 |   GEL DOUCHE ETE 2014 200 ML  |  0.002099716663360596 |  8   |\n",
      "| 13290776 |    GD AGRUMES FP FL 200 ML    | 0.0018354892730712891 |  9   |\n",
      "| 13290776 |        2010 KIT MAQ PDR       | 0.0016795754432678222 |  10  |\n",
      "| 20163348 |       BD MURE PN2 FL50ML      |          0.0          |  1   |\n",
      "| 20163348 | CR ANTIAGE NT ELIXIR7.9 P40ml |          0.0          |  2   |\n",
      "| 20163348 |    LINGETTES CALMILLE 2013    |          0.0          |  3   |\n",
      "| 20163348 |   D LOTUS DU LAOS JDM3 200ML  |          0.0          |  4   |\n",
      "| 20163348 |  CR ANT/ROUG B/SP AC.SENS P50 |          0.0          |  5   |\n",
      "| 20163348 |  SVC REPARATION MASQUE 150ml  |          0.0          |  6   |\n",
      "| 20163348 |  SVC REPARATION AP SH 150 ML  |          0.0          |  7   |\n",
      "| 20163348 |     GD JDM4 LOTUS FL200ML     |          0.0          |  8   |\n",
      "| 20163348 | 2013 GD PARFUME F200 ML EV... |          0.0          |  9   |\n",
      "| 20163348 |        2010 KIT MAQ PDR       |          0.0          |  10  |\n",
      "+----------+-------------------------------+-----------------------+------+\n",
      "[1110 rows x 4 columns]\n",
      "\n"
     ]
    }
   ],
   "source": [
    "final_model = tc.item_similarity_recommender.create(tc.SFrame(data_norm), \n",
    "                                            user_id=user_id, \n",
    "                                            item_id=item_id, \n",
    "                                            target='scaled_purchase_freq', similarity_type='cosine')\n",
    "recom = final_model.recommend(users=users_to_recommend, k=n_rec)\n",
    "recom.print_rows(n_display)"
   ]
  },
  {
   "cell_type": "markdown",
   "metadata": {},
   "source": [
    "# Recommendation Function"
   ]
  },
  {
   "cell_type": "code",
   "execution_count": 69,
   "metadata": {},
   "outputs": [
    {
     "name": "stdout",
     "output_type": "stream",
     "text": [
      "(111, 1)\n"
     ]
    },
    {
     "data": {
      "text/html": [
       "<div>\n",
       "<style scoped>\n",
       "    .dataframe tbody tr th:only-of-type {\n",
       "        vertical-align: middle;\n",
       "    }\n",
       "\n",
       "    .dataframe tbody tr th {\n",
       "        vertical-align: top;\n",
       "    }\n",
       "\n",
       "    .dataframe thead th {\n",
       "        text-align: right;\n",
       "    }\n",
       "</style>\n",
       "<table border=\"1\" class=\"dataframe\">\n",
       "  <thead>\n",
       "    <tr style=\"text-align: right;\">\n",
       "      <th></th>\n",
       "      <th>recommendedProducts</th>\n",
       "    </tr>\n",
       "    <tr>\n",
       "      <th>CLI_ID</th>\n",
       "      <th></th>\n",
       "    </tr>\n",
       "  </thead>\n",
       "  <tbody>\n",
       "    <tr>\n",
       "      <th>1490281</th>\n",
       "      <td>FDT PINCEAU ECLAT CLAIR CN3 15|DEO BILLE JDM L...</td>\n",
       "    </tr>\n",
       "    <tr>\n",
       "      <th>13290776</th>\n",
       "      <td>FDT PINCEAU ECLAT CLAIR CN3 15|DEO BILLE JDM L...</td>\n",
       "    </tr>\n",
       "    <tr>\n",
       "      <th>20163348</th>\n",
       "      <td>FDT PINCEAU ECLAT CLAIR CN3 15|DEO BILLE JDM L...</td>\n",
       "    </tr>\n",
       "    <tr>\n",
       "      <th>20200041</th>\n",
       "      <td>FDT PINCEAU ECLAT CLAIR CN3 15|DEO BILLE JDM L...</td>\n",
       "    </tr>\n",
       "    <tr>\n",
       "      <th>20561854</th>\n",
       "      <td>FDT PINCEAU ECLAT CLAIR CN3 15|DEO BILLE JDM L...</td>\n",
       "    </tr>\n",
       "  </tbody>\n",
       "</table>\n",
       "</div>"
      ],
      "text/plain": [
       "                                        recommendedProducts\n",
       "CLI_ID                                                     \n",
       "1490281   FDT PINCEAU ECLAT CLAIR CN3 15|DEO BILLE JDM L...\n",
       "13290776  FDT PINCEAU ECLAT CLAIR CN3 15|DEO BILLE JDM L...\n",
       "20163348  FDT PINCEAU ECLAT CLAIR CN3 15|DEO BILLE JDM L...\n",
       "20200041  FDT PINCEAU ECLAT CLAIR CN3 15|DEO BILLE JDM L...\n",
       "20561854  FDT PINCEAU ECLAT CLAIR CN3 15|DEO BILLE JDM L..."
      ]
     },
     "execution_count": 69,
     "metadata": {},
     "output_type": "execute_result"
    }
   ],
   "source": [
    "def create_output(model, users_to_recommend, n_rec, print_csv=False):\n",
    "    recomendation = model.recommend(users=users_to_recommend, k=n_rec)\n",
    "    df_rec = recomendation.to_dataframe()\n",
    "    df_rec['recommendedProducts'] = df_rec.groupby([user_id])[item_id] \\\n",
    "        .transform(lambda x: '|'.join(x.astype(str)))\n",
    "    df_output = df_rec[['CLI_ID', 'recommendedProducts']].drop_duplicates() \\\n",
    "        .sort_values('CLI_ID').set_index('CLI_ID')\n",
    "    return df_output\n",
    "\n",
    "def customer_recomendation(customer_id):\n",
    "    if customer_id not in df_output.index:\n",
    "        print('Customer not found.')\n",
    "        return customer_id\n",
    "    return df_output.loc[customer_id]\n",
    "\n",
    "df_output = create_output(pear_norm, users_to_recommend, n_rec, print_csv=False)\n",
    "print(df_output.shape)\n",
    "df_output.head()\n",
    "\n"
   ]
  },
  {
   "cell_type": "code",
   "execution_count": 70,
   "metadata": {},
   "outputs": [
    {
     "data": {
      "text/plain": [
       "recommendedProducts    FDT PINCEAU ECLAT CLAIR CN3 15|DEO BILLE JDM L...\n",
       "Name: 1490281, dtype: object"
      ]
     },
     "execution_count": 70,
     "metadata": {},
     "output_type": "execute_result"
    }
   ],
   "source": [
    "recommendations = customer_recomendation(1490281)"
   ]
  },
  {
   "cell_type": "code",
   "execution_count": null,
   "metadata": {},
   "outputs": [],
   "source": [
    "recommendationsList = recommendations.values[0].split('|')\n",
    "recommendationsList"
   ]
  }
 ],
 "metadata": {
  "interpreter": {
   "hash": "babea5e806e46c02c72a4cf391552dbbfc58445451b528ab4fe02c056978cc89"
  },
  "kernelspec": {
   "display_name": "Python 3.7.4 64-bit ('3.7.4': pyenv)",
   "name": "python3"
  },
  "language_info": {
   "codemirror_mode": {
    "name": "ipython",
    "version": 3
   },
   "file_extension": ".py",
   "mimetype": "text/x-python",
   "name": "python",
   "nbconvert_exporter": "python",
   "pygments_lexer": "ipython3",
   "version": "3.7.4"
  },
  "orig_nbformat": 4
 },
 "nbformat": 4,
 "nbformat_minor": 2
}
